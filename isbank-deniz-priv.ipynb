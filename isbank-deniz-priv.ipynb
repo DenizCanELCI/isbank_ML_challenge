{
 "cells": [
  {
   "cell_type": "code",
   "execution_count": 1,
   "id": "0b4c6248",
   "metadata": {
    "_cell_guid": "b1076dfc-b9ad-4769-8c92-a6c4dae69d19",
    "_uuid": "8f2839f25d086af736a60e9eeb907d3b93b6e0e5",
    "execution": {
     "iopub.execute_input": "2023-10-13T21:48:21.018763Z",
     "iopub.status.busy": "2023-10-13T21:48:21.018392Z",
     "iopub.status.idle": "2023-10-13T21:48:32.757681Z",
     "shell.execute_reply": "2023-10-13T21:48:32.756702Z"
    },
    "papermill": {
     "duration": 11.774005,
     "end_time": "2023-10-13T21:48:32.760041",
     "exception": false,
     "start_time": "2023-10-13T21:48:20.986036",
     "status": "completed"
    },
    "tags": []
   },
   "outputs": [
    {
     "name": "stdout",
     "output_type": "stream",
     "text": [
      "Collecting fastparquet\r\n",
      "  Downloading fastparquet-2023.8.0-cp310-cp310-manylinux_2_17_x86_64.manylinux2014_x86_64.whl (1.7 MB)\r\n",
      "\u001b[2K     \u001b[90m━━━━━━━━━━━━━━━━━━━━━━━━━━━━━━━━━━━━━━━━\u001b[0m \u001b[32m1.7/1.7 MB\u001b[0m \u001b[31m21.3 MB/s\u001b[0m eta \u001b[36m0:00:00\u001b[0m\r\n",
      "\u001b[?25hRequirement already satisfied: pandas>=1.5.0 in /opt/conda/lib/python3.10/site-packages (from fastparquet) (2.0.3)\r\n",
      "Requirement already satisfied: numpy>=1.20.3 in /opt/conda/lib/python3.10/site-packages (from fastparquet) (1.23.5)\r\n",
      "Collecting cramjam>=2.3 (from fastparquet)\r\n",
      "  Downloading cramjam-2.7.0-cp310-cp310-manylinux_2_17_x86_64.manylinux2014_x86_64.whl (1.6 MB)\r\n",
      "\u001b[2K     \u001b[90m━━━━━━━━━━━━━━━━━━━━━━━━━━━━━━━━━━━━━━━━\u001b[0m \u001b[32m1.6/1.6 MB\u001b[0m \u001b[31m32.5 MB/s\u001b[0m eta \u001b[36m0:00:00\u001b[0m\r\n",
      "\u001b[?25hRequirement already satisfied: fsspec in /opt/conda/lib/python3.10/site-packages (from fastparquet) (2023.9.0)\r\n",
      "Requirement already satisfied: packaging in /opt/conda/lib/python3.10/site-packages (from fastparquet) (21.3)\r\n",
      "Requirement already satisfied: python-dateutil>=2.8.2 in /opt/conda/lib/python3.10/site-packages (from pandas>=1.5.0->fastparquet) (2.8.2)\r\n",
      "Requirement already satisfied: pytz>=2020.1 in /opt/conda/lib/python3.10/site-packages (from pandas>=1.5.0->fastparquet) (2023.3)\r\n",
      "Requirement already satisfied: tzdata>=2022.1 in /opt/conda/lib/python3.10/site-packages (from pandas>=1.5.0->fastparquet) (2023.3)\r\n",
      "Requirement already satisfied: pyparsing!=3.0.5,>=2.0.2 in /opt/conda/lib/python3.10/site-packages (from packaging->fastparquet) (3.0.9)\r\n",
      "Requirement already satisfied: six>=1.5 in /opt/conda/lib/python3.10/site-packages (from python-dateutil>=2.8.2->pandas>=1.5.0->fastparquet) (1.16.0)\r\n",
      "Installing collected packages: cramjam, fastparquet\r\n",
      "Successfully installed cramjam-2.7.0 fastparquet-2023.8.0\r\n"
     ]
    }
   ],
   "source": [
    "!pip install fastparquet"
   ]
  },
  {
   "cell_type": "code",
   "execution_count": 2,
   "id": "8fab2b46",
   "metadata": {
    "execution": {
     "iopub.execute_input": "2023-10-13T21:48:32.820456Z",
     "iopub.status.busy": "2023-10-13T21:48:32.820089Z",
     "iopub.status.idle": "2023-10-13T21:48:35.391103Z",
     "shell.execute_reply": "2023-10-13T21:48:35.389905Z"
    },
    "papermill": {
     "duration": 2.60442,
     "end_time": "2023-10-13T21:48:35.393836",
     "exception": false,
     "start_time": "2023-10-13T21:48:32.789416",
     "status": "completed"
    },
    "tags": []
   },
   "outputs": [],
   "source": [
    "import pandas as pd\n",
    "import numpy as np\n",
    "import seaborn as sns\n",
    "import matplotlib.pyplot as plt\n",
    "from collections import Counter\n",
    "from sklearn.preprocessing import StandardScaler, LabelEncoder\n",
    "from sklearn.neighbors import LocalOutlierFactor\n",
    "import matplotlib.pyplot as plt\n",
    "from scipy import stats\n",
    "from sklearn.model_selection import train_test_split\n",
    "import xgboost as xgb\n",
    "from sklearn.metrics import mean_squared_error\n",
    "from sklearn.datasets import make_regression\n",
    "from sklearn.preprocessing import MinMaxScaler\n",
    "import os\n",
    "pd.set_option('display.max_rows', 50)"
   ]
  },
  {
   "cell_type": "code",
   "execution_count": 3,
   "id": "3bff7b3a",
   "metadata": {
    "execution": {
     "iopub.execute_input": "2023-10-13T21:48:35.513639Z",
     "iopub.status.busy": "2023-10-13T21:48:35.512741Z",
     "iopub.status.idle": "2023-10-13T21:48:36.173489Z",
     "shell.execute_reply": "2023-10-13T21:48:36.172418Z"
    },
    "papermill": {
     "duration": 0.693979,
     "end_time": "2023-10-13T21:48:36.176016",
     "exception": false,
     "start_time": "2023-10-13T21:48:35.482037",
     "status": "completed"
    },
    "tags": []
   },
   "outputs": [],
   "source": [
    "from fastparquet import ParquetFile\n",
    "\n",
    "# Parquet File okuma\n",
    "pf = ParquetFile(\"/kaggle/input/turkiye-is-bankasi-ml-challenge-5/train_final.parquet\")\n",
    "\n",
    "# Bir pandas dataFrame'ine dönüştürme\n",
    "dataFrame = pf.to_pandas()\n",
    "\n",
    "#Csv olarak kaydetme\n",
    "#dataFrame.to_csv(\"train_final.csv\", index = False)"
   ]
  },
  {
   "cell_type": "code",
   "execution_count": 4,
   "id": "555cf33a",
   "metadata": {
    "execution": {
     "iopub.execute_input": "2023-10-13T21:48:36.236216Z",
     "iopub.status.busy": "2023-10-13T21:48:36.235526Z",
     "iopub.status.idle": "2023-10-13T21:48:36.325891Z",
     "shell.execute_reply": "2023-10-13T21:48:36.324934Z"
    },
    "papermill": {
     "duration": 0.122887,
     "end_time": "2023-10-13T21:48:36.328233",
     "exception": false,
     "start_time": "2023-10-13T21:48:36.205346",
     "status": "completed"
    },
    "tags": []
   },
   "outputs": [],
   "source": [
    "# Parquet File okuma - test için!\n",
    "pf_test = ParquetFile(\"/kaggle/input/turkiye-is-bankasi-ml-challenge-5/test_final.parquet\")\n",
    "\n",
    "# Bir pandas dataFrame'ine dönüştürme\n",
    "df_test = pf_test.to_pandas()\n",
    "\n",
    "#Csv olarak kaydetme\n",
    "#dataFrame.to_csv(\"train_final.csv\", index = False)"
   ]
  },
  {
   "cell_type": "code",
   "execution_count": 5,
   "id": "9f565473",
   "metadata": {
    "execution": {
     "iopub.execute_input": "2023-10-13T21:48:36.388259Z",
     "iopub.status.busy": "2023-10-13T21:48:36.387875Z",
     "iopub.status.idle": "2023-10-13T21:48:36.392448Z",
     "shell.execute_reply": "2023-10-13T21:48:36.391246Z"
    },
    "papermill": {
     "duration": 0.037064,
     "end_time": "2023-10-13T21:48:36.394466",
     "exception": false,
     "start_time": "2023-10-13T21:48:36.357402",
     "status": "completed"
    },
    "tags": []
   },
   "outputs": [],
   "source": [
    "#dataFrame.shape"
   ]
  },
  {
   "cell_type": "code",
   "execution_count": 6,
   "id": "c216f8aa",
   "metadata": {
    "execution": {
     "iopub.execute_input": "2023-10-13T21:48:36.454321Z",
     "iopub.status.busy": "2023-10-13T21:48:36.453633Z",
     "iopub.status.idle": "2023-10-13T21:48:36.458145Z",
     "shell.execute_reply": "2023-10-13T21:48:36.457363Z"
    },
    "papermill": {
     "duration": 0.036613,
     "end_time": "2023-10-13T21:48:36.460171",
     "exception": false,
     "start_time": "2023-10-13T21:48:36.423558",
     "status": "completed"
    },
    "tags": []
   },
   "outputs": [],
   "source": [
    "#dataFrame.head(10)"
   ]
  },
  {
   "cell_type": "code",
   "execution_count": 7,
   "id": "e5f9a597",
   "metadata": {
    "execution": {
     "iopub.execute_input": "2023-10-13T21:48:36.520289Z",
     "iopub.status.busy": "2023-10-13T21:48:36.519954Z",
     "iopub.status.idle": "2023-10-13T21:48:36.524042Z",
     "shell.execute_reply": "2023-10-13T21:48:36.522984Z"
    },
    "papermill": {
     "duration": 0.0367,
     "end_time": "2023-10-13T21:48:36.525995",
     "exception": false,
     "start_time": "2023-10-13T21:48:36.489295",
     "status": "completed"
    },
    "tags": []
   },
   "outputs": [],
   "source": [
    "#dataFrame.info()"
   ]
  },
  {
   "cell_type": "markdown",
   "id": "18e27f9f",
   "metadata": {
    "execution": {
     "iopub.execute_input": "2023-10-07T16:48:31.175995Z",
     "iopub.status.busy": "2023-10-07T16:48:31.175594Z",
     "iopub.status.idle": "2023-10-07T16:48:31.493921Z",
     "shell.execute_reply": "2023-10-07T16:48:31.492920Z",
     "shell.execute_reply.started": "2023-10-07T16:48:31.175970Z"
    },
    "papermill": {
     "duration": 0.029501,
     "end_time": "2023-10-13T21:48:36.586374",
     "exception": false,
     "start_time": "2023-10-13T21:48:36.556873",
     "status": "completed"
    },
    "tags": []
   },
   "source": [
    "### dataFrame.describe().T #verimizin sayısal dağılımına bakıyoruz"
   ]
  },
  {
   "cell_type": "code",
   "execution_count": 8,
   "id": "cdf7fc46",
   "metadata": {
    "execution": {
     "iopub.execute_input": "2023-10-13T21:48:36.647112Z",
     "iopub.status.busy": "2023-10-13T21:48:36.646273Z",
     "iopub.status.idle": "2023-10-13T21:48:36.650834Z",
     "shell.execute_reply": "2023-10-13T21:48:36.649835Z"
    },
    "papermill": {
     "duration": 0.036785,
     "end_time": "2023-10-13T21:48:36.652765",
     "exception": false,
     "start_time": "2023-10-13T21:48:36.615980",
     "status": "completed"
    },
    "tags": []
   },
   "outputs": [],
   "source": [
    "#dataFrame.isnull().sum() #null değer yok"
   ]
  },
  {
   "cell_type": "code",
   "execution_count": 9,
   "id": "a54df551",
   "metadata": {
    "execution": {
     "iopub.execute_input": "2023-10-13T21:48:36.714392Z",
     "iopub.status.busy": "2023-10-13T21:48:36.713200Z",
     "iopub.status.idle": "2023-10-13T21:48:36.718144Z",
     "shell.execute_reply": "2023-10-13T21:48:36.717090Z"
    },
    "papermill": {
     "duration": 0.037753,
     "end_time": "2023-10-13T21:48:36.719978",
     "exception": false,
     "start_time": "2023-10-13T21:48:36.682225",
     "status": "completed"
    },
    "tags": []
   },
   "outputs": [],
   "source": [
    "#dataFrame.isna().sum() # NA değer yok!"
   ]
  },
  {
   "cell_type": "code",
   "execution_count": 10,
   "id": "e8571ac0",
   "metadata": {
    "execution": {
     "iopub.execute_input": "2023-10-13T21:48:36.781835Z",
     "iopub.status.busy": "2023-10-13T21:48:36.781141Z",
     "iopub.status.idle": "2023-10-13T21:48:36.788128Z",
     "shell.execute_reply": "2023-10-13T21:48:36.787078Z"
    },
    "papermill": {
     "duration": 0.040401,
     "end_time": "2023-10-13T21:48:36.790516",
     "exception": false,
     "start_time": "2023-10-13T21:48:36.750115",
     "status": "completed"
    },
    "tags": []
   },
   "outputs": [
    {
     "data": {
      "text/plain": [
       "'\\nfor i in range(20):\\n    plt.figure(figsize=(10, 5))  \\n    for j in range(10*i, 10*(i+1)):\\n        col = \\'feature_{}\\'.format(j)\\n        sns.distplot(dataFrame[col], label=col, hist=False)\\n    \\n    plt.legend()\\n    plt.xlabel(\"Value\")\\n    plt.title(f\"Feature Distributions for Features {10*i} to {10*(i+1)-1}\")\\n    plt.show() '"
      ]
     },
     "execution_count": 10,
     "metadata": {},
     "output_type": "execute_result"
    }
   ],
   "source": [
    "\"\"\"\n",
    "for i in range(20):\n",
    "    plt.figure(figsize=(10, 5))  \n",
    "    for j in range(10*i, 10*(i+1)):\n",
    "        col = 'feature_{}'.format(j)\n",
    "        sns.distplot(dataFrame[col], label=col, hist=False)\n",
    "    \n",
    "    plt.legend()\n",
    "    plt.xlabel(\"Value\")\n",
    "    plt.title(f\"Feature Distributions for Features {10*i} to {10*(i+1)-1}\")\n",
    "    plt.show() \"\"\"\n"
   ]
  },
  {
   "cell_type": "code",
   "execution_count": 11,
   "id": "d700f701",
   "metadata": {
    "execution": {
     "iopub.execute_input": "2023-10-13T21:48:36.851870Z",
     "iopub.status.busy": "2023-10-13T21:48:36.851158Z",
     "iopub.status.idle": "2023-10-13T21:48:36.856110Z",
     "shell.execute_reply": "2023-10-13T21:48:36.855119Z"
    },
    "papermill": {
     "duration": 0.037899,
     "end_time": "2023-10-13T21:48:36.858160",
     "exception": false,
     "start_time": "2023-10-13T21:48:36.820261",
     "status": "completed"
    },
    "tags": []
   },
   "outputs": [],
   "source": [
    "#alpha = 0.05  \n",
    "\n",
    "#for j in range(46):\n",
    "    #col = 'feature_{}'.format(j)\n",
    "    #stat, p = stats.shapiro(dataFrame[col])\n",
    "    #if p > alpha:\n",
    "        #print(f\"{col}: Veri normal dağılıma uyar (p = {p:.4f})\")\n",
    "    #else:\n",
    "        #print(f\"{col}: Veri normal dağılıma uymaz (p = {p:.4f})\")"
   ]
  },
  {
   "cell_type": "code",
   "execution_count": 12,
   "id": "8e2f8bcd",
   "metadata": {
    "execution": {
     "iopub.execute_input": "2023-10-13T21:48:36.919812Z",
     "iopub.status.busy": "2023-10-13T21:48:36.919410Z",
     "iopub.status.idle": "2023-10-13T21:48:36.923130Z",
     "shell.execute_reply": "2023-10-13T21:48:36.922372Z"
    },
    "papermill": {
     "duration": 0.036735,
     "end_time": "2023-10-13T21:48:36.924863",
     "exception": false,
     "start_time": "2023-10-13T21:48:36.888128",
     "status": "completed"
    },
    "tags": []
   },
   "outputs": [],
   "source": [
    "#cat_cols = [col for col in dataFrame.columns if str(dataFrame[col].dtypes) in [\"category\", \"object\", \"bool\"]]\n",
    "#dataFrame[cat_cols]"
   ]
  },
  {
   "cell_type": "code",
   "execution_count": 13,
   "id": "f678ce65",
   "metadata": {
    "execution": {
     "iopub.execute_input": "2023-10-13T21:48:36.987412Z",
     "iopub.status.busy": "2023-10-13T21:48:36.986795Z",
     "iopub.status.idle": "2023-10-13T21:48:36.991043Z",
     "shell.execute_reply": "2023-10-13T21:48:36.989801Z"
    },
    "papermill": {
     "duration": 0.038057,
     "end_time": "2023-10-13T21:48:36.993243",
     "exception": false,
     "start_time": "2023-10-13T21:48:36.955186",
     "status": "completed"
    },
    "tags": []
   },
   "outputs": [],
   "source": [
    "#num_but_cat = [col for col in dataFrame.columns if dataFrame[col].nunique() < 10 and dataFrame[col].dtypes in [\"int\", \"float\", \"int64\", \"float64\"]]\n",
    "#dataFrame[num_but_cat]"
   ]
  },
  {
   "cell_type": "code",
   "execution_count": 14,
   "id": "3429756a",
   "metadata": {
    "execution": {
     "iopub.execute_input": "2023-10-13T21:48:37.054027Z",
     "iopub.status.busy": "2023-10-13T21:48:37.053299Z",
     "iopub.status.idle": "2023-10-13T21:48:37.057703Z",
     "shell.execute_reply": "2023-10-13T21:48:37.056973Z"
    },
    "papermill": {
     "duration": 0.036909,
     "end_time": "2023-10-13T21:48:37.059675",
     "exception": false,
     "start_time": "2023-10-13T21:48:37.022766",
     "status": "completed"
    },
    "tags": []
   },
   "outputs": [],
   "source": [
    "#dataFrame['carrier'].unique()"
   ]
  },
  {
   "cell_type": "code",
   "execution_count": 15,
   "id": "7898a8c5",
   "metadata": {
    "execution": {
     "iopub.execute_input": "2023-10-13T21:48:37.122009Z",
     "iopub.status.busy": "2023-10-13T21:48:37.120917Z",
     "iopub.status.idle": "2023-10-13T21:48:37.125796Z",
     "shell.execute_reply": "2023-10-13T21:48:37.124999Z"
    },
    "papermill": {
     "duration": 0.037572,
     "end_time": "2023-10-13T21:48:37.127792",
     "exception": false,
     "start_time": "2023-10-13T21:48:37.090220",
     "status": "completed"
    },
    "tags": []
   },
   "outputs": [],
   "source": [
    "#dataFrame['carrier'].nunique()"
   ]
  },
  {
   "cell_type": "code",
   "execution_count": 16,
   "id": "75b554d7",
   "metadata": {
    "execution": {
     "iopub.execute_input": "2023-10-13T21:48:37.189966Z",
     "iopub.status.busy": "2023-10-13T21:48:37.189099Z",
     "iopub.status.idle": "2023-10-13T21:48:37.193516Z",
     "shell.execute_reply": "2023-10-13T21:48:37.192649Z"
    },
    "papermill": {
     "duration": 0.03829,
     "end_time": "2023-10-13T21:48:37.195391",
     "exception": false,
     "start_time": "2023-10-13T21:48:37.157101",
     "status": "completed"
    },
    "tags": []
   },
   "outputs": [],
   "source": [
    "#dataFrame['devicebrand'].unique()"
   ]
  },
  {
   "cell_type": "code",
   "execution_count": 17,
   "id": "daa82e34",
   "metadata": {
    "execution": {
     "iopub.execute_input": "2023-10-13T21:48:37.259095Z",
     "iopub.status.busy": "2023-10-13T21:48:37.257864Z",
     "iopub.status.idle": "2023-10-13T21:48:37.262591Z",
     "shell.execute_reply": "2023-10-13T21:48:37.261677Z"
    },
    "papermill": {
     "duration": 0.039788,
     "end_time": "2023-10-13T21:48:37.264703",
     "exception": false,
     "start_time": "2023-10-13T21:48:37.224915",
     "status": "completed"
    },
    "tags": []
   },
   "outputs": [],
   "source": [
    "#dataFrame['devicebrand'].nunique()"
   ]
  },
  {
   "cell_type": "code",
   "execution_count": 18,
   "id": "0c8d7ec1",
   "metadata": {
    "execution": {
     "iopub.execute_input": "2023-10-13T21:48:37.326900Z",
     "iopub.status.busy": "2023-10-13T21:48:37.326207Z",
     "iopub.status.idle": "2023-10-13T21:48:37.329997Z",
     "shell.execute_reply": "2023-10-13T21:48:37.329300Z"
    },
    "papermill": {
     "duration": 0.036989,
     "end_time": "2023-10-13T21:48:37.332287",
     "exception": false,
     "start_time": "2023-10-13T21:48:37.295298",
     "status": "completed"
    },
    "tags": []
   },
   "outputs": [],
   "source": [
    "#plt.figure(figsize=(10, 6))\n",
    "#plt.bar(dataFrame['month'], dataFrame['n_seconds_1'], label='n_seconds_1')\n",
    "#plt.bar(dataFrame['month'], dataFrame['n_seconds_2'], label='n_seconds_2', alpha=0.5)\n",
    "#plt.bar(dataFrame['month'], dataFrame['n_seconds_3'], label='n_seconds_3', alpha=0.5)\n",
    "\n",
    "#plt.title('Time Spent by Month')\n",
    "#plt.xlabel('Month')\n",
    "#plt.ylabel('Time (Seconds)')\n",
    "#plt.legend()\n",
    "\n",
    "#plt.tight_layout()\n",
    "#plt.show()"
   ]
  },
  {
   "cell_type": "code",
   "execution_count": 19,
   "id": "09e58442",
   "metadata": {
    "execution": {
     "iopub.execute_input": "2023-10-13T21:48:37.393893Z",
     "iopub.status.busy": "2023-10-13T21:48:37.393191Z",
     "iopub.status.idle": "2023-10-13T21:48:37.396815Z",
     "shell.execute_reply": "2023-10-13T21:48:37.396084Z"
    },
    "papermill": {
     "duration": 0.036674,
     "end_time": "2023-10-13T21:48:37.398608",
     "exception": false,
     "start_time": "2023-10-13T21:48:37.361934",
     "status": "completed"
    },
    "tags": []
   },
   "outputs": [],
   "source": [
    "# count the frequency of each category value\n",
    "#counts = dataFrame['carrier'].value_counts()\n",
    "\n",
    "# plot the pie chart\n",
    "#plt.pie(counts, labels=counts.index, autopct='%1.1f%%')\n",
    "#plt.show()"
   ]
  },
  {
   "cell_type": "code",
   "execution_count": 20,
   "id": "d26456d3",
   "metadata": {
    "execution": {
     "iopub.execute_input": "2023-10-13T21:48:37.459121Z",
     "iopub.status.busy": "2023-10-13T21:48:37.458710Z",
     "iopub.status.idle": "2023-10-13T21:48:37.464690Z",
     "shell.execute_reply": "2023-10-13T21:48:37.463441Z"
    },
    "papermill": {
     "duration": 0.038707,
     "end_time": "2023-10-13T21:48:37.466828",
     "exception": false,
     "start_time": "2023-10-13T21:48:37.428121",
     "status": "completed"
    },
    "tags": []
   },
   "outputs": [],
   "source": [
    "carrier_kalanlar = ['TURKCELL', 'VODAFONE TR', 'TURK TELEKOM']"
   ]
  },
  {
   "cell_type": "code",
   "execution_count": 21,
   "id": "9aeb8163",
   "metadata": {
    "execution": {
     "iopub.execute_input": "2023-10-13T21:48:37.530311Z",
     "iopub.status.busy": "2023-10-13T21:48:37.529678Z",
     "iopub.status.idle": "2023-10-13T21:48:37.533349Z",
     "shell.execute_reply": "2023-10-13T21:48:37.532618Z"
    },
    "papermill": {
     "duration": 0.03774,
     "end_time": "2023-10-13T21:48:37.535131",
     "exception": false,
     "start_time": "2023-10-13T21:48:37.497391",
     "status": "completed"
    },
    "tags": []
   },
   "outputs": [],
   "source": [
    "################## Ön işleme ###########################################################################"
   ]
  },
  {
   "cell_type": "code",
   "execution_count": 22,
   "id": "826fa139",
   "metadata": {
    "execution": {
     "iopub.execute_input": "2023-10-13T21:48:37.598750Z",
     "iopub.status.busy": "2023-10-13T21:48:37.597666Z",
     "iopub.status.idle": "2023-10-13T21:48:37.603425Z",
     "shell.execute_reply": "2023-10-13T21:48:37.602297Z"
    },
    "papermill": {
     "duration": 0.038933,
     "end_time": "2023-10-13T21:48:37.605543",
     "exception": false,
     "start_time": "2023-10-13T21:48:37.566610",
     "status": "completed"
    },
    "tags": []
   },
   "outputs": [],
   "source": [
    "#df = dataFrame.copy()"
   ]
  },
  {
   "cell_type": "code",
   "execution_count": 23,
   "id": "38279b85",
   "metadata": {
    "execution": {
     "iopub.execute_input": "2023-10-13T21:48:37.674273Z",
     "iopub.status.busy": "2023-10-13T21:48:37.673100Z",
     "iopub.status.idle": "2023-10-13T21:48:37.679981Z",
     "shell.execute_reply": "2023-10-13T21:48:37.678846Z"
    },
    "papermill": {
     "duration": 0.045383,
     "end_time": "2023-10-13T21:48:37.683192",
     "exception": false,
     "start_time": "2023-10-13T21:48:37.637809",
     "status": "completed"
    },
    "tags": []
   },
   "outputs": [],
   "source": [
    "def carrier_other(carr):\n",
    "    if carr not in carrier_kalanlar:\n",
    "        carr = 'other'\n",
    "    else: pass\n",
    "    \n",
    "    return carr"
   ]
  },
  {
   "cell_type": "code",
   "execution_count": 24,
   "id": "bbf3b6ab",
   "metadata": {
    "execution": {
     "iopub.execute_input": "2023-10-13T21:48:37.747825Z",
     "iopub.status.busy": "2023-10-13T21:48:37.746758Z",
     "iopub.status.idle": "2023-10-13T21:48:37.751424Z",
     "shell.execute_reply": "2023-10-13T21:48:37.750230Z"
    },
    "papermill": {
     "duration": 0.037778,
     "end_time": "2023-10-13T21:48:37.753353",
     "exception": false,
     "start_time": "2023-10-13T21:48:37.715575",
     "status": "completed"
    },
    "tags": []
   },
   "outputs": [],
   "source": [
    "#df['carrier'] = dataFrame['carrier'].apply(carrier_other)"
   ]
  },
  {
   "cell_type": "code",
   "execution_count": 25,
   "id": "7747277e",
   "metadata": {
    "execution": {
     "iopub.execute_input": "2023-10-13T21:48:37.814630Z",
     "iopub.status.busy": "2023-10-13T21:48:37.814238Z",
     "iopub.status.idle": "2023-10-13T21:48:37.818632Z",
     "shell.execute_reply": "2023-10-13T21:48:37.817511Z"
    },
    "papermill": {
     "duration": 0.038301,
     "end_time": "2023-10-13T21:48:37.821005",
     "exception": false,
     "start_time": "2023-10-13T21:48:37.782704",
     "status": "completed"
    },
    "tags": []
   },
   "outputs": [],
   "source": [
    "# count the frequency of each category value\n",
    "#counts = df['carrier'].value_counts()\n",
    "\n",
    "# plot the pie chart\n",
    "#plt.pie(counts, labels=counts.index, autopct='%1.1f%%')\n",
    "#plt.show()"
   ]
  },
  {
   "cell_type": "code",
   "execution_count": 26,
   "id": "deea4d77",
   "metadata": {
    "execution": {
     "iopub.execute_input": "2023-10-13T21:48:37.882482Z",
     "iopub.status.busy": "2023-10-13T21:48:37.881811Z",
     "iopub.status.idle": "2023-10-13T21:48:37.886034Z",
     "shell.execute_reply": "2023-10-13T21:48:37.885081Z"
    },
    "papermill": {
     "duration": 0.037222,
     "end_time": "2023-10-13T21:48:37.888239",
     "exception": false,
     "start_time": "2023-10-13T21:48:37.851017",
     "status": "completed"
    },
    "tags": []
   },
   "outputs": [],
   "source": [
    "# count the frequency of each category value\n",
    "#counts = df['devicebrand'].value_counts()\n",
    "\n",
    "# plot the pie chart\n",
    "#plt.pie(counts, labels=counts.index, autopct='%1.1f%%')\n",
    "#plt.show()"
   ]
  },
  {
   "cell_type": "code",
   "execution_count": 27,
   "id": "d4d042f0",
   "metadata": {
    "execution": {
     "iopub.execute_input": "2023-10-13T21:48:37.949137Z",
     "iopub.status.busy": "2023-10-13T21:48:37.948772Z",
     "iopub.status.idle": "2023-10-13T21:48:37.953568Z",
     "shell.execute_reply": "2023-10-13T21:48:37.952490Z"
    },
    "papermill": {
     "duration": 0.037632,
     "end_time": "2023-10-13T21:48:37.955681",
     "exception": false,
     "start_time": "2023-10-13T21:48:37.918049",
     "status": "completed"
    },
    "tags": []
   },
   "outputs": [],
   "source": [
    "devicebrand_kalanlar = ['Apple', 'samsung', 'Redmi', 'HUAWEI', 'OPPO']"
   ]
  },
  {
   "cell_type": "code",
   "execution_count": 28,
   "id": "b6390c3c",
   "metadata": {
    "execution": {
     "iopub.execute_input": "2023-10-13T21:48:38.016917Z",
     "iopub.status.busy": "2023-10-13T21:48:38.016513Z",
     "iopub.status.idle": "2023-10-13T21:48:38.021105Z",
     "shell.execute_reply": "2023-10-13T21:48:38.020258Z"
    },
    "papermill": {
     "duration": 0.037561,
     "end_time": "2023-10-13T21:48:38.022981",
     "exception": false,
     "start_time": "2023-10-13T21:48:37.985420",
     "status": "completed"
    },
    "tags": []
   },
   "outputs": [],
   "source": [
    "def devicebrand_other(carr):\n",
    "    if carr not in devicebrand_kalanlar:\n",
    "        carr = 'other'\n",
    "    else: pass\n",
    "    \n",
    "    return carr"
   ]
  },
  {
   "cell_type": "code",
   "execution_count": 29,
   "id": "afa3ad3e",
   "metadata": {
    "execution": {
     "iopub.execute_input": "2023-10-13T21:48:38.084542Z",
     "iopub.status.busy": "2023-10-13T21:48:38.083868Z",
     "iopub.status.idle": "2023-10-13T21:48:38.087551Z",
     "shell.execute_reply": "2023-10-13T21:48:38.086825Z"
    },
    "papermill": {
     "duration": 0.036418,
     "end_time": "2023-10-13T21:48:38.089396",
     "exception": false,
     "start_time": "2023-10-13T21:48:38.052978",
     "status": "completed"
    },
    "tags": []
   },
   "outputs": [],
   "source": [
    "#df['devicebrand'] = dataFrame['devicebrand'].apply(devicebrand_other)"
   ]
  },
  {
   "cell_type": "code",
   "execution_count": 30,
   "id": "05477d11",
   "metadata": {
    "execution": {
     "iopub.execute_input": "2023-10-13T21:48:38.150888Z",
     "iopub.status.busy": "2023-10-13T21:48:38.150231Z",
     "iopub.status.idle": "2023-10-13T21:48:38.153774Z",
     "shell.execute_reply": "2023-10-13T21:48:38.153094Z"
    },
    "papermill": {
     "duration": 0.036072,
     "end_time": "2023-10-13T21:48:38.155433",
     "exception": false,
     "start_time": "2023-10-13T21:48:38.119361",
     "status": "completed"
    },
    "tags": []
   },
   "outputs": [],
   "source": [
    "# count the frequency of each category value\n",
    "#counts = df['devicebrand'].value_counts()\n",
    "\n",
    "# plot the pie chart\n",
    "#plt.pie(counts, labels=counts.index, autopct='%1.1f%%')\n",
    "#plt.show()"
   ]
  },
  {
   "cell_type": "code",
   "execution_count": 31,
   "id": "ba0d53c1",
   "metadata": {
    "execution": {
     "iopub.execute_input": "2023-10-13T21:48:38.216489Z",
     "iopub.status.busy": "2023-10-13T21:48:38.215851Z",
     "iopub.status.idle": "2023-10-13T21:48:38.219451Z",
     "shell.execute_reply": "2023-10-13T21:48:38.218679Z"
    },
    "papermill": {
     "duration": 0.035847,
     "end_time": "2023-10-13T21:48:38.221205",
     "exception": false,
     "start_time": "2023-10-13T21:48:38.185358",
     "status": "completed"
    },
    "tags": []
   },
   "outputs": [],
   "source": [
    "#cat_but_car = [col for col in df.columns if\n",
    "        #df[col].nunique() > 20 and str(df[col].dtypes) in [\"category\", \"object\"]]\n",
    "#df[cat_but_car]"
   ]
  },
  {
   "cell_type": "code",
   "execution_count": 32,
   "id": "850a8f6d",
   "metadata": {
    "execution": {
     "iopub.execute_input": "2023-10-13T21:48:38.281571Z",
     "iopub.status.busy": "2023-10-13T21:48:38.280925Z",
     "iopub.status.idle": "2023-10-13T21:48:38.285333Z",
     "shell.execute_reply": "2023-10-13T21:48:38.284133Z"
    },
    "papermill": {
     "duration": 0.036804,
     "end_time": "2023-10-13T21:48:38.287223",
     "exception": false,
     "start_time": "2023-10-13T21:48:38.250419",
     "status": "completed"
    },
    "tags": []
   },
   "outputs": [],
   "source": [
    "#num_but_cat"
   ]
  },
  {
   "cell_type": "code",
   "execution_count": 33,
   "id": "9c89fed7",
   "metadata": {
    "execution": {
     "iopub.execute_input": "2023-10-13T21:48:38.349040Z",
     "iopub.status.busy": "2023-10-13T21:48:38.348027Z",
     "iopub.status.idle": "2023-10-13T21:48:38.352313Z",
     "shell.execute_reply": "2023-10-13T21:48:38.351306Z"
    },
    "papermill": {
     "duration": 0.037227,
     "end_time": "2023-10-13T21:48:38.354492",
     "exception": false,
     "start_time": "2023-10-13T21:48:38.317265",
     "status": "completed"
    },
    "tags": []
   },
   "outputs": [],
   "source": [
    "#df['id'].nunique()"
   ]
  },
  {
   "cell_type": "code",
   "execution_count": 34,
   "id": "6981c63c",
   "metadata": {
    "execution": {
     "iopub.execute_input": "2023-10-13T21:48:38.415103Z",
     "iopub.status.busy": "2023-10-13T21:48:38.414745Z",
     "iopub.status.idle": "2023-10-13T21:48:38.418585Z",
     "shell.execute_reply": "2023-10-13T21:48:38.417798Z"
    },
    "papermill": {
     "duration": 0.036331,
     "end_time": "2023-10-13T21:48:38.420355",
     "exception": false,
     "start_time": "2023-10-13T21:48:38.384024",
     "status": "completed"
    },
    "tags": []
   },
   "outputs": [],
   "source": [
    "#df.shape"
   ]
  },
  {
   "cell_type": "code",
   "execution_count": 35,
   "id": "5cb8fefb",
   "metadata": {
    "execution": {
     "iopub.execute_input": "2023-10-13T21:48:38.482068Z",
     "iopub.status.busy": "2023-10-13T21:48:38.481661Z",
     "iopub.status.idle": "2023-10-13T21:48:38.485687Z",
     "shell.execute_reply": "2023-10-13T21:48:38.484866Z"
    },
    "papermill": {
     "duration": 0.036753,
     "end_time": "2023-10-13T21:48:38.487457",
     "exception": false,
     "start_time": "2023-10-13T21:48:38.450704",
     "status": "completed"
    },
    "tags": []
   },
   "outputs": [],
   "source": [
    "#duplicated_ids = df.shape[0] - df['id'].nunique()\n",
    "#duplicated_ids"
   ]
  },
  {
   "cell_type": "code",
   "execution_count": 36,
   "id": "600cf4f6",
   "metadata": {
    "execution": {
     "iopub.execute_input": "2023-10-13T21:48:38.548409Z",
     "iopub.status.busy": "2023-10-13T21:48:38.547767Z",
     "iopub.status.idle": "2023-10-13T21:48:38.551504Z",
     "shell.execute_reply": "2023-10-13T21:48:38.550711Z"
    },
    "papermill": {
     "duration": 0.036856,
     "end_time": "2023-10-13T21:48:38.553669",
     "exception": false,
     "start_time": "2023-10-13T21:48:38.516813",
     "status": "completed"
    },
    "tags": []
   },
   "outputs": [],
   "source": [
    "# Aynı ayda sadece aynı id nin birden fazla olmadığını görmüş olduk!\n",
    "#df[['id','month']].duplicated().unique()"
   ]
  },
  {
   "cell_type": "code",
   "execution_count": 37,
   "id": "95d9da4c",
   "metadata": {
    "execution": {
     "iopub.execute_input": "2023-10-13T21:48:38.616053Z",
     "iopub.status.busy": "2023-10-13T21:48:38.615667Z",
     "iopub.status.idle": "2023-10-13T21:48:38.619464Z",
     "shell.execute_reply": "2023-10-13T21:48:38.618747Z"
    },
    "papermill": {
     "duration": 0.037241,
     "end_time": "2023-10-13T21:48:38.621318",
     "exception": false,
     "start_time": "2023-10-13T21:48:38.584077",
     "status": "completed"
    },
    "tags": []
   },
   "outputs": [],
   "source": [
    "#cat_cols = cat_cols + num_but_cat\n",
    "#cat_cols = list(set(cat_cols))\n",
    "#cat_cols = [col for col in cat_cols if col not in cat_but_car]\n",
    "#df[cat_cols]"
   ]
  },
  {
   "cell_type": "code",
   "execution_count": 38,
   "id": "ea31c590",
   "metadata": {
    "execution": {
     "iopub.execute_input": "2023-10-13T21:48:38.683620Z",
     "iopub.status.busy": "2023-10-13T21:48:38.682959Z",
     "iopub.status.idle": "2023-10-13T21:48:38.687336Z",
     "shell.execute_reply": "2023-10-13T21:48:38.686064Z"
    },
    "papermill": {
     "duration": 0.038033,
     "end_time": "2023-10-13T21:48:38.689469",
     "exception": false,
     "start_time": "2023-10-13T21:48:38.651436",
     "status": "completed"
    },
    "tags": []
   },
   "outputs": [],
   "source": [
    "#num_cols = [col for col in dataFrame.columns if dataFrame[col].dtypes in [\"int\", \"float\", \"int64\", \"float64\"]]\n",
    "#num_cols = [col for col in num_cols if col not in cat_cols]#"
   ]
  },
  {
   "cell_type": "code",
   "execution_count": 39,
   "id": "bf365b93",
   "metadata": {
    "execution": {
     "iopub.execute_input": "2023-10-13T21:48:38.750210Z",
     "iopub.status.busy": "2023-10-13T21:48:38.749405Z",
     "iopub.status.idle": "2023-10-13T21:48:38.755450Z",
     "shell.execute_reply": "2023-10-13T21:48:38.754440Z"
    },
    "papermill": {
     "duration": 0.038394,
     "end_time": "2023-10-13T21:48:38.757332",
     "exception": false,
     "start_time": "2023-10-13T21:48:38.718938",
     "status": "completed"
    },
    "tags": []
   },
   "outputs": [],
   "source": [
    "def cat_summary(dataframe, col_name, plot=False):\n",
    "    print(pd.DataFrame({col_name: dataframe[col_name].value_counts(),\n",
    "                        \"Ratio\": 100 * dataframe[col_name].value_counts() / len(dataframe)}))\n",
    "    print(\"##################################################\")\n",
    "\n",
    "    if plot:\n",
    "        sns.countplot(x=dataframe[col_name], data=dataframe)\n",
    "        plt.show(block=True)"
   ]
  },
  {
   "cell_type": "code",
   "execution_count": 40,
   "id": "b282247a",
   "metadata": {
    "execution": {
     "iopub.execute_input": "2023-10-13T21:48:38.817768Z",
     "iopub.status.busy": "2023-10-13T21:48:38.817375Z",
     "iopub.status.idle": "2023-10-13T21:48:38.821861Z",
     "shell.execute_reply": "2023-10-13T21:48:38.820738Z"
    },
    "papermill": {
     "duration": 0.036904,
     "end_time": "2023-10-13T21:48:38.823844",
     "exception": false,
     "start_time": "2023-10-13T21:48:38.786940",
     "status": "completed"
    },
    "tags": []
   },
   "outputs": [],
   "source": [
    "#for col in cat_cols:\n",
    "    #cat_summary(dataFrame, col, plot=False)"
   ]
  },
  {
   "cell_type": "code",
   "execution_count": 41,
   "id": "51e2c45f",
   "metadata": {
    "execution": {
     "iopub.execute_input": "2023-10-13T21:48:38.885960Z",
     "iopub.status.busy": "2023-10-13T21:48:38.885564Z",
     "iopub.status.idle": "2023-10-13T21:48:38.892123Z",
     "shell.execute_reply": "2023-10-13T21:48:38.891157Z"
    },
    "papermill": {
     "duration": 0.040021,
     "end_time": "2023-10-13T21:48:38.894094",
     "exception": false,
     "start_time": "2023-10-13T21:48:38.854073",
     "status": "completed"
    },
    "tags": []
   },
   "outputs": [
    {
     "data": {
      "text/plain": [
       "'\\ndef correlation_matrix(df, cols):\\n    fig = plt.gcf()\\n    fig.set_size_inches(10, 8)\\n    plt.xticks(fontsize=10)\\n    plt.yticks(fontsize=10)\\n    fig = sns.heatmap(df[cols].corr(), annot=True, linewidths=0.5, annot_kws={\"size\": 12}, linecolor=\"w\", cmap=\"RdBu\")\\n    plt.show(block=True) '"
      ]
     },
     "execution_count": 41,
     "metadata": {},
     "output_type": "execute_result"
    }
   ],
   "source": [
    "\"\"\"\n",
    "def correlation_matrix(df, cols):\n",
    "    fig = plt.gcf()\n",
    "    fig.set_size_inches(10, 8)\n",
    "    plt.xticks(fontsize=10)\n",
    "    plt.yticks(fontsize=10)\n",
    "    fig = sns.heatmap(df[cols].corr(), annot=True, linewidths=0.5, annot_kws={\"size\": 12}, linecolor=\"w\", cmap=\"RdBu\")\n",
    "    plt.show(block=True) \"\"\""
   ]
  },
  {
   "cell_type": "code",
   "execution_count": 42,
   "id": "ea3c2269",
   "metadata": {
    "execution": {
     "iopub.execute_input": "2023-10-13T21:48:38.955669Z",
     "iopub.status.busy": "2023-10-13T21:48:38.955251Z",
     "iopub.status.idle": "2023-10-13T21:48:38.960049Z",
     "shell.execute_reply": "2023-10-13T21:48:38.958970Z"
    },
    "papermill": {
     "duration": 0.038434,
     "end_time": "2023-10-13T21:48:38.962217",
     "exception": false,
     "start_time": "2023-10-13T21:48:38.923783",
     "status": "completed"
    },
    "tags": []
   },
   "outputs": [],
   "source": [
    "#correlation_matrix(df, num_cols)"
   ]
  },
  {
   "cell_type": "markdown",
   "id": "577c5253",
   "metadata": {
    "papermill": {
     "duration": 0.030311,
     "end_time": "2023-10-13T21:48:39.023056",
     "exception": false,
     "start_time": "2023-10-13T21:48:38.992745",
     "status": "completed"
    },
    "tags": []
   },
   "source": []
  },
  {
   "cell_type": "code",
   "execution_count": 43,
   "id": "b64eaf49",
   "metadata": {
    "execution": {
     "iopub.execute_input": "2023-10-13T21:48:39.085481Z",
     "iopub.status.busy": "2023-10-13T21:48:39.085145Z",
     "iopub.status.idle": "2023-10-13T21:48:39.089765Z",
     "shell.execute_reply": "2023-10-13T21:48:39.088672Z"
    },
    "papermill": {
     "duration": 0.038462,
     "end_time": "2023-10-13T21:48:39.091681",
     "exception": false,
     "start_time": "2023-10-13T21:48:39.053219",
     "status": "completed"
    },
    "tags": []
   },
   "outputs": [],
   "source": [
    "# Creating a cross-tabulation table to show the frequency distribution of 'devicebrand' within each 'carrier'\n",
    "#cross_tab = pd.crosstab(df['carrier'], df['devicebrand'])\n",
    "\n",
    "# Selecting the top 5 most frequent carriers and device brands\n",
    "#top_5_carriers = df['carrier'].value_counts().head(5).index\n",
    "#top_5_device_brands = df['devicebrand'].value_counts().head(5).index\n",
    "\n",
    "# Filtering the data to include only the top 5 carriers and device brands\n",
    "#filtered_data = df[df['carrier'].isin(top_5_carriers) & df['devicebrand'].isin(top_5_device_brands)]\n",
    "\n",
    "# Creating a cross-tabulation table for the filtered data\n",
    "#filtered_cross_tab = pd.crosstab(filtered_data['carrier'], filtered_data['devicebrand'])\n",
    "\n",
    "# Creating a stacked bar chart for the cross-tabulation table\n",
    "#plt.figure(figsize=(12, 8))\n",
    "#filtered_cross_tab.plot(kind='bar', stacked=True, figsize=(12, 8))\n",
    "#plt.title('Operatör Kırılımında Cihaz Dağılımları')\n",
    "#plt.ylabel('Frekans')\n",
    "#plt.xlabel('Operatör')\n",
    "#plt.legend(title='Cihaz Markası')\n",
    "#plt.show()"
   ]
  },
  {
   "cell_type": "code",
   "execution_count": 44,
   "id": "22c4c866",
   "metadata": {
    "execution": {
     "iopub.execute_input": "2023-10-13T21:48:39.154081Z",
     "iopub.status.busy": "2023-10-13T21:48:39.153691Z",
     "iopub.status.idle": "2023-10-13T21:48:39.157731Z",
     "shell.execute_reply": "2023-10-13T21:48:39.156906Z"
    },
    "papermill": {
     "duration": 0.037477,
     "end_time": "2023-10-13T21:48:39.159638",
     "exception": false,
     "start_time": "2023-10-13T21:48:39.122161",
     "status": "completed"
    },
    "tags": []
   },
   "outputs": [],
   "source": [
    "# Drop the month since it doesnt include each month in training data.\n",
    "#df.drop('month',axis=1,inplace=True)\n",
    "#df.columns"
   ]
  },
  {
   "cell_type": "code",
   "execution_count": 45,
   "id": "89b6a5da",
   "metadata": {
    "execution": {
     "iopub.execute_input": "2023-10-13T21:48:39.222060Z",
     "iopub.status.busy": "2023-10-13T21:48:39.221673Z",
     "iopub.status.idle": "2023-10-13T21:48:39.225457Z",
     "shell.execute_reply": "2023-10-13T21:48:39.224672Z"
    },
    "papermill": {
     "duration": 0.036611,
     "end_time": "2023-10-13T21:48:39.227087",
     "exception": false,
     "start_time": "2023-10-13T21:48:39.190476",
     "status": "completed"
    },
    "tags": []
   },
   "outputs": [],
   "source": [
    "#cat_cols.remove('month')"
   ]
  },
  {
   "cell_type": "code",
   "execution_count": 46,
   "id": "edd70d0f",
   "metadata": {
    "execution": {
     "iopub.execute_input": "2023-10-13T21:48:39.289158Z",
     "iopub.status.busy": "2023-10-13T21:48:39.288779Z",
     "iopub.status.idle": "2023-10-13T21:48:39.294744Z",
     "shell.execute_reply": "2023-10-13T21:48:39.293626Z"
    },
    "papermill": {
     "duration": 0.039442,
     "end_time": "2023-10-13T21:48:39.297082",
     "exception": false,
     "start_time": "2023-10-13T21:48:39.257640",
     "status": "completed"
    },
    "tags": []
   },
   "outputs": [],
   "source": [
    "def outlier_thresholds(dataframe, col_name, q1=0.05, q3=0.95): \n",
    "    q1 = 0.05\n",
    "    q3 = 0.95\n",
    "    quartile1 = dataframe[col_name].quantile(q1)\n",
    "    quartile3 = dataframe[col_name].quantile(q3)\n",
    "    interquantile_range = quartile3 - quartile1\n",
    "    up_limit = quartile3 + 5 * interquantile_range\n",
    "    low_limit = quartile1 - 5 * interquantile_range\n",
    "    return low_limit, up_limit"
   ]
  },
  {
   "cell_type": "code",
   "execution_count": 47,
   "id": "ae2ba495",
   "metadata": {
    "execution": {
     "iopub.execute_input": "2023-10-13T21:48:39.359905Z",
     "iopub.status.busy": "2023-10-13T21:48:39.359512Z",
     "iopub.status.idle": "2023-10-13T21:48:39.364526Z",
     "shell.execute_reply": "2023-10-13T21:48:39.363764Z"
    },
    "papermill": {
     "duration": 0.0391,
     "end_time": "2023-10-13T21:48:39.366504",
     "exception": false,
     "start_time": "2023-10-13T21:48:39.327404",
     "status": "completed"
    },
    "tags": []
   },
   "outputs": [],
   "source": [
    "def replace_with_threshoulds(dataframe, variable):\n",
    "    low_limit, up_limit = outlier_thresholds(dataframe, variable)\n",
    "    dataframe.loc[(dataframe[variable] < low_limit), variable] = low_limit\n",
    "    dataframe.loc[(dataframe[variable] > up_limit), variable] = up_limit"
   ]
  },
  {
   "cell_type": "code",
   "execution_count": 48,
   "id": "9443300b",
   "metadata": {
    "execution": {
     "iopub.execute_input": "2023-10-13T21:48:39.429486Z",
     "iopub.status.busy": "2023-10-13T21:48:39.428964Z",
     "iopub.status.idle": "2023-10-13T21:48:39.432922Z",
     "shell.execute_reply": "2023-10-13T21:48:39.432070Z"
    },
    "papermill": {
     "duration": 0.038091,
     "end_time": "2023-10-13T21:48:39.434894",
     "exception": false,
     "start_time": "2023-10-13T21:48:39.396803",
     "status": "completed"
    },
    "tags": []
   },
   "outputs": [],
   "source": [
    "#df[num_cols]"
   ]
  },
  {
   "cell_type": "code",
   "execution_count": 49,
   "id": "c45291c5",
   "metadata": {
    "execution": {
     "iopub.execute_input": "2023-10-13T21:48:39.496334Z",
     "iopub.status.busy": "2023-10-13T21:48:39.495970Z",
     "iopub.status.idle": "2023-10-13T21:48:39.500452Z",
     "shell.execute_reply": "2023-10-13T21:48:39.499424Z"
    },
    "papermill": {
     "duration": 0.037502,
     "end_time": "2023-10-13T21:48:39.502581",
     "exception": false,
     "start_time": "2023-10-13T21:48:39.465079",
     "status": "completed"
    },
    "tags": []
   },
   "outputs": [],
   "source": [
    "#df['total_seconds'] = df['n_seconds_1']+df['n_seconds_2']+df['n_seconds_3']"
   ]
  },
  {
   "cell_type": "code",
   "execution_count": 50,
   "id": "003a2e19",
   "metadata": {
    "execution": {
     "iopub.execute_input": "2023-10-13T21:48:39.567028Z",
     "iopub.status.busy": "2023-10-13T21:48:39.565634Z",
     "iopub.status.idle": "2023-10-13T21:48:39.570488Z",
     "shell.execute_reply": "2023-10-13T21:48:39.569634Z"
    },
    "papermill": {
     "duration": 0.038368,
     "end_time": "2023-10-13T21:48:39.572463",
     "exception": false,
     "start_time": "2023-10-13T21:48:39.534095",
     "status": "completed"
    },
    "tags": []
   },
   "outputs": [],
   "source": [
    "#num_cols.append('total_seconds')"
   ]
  },
  {
   "cell_type": "code",
   "execution_count": 51,
   "id": "756ae9c8",
   "metadata": {
    "execution": {
     "iopub.execute_input": "2023-10-13T21:48:39.634094Z",
     "iopub.status.busy": "2023-10-13T21:48:39.633741Z",
     "iopub.status.idle": "2023-10-13T21:48:39.638316Z",
     "shell.execute_reply": "2023-10-13T21:48:39.637155Z"
    },
    "papermill": {
     "duration": 0.037336,
     "end_time": "2023-10-13T21:48:39.640424",
     "exception": false,
     "start_time": "2023-10-13T21:48:39.603088",
     "status": "completed"
    },
    "tags": []
   },
   "outputs": [],
   "source": [
    "#for col in num_cols:\n",
    "    #replace_with_threshoulds(df, col)"
   ]
  },
  {
   "cell_type": "code",
   "execution_count": 52,
   "id": "7a92bf1d",
   "metadata": {
    "execution": {
     "iopub.execute_input": "2023-10-13T21:48:39.701320Z",
     "iopub.status.busy": "2023-10-13T21:48:39.700951Z",
     "iopub.status.idle": "2023-10-13T21:48:39.704996Z",
     "shell.execute_reply": "2023-10-13T21:48:39.703928Z"
    },
    "papermill": {
     "duration": 0.036901,
     "end_time": "2023-10-13T21:48:39.707030",
     "exception": false,
     "start_time": "2023-10-13T21:48:39.670129",
     "status": "completed"
    },
    "tags": []
   },
   "outputs": [],
   "source": [
    "# df[num_cols]"
   ]
  },
  {
   "cell_type": "code",
   "execution_count": 53,
   "id": "7c61617c",
   "metadata": {
    "execution": {
     "iopub.execute_input": "2023-10-13T21:48:39.768311Z",
     "iopub.status.busy": "2023-10-13T21:48:39.767924Z",
     "iopub.status.idle": "2023-10-13T21:48:39.772056Z",
     "shell.execute_reply": "2023-10-13T21:48:39.771096Z"
    },
    "papermill": {
     "duration": 0.036752,
     "end_time": "2023-10-13T21:48:39.774037",
     "exception": false,
     "start_time": "2023-10-13T21:48:39.737285",
     "status": "completed"
    },
    "tags": []
   },
   "outputs": [],
   "source": [
    "#df[cat_cols]"
   ]
  },
  {
   "cell_type": "code",
   "execution_count": 54,
   "id": "3d3cfab4",
   "metadata": {
    "execution": {
     "iopub.execute_input": "2023-10-13T21:48:39.834623Z",
     "iopub.status.busy": "2023-10-13T21:48:39.833571Z",
     "iopub.status.idle": "2023-10-13T21:48:39.837448Z",
     "shell.execute_reply": "2023-10-13T21:48:39.836738Z"
    },
    "papermill": {
     "duration": 0.035778,
     "end_time": "2023-10-13T21:48:39.839073",
     "exception": false,
     "start_time": "2023-10-13T21:48:39.803295",
     "status": "completed"
    },
    "tags": []
   },
   "outputs": [],
   "source": [
    "#df.carrier.unique()"
   ]
  },
  {
   "cell_type": "code",
   "execution_count": 55,
   "id": "bcb7e0ac",
   "metadata": {
    "execution": {
     "iopub.execute_input": "2023-10-13T21:48:39.899637Z",
     "iopub.status.busy": "2023-10-13T21:48:39.899233Z",
     "iopub.status.idle": "2023-10-13T21:48:39.903428Z",
     "shell.execute_reply": "2023-10-13T21:48:39.902512Z"
    },
    "papermill": {
     "duration": 0.036478,
     "end_time": "2023-10-13T21:48:39.905367",
     "exception": false,
     "start_time": "2023-10-13T21:48:39.868889",
     "status": "completed"
    },
    "tags": []
   },
   "outputs": [],
   "source": [
    "#df.devicebrand.unique()"
   ]
  },
  {
   "cell_type": "code",
   "execution_count": 56,
   "id": "f922f0e8",
   "metadata": {
    "execution": {
     "iopub.execute_input": "2023-10-13T21:48:39.966170Z",
     "iopub.status.busy": "2023-10-13T21:48:39.965834Z",
     "iopub.status.idle": "2023-10-13T21:48:39.971516Z",
     "shell.execute_reply": "2023-10-13T21:48:39.970776Z"
    },
    "papermill": {
     "duration": 0.038019,
     "end_time": "2023-10-13T21:48:39.973143",
     "exception": false,
     "start_time": "2023-10-13T21:48:39.935124",
     "status": "completed"
    },
    "tags": []
   },
   "outputs": [],
   "source": [
    "def lof_remove(df, num_cols, n_neighbors=25):\n",
    "    \n",
    "    lof = LocalOutlierFactor(n_neighbors=25) #n_neghbours is an hyperparameter\n",
    "    lof.fit(df[num_cols])\n",
    "    #lof = LocalOutlierFactor(n_neighbors=25, metric='jaccard')\n",
    "    #lof.fit(df)\n",
    "    outlier_scores = lof.negative_outlier_factor_\n",
    "    outlier_scores\n",
    "    # A data point with an LOF score greater than 1 is considered an outlier, \n",
    "    #while a data point with an LOF score less than 1 is considered an inlier.\n",
    "    \n",
    "    df_dummy = df.copy()\n",
    "    df_dummy['lof'] = outlier_scores\n",
    "    \n",
    "    pd.qcut(df_dummy['lof'],20)\n",
    "    \n",
    "    df_dummy = df_dummy.drop(df_dummy[df_dummy['lof'] < -1.108].index)\n",
    "    df_dummy.drop(columns='lof',inplace=True)\n",
    "    \n",
    "    return df_dummy"
   ]
  },
  {
   "cell_type": "code",
   "execution_count": 57,
   "id": "a9221c97",
   "metadata": {
    "execution": {
     "iopub.execute_input": "2023-10-13T21:48:40.033774Z",
     "iopub.status.busy": "2023-10-13T21:48:40.033360Z",
     "iopub.status.idle": "2023-10-13T21:48:40.037910Z",
     "shell.execute_reply": "2023-10-13T21:48:40.036877Z"
    },
    "papermill": {
     "duration": 0.037503,
     "end_time": "2023-10-13T21:48:40.039945",
     "exception": false,
     "start_time": "2023-10-13T21:48:40.002442",
     "status": "completed"
    },
    "tags": []
   },
   "outputs": [],
   "source": [
    "#df = lof_remove(df)\n",
    "#df"
   ]
  },
  {
   "cell_type": "code",
   "execution_count": 58,
   "id": "c6ecef26",
   "metadata": {
    "execution": {
     "iopub.execute_input": "2023-10-13T21:48:40.101586Z",
     "iopub.status.busy": "2023-10-13T21:48:40.101196Z",
     "iopub.status.idle": "2023-10-13T21:48:40.105695Z",
     "shell.execute_reply": "2023-10-13T21:48:40.104694Z"
    },
    "papermill": {
     "duration": 0.037737,
     "end_time": "2023-10-13T21:48:40.107446",
     "exception": false,
     "start_time": "2023-10-13T21:48:40.069709",
     "status": "completed"
    },
    "tags": []
   },
   "outputs": [],
   "source": [
    "#df.isnull().sum()"
   ]
  },
  {
   "cell_type": "code",
   "execution_count": 59,
   "id": "02b3df14",
   "metadata": {
    "execution": {
     "iopub.execute_input": "2023-10-13T21:48:40.167991Z",
     "iopub.status.busy": "2023-10-13T21:48:40.167632Z",
     "iopub.status.idle": "2023-10-13T21:48:40.173220Z",
     "shell.execute_reply": "2023-10-13T21:48:40.172077Z"
    },
    "papermill": {
     "duration": 0.038178,
     "end_time": "2023-10-13T21:48:40.175161",
     "exception": false,
     "start_time": "2023-10-13T21:48:40.136983",
     "status": "completed"
    },
    "tags": []
   },
   "outputs": [],
   "source": [
    "def minmax_scaler(df, num_cols):\n",
    "    import sys\n",
    "    try:\n",
    "        pass\n",
    "        #df.reset_index(inplace=True)\n",
    "    except:\n",
    "        print('no_reset')\n",
    "        #sys.exit('no_reset')\n",
    "    scaler = MinMaxScaler()\n",
    "    normalized_data = scaler.fit_transform(df[num_cols])\n",
    "\n",
    "    normalized_dataFrame = pd.DataFrame(normalized_data, columns=num_cols)\n",
    "    if normalized_dataFrame.isnull().sum().any():\n",
    "        sys.exit('null value')\n",
    "        \n",
    "    return normalized_dataFrame[num_cols]\n"
   ]
  },
  {
   "cell_type": "code",
   "execution_count": 60,
   "id": "5c731bf7",
   "metadata": {
    "execution": {
     "iopub.execute_input": "2023-10-13T21:48:40.237115Z",
     "iopub.status.busy": "2023-10-13T21:48:40.236673Z",
     "iopub.status.idle": "2023-10-13T21:48:40.240546Z",
     "shell.execute_reply": "2023-10-13T21:48:40.239887Z"
    },
    "papermill": {
     "duration": 0.036847,
     "end_time": "2023-10-13T21:48:40.242214",
     "exception": false,
     "start_time": "2023-10-13T21:48:40.205367",
     "status": "completed"
    },
    "tags": []
   },
   "outputs": [],
   "source": [
    "#df.shape"
   ]
  },
  {
   "cell_type": "code",
   "execution_count": 61,
   "id": "3950046e",
   "metadata": {
    "execution": {
     "iopub.execute_input": "2023-10-13T21:48:40.304204Z",
     "iopub.status.busy": "2023-10-13T21:48:40.303822Z",
     "iopub.status.idle": "2023-10-13T21:48:40.307779Z",
     "shell.execute_reply": "2023-10-13T21:48:40.306959Z"
    },
    "papermill": {
     "duration": 0.037237,
     "end_time": "2023-10-13T21:48:40.309629",
     "exception": false,
     "start_time": "2023-10-13T21:48:40.272392",
     "status": "completed"
    },
    "tags": []
   },
   "outputs": [],
   "source": [
    "#scaler = MinMaxScaler()"
   ]
  },
  {
   "cell_type": "code",
   "execution_count": 62,
   "id": "03854cf8",
   "metadata": {
    "execution": {
     "iopub.execute_input": "2023-10-13T21:48:40.370605Z",
     "iopub.status.busy": "2023-10-13T21:48:40.370213Z",
     "iopub.status.idle": "2023-10-13T21:48:40.374838Z",
     "shell.execute_reply": "2023-10-13T21:48:40.373775Z"
    },
    "papermill": {
     "duration": 0.037456,
     "end_time": "2023-10-13T21:48:40.376784",
     "exception": false,
     "start_time": "2023-10-13T21:48:40.339328",
     "status": "completed"
    },
    "tags": []
   },
   "outputs": [],
   "source": [
    "#normalized_data = scaler.fit_transform(df[num_cols])"
   ]
  },
  {
   "cell_type": "code",
   "execution_count": 63,
   "id": "c4b7f70b",
   "metadata": {
    "execution": {
     "iopub.execute_input": "2023-10-13T21:48:40.437564Z",
     "iopub.status.busy": "2023-10-13T21:48:40.437168Z",
     "iopub.status.idle": "2023-10-13T21:48:40.441753Z",
     "shell.execute_reply": "2023-10-13T21:48:40.440741Z"
    },
    "papermill": {
     "duration": 0.0373,
     "end_time": "2023-10-13T21:48:40.443839",
     "exception": false,
     "start_time": "2023-10-13T21:48:40.406539",
     "status": "completed"
    },
    "tags": []
   },
   "outputs": [],
   "source": [
    "#normalized_data.shape"
   ]
  },
  {
   "cell_type": "code",
   "execution_count": 64,
   "id": "c12e00a9",
   "metadata": {
    "execution": {
     "iopub.execute_input": "2023-10-13T21:48:40.505358Z",
     "iopub.status.busy": "2023-10-13T21:48:40.505004Z",
     "iopub.status.idle": "2023-10-13T21:48:40.509529Z",
     "shell.execute_reply": "2023-10-13T21:48:40.508479Z"
    },
    "papermill": {
     "duration": 0.036709,
     "end_time": "2023-10-13T21:48:40.511376",
     "exception": false,
     "start_time": "2023-10-13T21:48:40.474667",
     "status": "completed"
    },
    "tags": []
   },
   "outputs": [],
   "source": [
    "#normalized_dataFrame = pd.DataFrame(normalized_data, columns=num_cols)"
   ]
  },
  {
   "cell_type": "code",
   "execution_count": 65,
   "id": "b71f7f2d",
   "metadata": {
    "execution": {
     "iopub.execute_input": "2023-10-13T21:48:40.572549Z",
     "iopub.status.busy": "2023-10-13T21:48:40.572156Z",
     "iopub.status.idle": "2023-10-13T21:48:40.576687Z",
     "shell.execute_reply": "2023-10-13T21:48:40.575688Z"
    },
    "papermill": {
     "duration": 0.037062,
     "end_time": "2023-10-13T21:48:40.578687",
     "exception": false,
     "start_time": "2023-10-13T21:48:40.541625",
     "status": "completed"
    },
    "tags": []
   },
   "outputs": [],
   "source": [
    "#normalized_dataFrame"
   ]
  },
  {
   "cell_type": "code",
   "execution_count": 66,
   "id": "1e88c4fc",
   "metadata": {
    "execution": {
     "iopub.execute_input": "2023-10-13T21:48:40.639698Z",
     "iopub.status.busy": "2023-10-13T21:48:40.639326Z",
     "iopub.status.idle": "2023-10-13T21:48:40.643891Z",
     "shell.execute_reply": "2023-10-13T21:48:40.642931Z"
    },
    "papermill": {
     "duration": 0.0374,
     "end_time": "2023-10-13T21:48:40.645795",
     "exception": false,
     "start_time": "2023-10-13T21:48:40.608395",
     "status": "completed"
    },
    "tags": []
   },
   "outputs": [],
   "source": [
    "#normalized_dataFrame = minmax_scaler(df)"
   ]
  },
  {
   "cell_type": "code",
   "execution_count": 67,
   "id": "156ea347",
   "metadata": {
    "execution": {
     "iopub.execute_input": "2023-10-13T21:48:40.706161Z",
     "iopub.status.busy": "2023-10-13T21:48:40.705824Z",
     "iopub.status.idle": "2023-10-13T21:48:40.709922Z",
     "shell.execute_reply": "2023-10-13T21:48:40.708820Z"
    },
    "papermill": {
     "duration": 0.036717,
     "end_time": "2023-10-13T21:48:40.711839",
     "exception": false,
     "start_time": "2023-10-13T21:48:40.675122",
     "status": "completed"
    },
    "tags": []
   },
   "outputs": [],
   "source": [
    "#normalized_dataFrame"
   ]
  },
  {
   "cell_type": "code",
   "execution_count": 68,
   "id": "2386ce26",
   "metadata": {
    "execution": {
     "iopub.execute_input": "2023-10-13T21:48:40.772168Z",
     "iopub.status.busy": "2023-10-13T21:48:40.771801Z",
     "iopub.status.idle": "2023-10-13T21:48:40.775952Z",
     "shell.execute_reply": "2023-10-13T21:48:40.774984Z"
    },
    "papermill": {
     "duration": 0.036373,
     "end_time": "2023-10-13T21:48:40.777746",
     "exception": false,
     "start_time": "2023-10-13T21:48:40.741373",
     "status": "completed"
    },
    "tags": []
   },
   "outputs": [],
   "source": [
    "#df[num_cols] = normalized_dataFrame.copy()"
   ]
  },
  {
   "cell_type": "code",
   "execution_count": 69,
   "id": "15e81b35",
   "metadata": {
    "execution": {
     "iopub.execute_input": "2023-10-13T21:48:40.837957Z",
     "iopub.status.busy": "2023-10-13T21:48:40.837275Z",
     "iopub.status.idle": "2023-10-13T21:48:40.841751Z",
     "shell.execute_reply": "2023-10-13T21:48:40.840851Z"
    },
    "papermill": {
     "duration": 0.036654,
     "end_time": "2023-10-13T21:48:40.843604",
     "exception": false,
     "start_time": "2023-10-13T21:48:40.806950",
     "status": "completed"
    },
    "tags": []
   },
   "outputs": [],
   "source": [
    "#df[num_cols]"
   ]
  },
  {
   "cell_type": "code",
   "execution_count": 70,
   "id": "f5ffa2da",
   "metadata": {
    "execution": {
     "iopub.execute_input": "2023-10-13T21:48:40.904316Z",
     "iopub.status.busy": "2023-10-13T21:48:40.903963Z",
     "iopub.status.idle": "2023-10-13T21:48:40.908473Z",
     "shell.execute_reply": "2023-10-13T21:48:40.907553Z"
    },
    "papermill": {
     "duration": 0.037347,
     "end_time": "2023-10-13T21:48:40.910412",
     "exception": false,
     "start_time": "2023-10-13T21:48:40.873065",
     "status": "completed"
    },
    "tags": []
   },
   "outputs": [],
   "source": [
    "#num_cols = df[num_cols].columns\n",
    "#num_cols_chunks = [num_cols[i:i + 10] for i in range(0, len(num_cols), 10)]\n",
    "\n",
    "#for chunk in num_cols_chunks:\n",
    "    #plt.figure(figsize=(12, 6))\n",
    "    #selected_data = df[chunk]\n",
    "    #sns.violinplot(data=selected_data, inner=\"box\")\n",
    "    #plt.xlabel(\"Sütunlar\")\n",
    "    #plt.ylabel(\"Normalleştirilmiş Değerler\")\n",
    "    #plt.title(f\"Sütunların Violin Grafiği: {', '.join(chunk)}\")\n",
    "    #plt.xticks(rotation=90)\n",
    "    #plt.show()"
   ]
  },
  {
   "cell_type": "code",
   "execution_count": 71,
   "id": "86828709",
   "metadata": {
    "execution": {
     "iopub.execute_input": "2023-10-13T21:48:40.971047Z",
     "iopub.status.busy": "2023-10-13T21:48:40.970461Z",
     "iopub.status.idle": "2023-10-13T21:48:40.974380Z",
     "shell.execute_reply": "2023-10-13T21:48:40.973635Z"
    },
    "papermill": {
     "duration": 0.03614,
     "end_time": "2023-10-13T21:48:40.976122",
     "exception": false,
     "start_time": "2023-10-13T21:48:40.939982",
     "status": "completed"
    },
    "tags": []
   },
   "outputs": [],
   "source": [
    "#for i, column in enumerate(num_cols):\n",
    "\n",
    "    #sns.histplot(df[column], kde=False, color='skyblue', bins=20)\n",
    "    #plt.title('{} histogram plot'.format(column))\n",
    "    #plt.show()\n",
    "    #.set_title(f'{column} Dağılımı')"
   ]
  },
  {
   "cell_type": "code",
   "execution_count": 72,
   "id": "9633fc36",
   "metadata": {
    "execution": {
     "iopub.execute_input": "2023-10-13T21:48:41.036517Z",
     "iopub.status.busy": "2023-10-13T21:48:41.036178Z",
     "iopub.status.idle": "2023-10-13T21:48:41.040150Z",
     "shell.execute_reply": "2023-10-13T21:48:41.039122Z"
    },
    "papermill": {
     "duration": 0.036818,
     "end_time": "2023-10-13T21:48:41.042230",
     "exception": false,
     "start_time": "2023-10-13T21:48:41.005412",
     "status": "completed"
    },
    "tags": []
   },
   "outputs": [],
   "source": [
    "#target = 'target'"
   ]
  },
  {
   "cell_type": "code",
   "execution_count": 73,
   "id": "144bab80",
   "metadata": {
    "execution": {
     "iopub.execute_input": "2023-10-13T21:48:41.104000Z",
     "iopub.status.busy": "2023-10-13T21:48:41.103507Z",
     "iopub.status.idle": "2023-10-13T21:48:41.107884Z",
     "shell.execute_reply": "2023-10-13T21:48:41.106581Z"
    },
    "papermill": {
     "duration": 0.037604,
     "end_time": "2023-10-13T21:48:41.109961",
     "exception": false,
     "start_time": "2023-10-13T21:48:41.072357",
     "status": "completed"
    },
    "tags": []
   },
   "outputs": [],
   "source": [
    "# Extracting unique values from the 'target' column\n",
    "#unique_menu_vals = set(','.join(df[target]).split(',').strip())\n",
    "#unique_menu_vals"
   ]
  },
  {
   "cell_type": "code",
   "execution_count": 74,
   "id": "418c59f1",
   "metadata": {
    "execution": {
     "iopub.execute_input": "2023-10-13T21:48:41.170540Z",
     "iopub.status.busy": "2023-10-13T21:48:41.170213Z",
     "iopub.status.idle": "2023-10-13T21:48:41.174130Z",
     "shell.execute_reply": "2023-10-13T21:48:41.173155Z"
    },
    "papermill": {
     "duration": 0.036412,
     "end_time": "2023-10-13T21:48:41.175986",
     "exception": false,
     "start_time": "2023-10-13T21:48:41.139574",
     "status": "completed"
    },
    "tags": []
   },
   "outputs": [],
   "source": [
    "# Boşluklardan kurtarıyoruz\n",
    "#unique_menu_vals = set([menu.strip() for menu in unique_menu_vals])\n",
    "#unique_menu_vals"
   ]
  },
  {
   "cell_type": "code",
   "execution_count": 75,
   "id": "e16cb789",
   "metadata": {
    "execution": {
     "iopub.execute_input": "2023-10-13T21:48:41.237796Z",
     "iopub.status.busy": "2023-10-13T21:48:41.236942Z",
     "iopub.status.idle": "2023-10-13T21:48:41.241923Z",
     "shell.execute_reply": "2023-10-13T21:48:41.240930Z"
    },
    "papermill": {
     "duration": 0.038519,
     "end_time": "2023-10-13T21:48:41.244077",
     "exception": false,
     "start_time": "2023-10-13T21:48:41.205558",
     "status": "completed"
    },
    "tags": []
   },
   "outputs": [],
   "source": [
    "#df['target_cleaned'] = df['target'].apply(lambda i: ','.join([value.strip() for value in i.split(',')]))\n",
    "#df['target_cleaned']"
   ]
  },
  {
   "cell_type": "code",
   "execution_count": 76,
   "id": "ee82cb86",
   "metadata": {
    "execution": {
     "iopub.execute_input": "2023-10-13T21:48:41.305610Z",
     "iopub.status.busy": "2023-10-13T21:48:41.305276Z",
     "iopub.status.idle": "2023-10-13T21:48:41.309606Z",
     "shell.execute_reply": "2023-10-13T21:48:41.308536Z"
    },
    "papermill": {
     "duration": 0.037803,
     "end_time": "2023-10-13T21:48:41.311510",
     "exception": false,
     "start_time": "2023-10-13T21:48:41.273707",
     "status": "completed"
    },
    "tags": []
   },
   "outputs": [],
   "source": [
    "# Recounting the occurrence of each unique target label\n",
    "#cleaned_target_counts = Counter(','.join(df['target_cleaned']).split(','))\n",
    "\n",
    "# Converting the Counter object to a DataFrame for easier visualization\n",
    "#cleaned_target_counts_df = pd.DataFrame.from_dict(cleaned_target_counts, orient='index', columns=['count']).reset_index()\n",
    "#cleaned_target_counts_df.columns = ['target', 'count']\n",
    "#cleaned_target_counts_df = cleaned_target_counts_df.sort_values(by='count', ascending=False)\n",
    "\n",
    "# Displaying the top 10 most occurring cleaned targets\n",
    "#top_10_cleaned_targets = cleaned_target_counts_df.head(10)\n",
    "#top_10_cleaned_targets\n",
    "# Visualizing the distribution of the top 10 most occurring cleaned targets using a pie chart\n",
    "#plt.figure(figsize=(10, 10))\n",
    "#plt.pie(top_10_cleaned_targets['count'], labels=top_10_cleaned_targets['target'], autopct='%1.1f%%', startangle=140)\n",
    "#plt.title('Pie-chart hedef değişken dağılımı')\n",
    "#plt.show()"
   ]
  },
  {
   "cell_type": "code",
   "execution_count": 77,
   "id": "b6575841",
   "metadata": {
    "execution": {
     "iopub.execute_input": "2023-10-13T21:48:41.372403Z",
     "iopub.status.busy": "2023-10-13T21:48:41.372052Z",
     "iopub.status.idle": "2023-10-13T21:48:41.376122Z",
     "shell.execute_reply": "2023-10-13T21:48:41.374970Z"
    },
    "papermill": {
     "duration": 0.037144,
     "end_time": "2023-10-13T21:48:41.378245",
     "exception": false,
     "start_time": "2023-10-13T21:48:41.341101",
     "status": "completed"
    },
    "tags": []
   },
   "outputs": [],
   "source": [
    "#df['top3_menus_average_time'] = (df['n_seconds_1']+df['n_seconds_2']+df['n_seconds_3'])/3\n",
    "#df.head()"
   ]
  },
  {
   "cell_type": "code",
   "execution_count": 78,
   "id": "081d7e64",
   "metadata": {
    "execution": {
     "iopub.execute_input": "2023-10-13T21:48:41.439074Z",
     "iopub.status.busy": "2023-10-13T21:48:41.438684Z",
     "iopub.status.idle": "2023-10-13T21:48:41.442834Z",
     "shell.execute_reply": "2023-10-13T21:48:41.441614Z"
    },
    "papermill": {
     "duration": 0.036939,
     "end_time": "2023-10-13T21:48:41.444803",
     "exception": false,
     "start_time": "2023-10-13T21:48:41.407864",
     "status": "completed"
    },
    "tags": []
   },
   "outputs": [],
   "source": [
    "# Calculating the average time spent on each menu\n",
    "#average_time_per_menu = menu_seconds_df.groupby('menu').mean()"
   ]
  },
  {
   "cell_type": "code",
   "execution_count": 79,
   "id": "12d1f1e2",
   "metadata": {
    "execution": {
     "iopub.execute_input": "2023-10-13T21:48:41.505098Z",
     "iopub.status.busy": "2023-10-13T21:48:41.504704Z",
     "iopub.status.idle": "2023-10-13T21:48:41.508922Z",
     "shell.execute_reply": "2023-10-13T21:48:41.507775Z"
    },
    "papermill": {
     "duration": 0.036546,
     "end_time": "2023-10-13T21:48:41.510840",
     "exception": false,
     "start_time": "2023-10-13T21:48:41.474294",
     "status": "completed"
    },
    "tags": []
   },
   "outputs": [],
   "source": [
    "#df[cat_cols]"
   ]
  },
  {
   "cell_type": "code",
   "execution_count": 80,
   "id": "0bc560aa",
   "metadata": {
    "execution": {
     "iopub.execute_input": "2023-10-13T21:48:41.572523Z",
     "iopub.status.busy": "2023-10-13T21:48:41.572045Z",
     "iopub.status.idle": "2023-10-13T21:48:41.577102Z",
     "shell.execute_reply": "2023-10-13T21:48:41.575987Z"
    },
    "papermill": {
     "duration": 0.038138,
     "end_time": "2023-10-13T21:48:41.579004",
     "exception": false,
     "start_time": "2023-10-13T21:48:41.540866",
     "status": "completed"
    },
    "tags": []
   },
   "outputs": [],
   "source": [
    "#df_try = df.copy()"
   ]
  },
  {
   "cell_type": "code",
   "execution_count": 81,
   "id": "8ec41ff9",
   "metadata": {
    "execution": {
     "iopub.execute_input": "2023-10-13T21:48:41.639645Z",
     "iopub.status.busy": "2023-10-13T21:48:41.639312Z",
     "iopub.status.idle": "2023-10-13T21:48:41.644071Z",
     "shell.execute_reply": "2023-10-13T21:48:41.642701Z"
    },
    "papermill": {
     "duration": 0.037326,
     "end_time": "2023-10-13T21:48:41.645958",
     "exception": false,
     "start_time": "2023-10-13T21:48:41.608632",
     "status": "completed"
    },
    "tags": []
   },
   "outputs": [],
   "source": [
    "#cat_cols"
   ]
  },
  {
   "cell_type": "code",
   "execution_count": 82,
   "id": "d4e171fe",
   "metadata": {
    "execution": {
     "iopub.execute_input": "2023-10-13T21:48:41.707901Z",
     "iopub.status.busy": "2023-10-13T21:48:41.707520Z",
     "iopub.status.idle": "2023-10-13T21:48:41.711779Z",
     "shell.execute_reply": "2023-10-13T21:48:41.710706Z"
    },
    "papermill": {
     "duration": 0.037971,
     "end_time": "2023-10-13T21:48:41.713819",
     "exception": false,
     "start_time": "2023-10-13T21:48:41.675848",
     "status": "completed"
    },
    "tags": []
   },
   "outputs": [],
   "source": [
    "#df_try"
   ]
  },
  {
   "cell_type": "code",
   "execution_count": 83,
   "id": "16a021c0",
   "metadata": {
    "execution": {
     "iopub.execute_input": "2023-10-13T21:48:41.775171Z",
     "iopub.status.busy": "2023-10-13T21:48:41.774834Z",
     "iopub.status.idle": "2023-10-13T21:48:41.778986Z",
     "shell.execute_reply": "2023-10-13T21:48:41.777945Z"
    },
    "papermill": {
     "duration": 0.037025,
     "end_time": "2023-10-13T21:48:41.781020",
     "exception": false,
     "start_time": "2023-10-13T21:48:41.743995",
     "status": "completed"
    },
    "tags": []
   },
   "outputs": [],
   "source": [
    "#df_try1 = pd.get_dummies(df_try[cat_cols],dtype=int, prefix=None, drop_first=True)\n",
    "#df_try1"
   ]
  },
  {
   "cell_type": "code",
   "execution_count": 84,
   "id": "866ca0f2",
   "metadata": {
    "execution": {
     "iopub.execute_input": "2023-10-13T21:48:41.841885Z",
     "iopub.status.busy": "2023-10-13T21:48:41.841521Z",
     "iopub.status.idle": "2023-10-13T21:48:41.845270Z",
     "shell.execute_reply": "2023-10-13T21:48:41.844176Z"
    },
    "papermill": {
     "duration": 0.036084,
     "end_time": "2023-10-13T21:48:41.846975",
     "exception": false,
     "start_time": "2023-10-13T21:48:41.810891",
     "status": "completed"
    },
    "tags": []
   },
   "outputs": [],
   "source": [
    "#df_tryc = pd.concat([df_try, df_try1], axis=1)\n",
    "#df_tryc"
   ]
  },
  {
   "cell_type": "code",
   "execution_count": 85,
   "id": "9b5ddd91",
   "metadata": {
    "execution": {
     "iopub.execute_input": "2023-10-13T21:48:41.907693Z",
     "iopub.status.busy": "2023-10-13T21:48:41.906877Z",
     "iopub.status.idle": "2023-10-13T21:48:41.910623Z",
     "shell.execute_reply": "2023-10-13T21:48:41.909953Z"
    },
    "papermill": {
     "duration": 0.036252,
     "end_time": "2023-10-13T21:48:41.912566",
     "exception": false,
     "start_time": "2023-10-13T21:48:41.876314",
     "status": "completed"
    },
    "tags": []
   },
   "outputs": [],
   "source": [
    "#df = df_tryc.copy()\n",
    "#df.drop(columns=['carrier','devicebrand','id'], inplace=True)\n",
    "#df"
   ]
  },
  {
   "cell_type": "code",
   "execution_count": 86,
   "id": "b844f99c",
   "metadata": {
    "execution": {
     "iopub.execute_input": "2023-10-13T21:48:41.974064Z",
     "iopub.status.busy": "2023-10-13T21:48:41.973266Z",
     "iopub.status.idle": "2023-10-13T21:48:41.977791Z",
     "shell.execute_reply": "2023-10-13T21:48:41.976732Z"
    },
    "papermill": {
     "duration": 0.037667,
     "end_time": "2023-10-13T21:48:41.979611",
     "exception": false,
     "start_time": "2023-10-13T21:48:41.941944",
     "status": "completed"
    },
    "tags": []
   },
   "outputs": [],
   "source": [
    "# We encode the target feature\n",
    "#df_encoded = df['target_cleaned'].str.split(',', expand=True).stack().str.get_dummies().groupby(level=0).sum()#.add_prefix('menu')"
   ]
  },
  {
   "cell_type": "code",
   "execution_count": 87,
   "id": "06fe0b9b",
   "metadata": {
    "execution": {
     "iopub.execute_input": "2023-10-13T21:48:42.041960Z",
     "iopub.status.busy": "2023-10-13T21:48:42.041006Z",
     "iopub.status.idle": "2023-10-13T21:48:42.045048Z",
     "shell.execute_reply": "2023-10-13T21:48:42.044330Z"
    },
    "papermill": {
     "duration": 0.036889,
     "end_time": "2023-10-13T21:48:42.046924",
     "exception": false,
     "start_time": "2023-10-13T21:48:42.010035",
     "status": "completed"
    },
    "tags": []
   },
   "outputs": [],
   "source": [
    "#df_try = df.copy()"
   ]
  },
  {
   "cell_type": "code",
   "execution_count": 88,
   "id": "e6e1b89a",
   "metadata": {
    "execution": {
     "iopub.execute_input": "2023-10-13T21:48:42.107837Z",
     "iopub.status.busy": "2023-10-13T21:48:42.107469Z",
     "iopub.status.idle": "2023-10-13T21:48:42.111735Z",
     "shell.execute_reply": "2023-10-13T21:48:42.110644Z"
    },
    "papermill": {
     "duration": 0.036904,
     "end_time": "2023-10-13T21:48:42.113545",
     "exception": false,
     "start_time": "2023-10-13T21:48:42.076641",
     "status": "completed"
    },
    "tags": []
   },
   "outputs": [],
   "source": [
    "#df_try[df_encoded.columns] = df_encoded"
   ]
  },
  {
   "cell_type": "code",
   "execution_count": 89,
   "id": "5e216bdc",
   "metadata": {
    "execution": {
     "iopub.execute_input": "2023-10-13T21:48:42.174870Z",
     "iopub.status.busy": "2023-10-13T21:48:42.174162Z",
     "iopub.status.idle": "2023-10-13T21:48:42.178135Z",
     "shell.execute_reply": "2023-10-13T21:48:42.177246Z"
    },
    "papermill": {
     "duration": 0.036812,
     "end_time": "2023-10-13T21:48:42.179944",
     "exception": false,
     "start_time": "2023-10-13T21:48:42.143132",
     "status": "completed"
    },
    "tags": []
   },
   "outputs": [],
   "source": [
    "#df_try.isnull().sum()"
   ]
  },
  {
   "cell_type": "code",
   "execution_count": 90,
   "id": "cb9dbc2b",
   "metadata": {
    "execution": {
     "iopub.execute_input": "2023-10-13T21:48:42.241162Z",
     "iopub.status.busy": "2023-10-13T21:48:42.240486Z",
     "iopub.status.idle": "2023-10-13T21:48:42.244664Z",
     "shell.execute_reply": "2023-10-13T21:48:42.243989Z"
    },
    "papermill": {
     "duration": 0.036665,
     "end_time": "2023-10-13T21:48:42.246340",
     "exception": false,
     "start_time": "2023-10-13T21:48:42.209675",
     "status": "completed"
    },
    "tags": []
   },
   "outputs": [],
   "source": [
    "#df.isnull().sum()"
   ]
  },
  {
   "cell_type": "code",
   "execution_count": 91,
   "id": "0fe0c5ab",
   "metadata": {
    "execution": {
     "iopub.execute_input": "2023-10-13T21:48:42.308026Z",
     "iopub.status.busy": "2023-10-13T21:48:42.307303Z",
     "iopub.status.idle": "2023-10-13T21:48:42.311171Z",
     "shell.execute_reply": "2023-10-13T21:48:42.310351Z"
    },
    "papermill": {
     "duration": 0.036426,
     "end_time": "2023-10-13T21:48:42.312871",
     "exception": false,
     "start_time": "2023-10-13T21:48:42.276445",
     "status": "completed"
    },
    "tags": []
   },
   "outputs": [],
   "source": [
    "#df.shape"
   ]
  },
  {
   "cell_type": "code",
   "execution_count": 92,
   "id": "fa60dd00",
   "metadata": {
    "execution": {
     "iopub.execute_input": "2023-10-13T21:48:42.374139Z",
     "iopub.status.busy": "2023-10-13T21:48:42.373486Z",
     "iopub.status.idle": "2023-10-13T21:48:42.377261Z",
     "shell.execute_reply": "2023-10-13T21:48:42.376316Z"
    },
    "papermill": {
     "duration": 0.036673,
     "end_time": "2023-10-13T21:48:42.379222",
     "exception": false,
     "start_time": "2023-10-13T21:48:42.342549",
     "status": "completed"
    },
    "tags": []
   },
   "outputs": [],
   "source": [
    "#df_encoded.shape"
   ]
  },
  {
   "cell_type": "code",
   "execution_count": 93,
   "id": "70c3bf34",
   "metadata": {
    "execution": {
     "iopub.execute_input": "2023-10-13T21:48:42.439820Z",
     "iopub.status.busy": "2023-10-13T21:48:42.439454Z",
     "iopub.status.idle": "2023-10-13T21:48:42.442852Z",
     "shell.execute_reply": "2023-10-13T21:48:42.442099Z"
    },
    "papermill": {
     "duration": 0.035955,
     "end_time": "2023-10-13T21:48:42.444555",
     "exception": false,
     "start_time": "2023-10-13T21:48:42.408600",
     "status": "completed"
    },
    "tags": []
   },
   "outputs": [],
   "source": [
    "#df_conc = pd.concat([df, df_encoded], axis=1)"
   ]
  },
  {
   "cell_type": "code",
   "execution_count": 94,
   "id": "83154952",
   "metadata": {
    "execution": {
     "iopub.execute_input": "2023-10-13T21:48:42.505482Z",
     "iopub.status.busy": "2023-10-13T21:48:42.504862Z",
     "iopub.status.idle": "2023-10-13T21:48:42.508220Z",
     "shell.execute_reply": "2023-10-13T21:48:42.507577Z"
    },
    "papermill": {
     "duration": 0.035565,
     "end_time": "2023-10-13T21:48:42.509864",
     "exception": false,
     "start_time": "2023-10-13T21:48:42.474299",
     "status": "completed"
    },
    "tags": []
   },
   "outputs": [],
   "source": [
    "#df_conc.head()"
   ]
  },
  {
   "cell_type": "code",
   "execution_count": 95,
   "id": "a891fd29",
   "metadata": {
    "execution": {
     "iopub.execute_input": "2023-10-13T21:48:42.570864Z",
     "iopub.status.busy": "2023-10-13T21:48:42.570160Z",
     "iopub.status.idle": "2023-10-13T21:48:42.575271Z",
     "shell.execute_reply": "2023-10-13T21:48:42.573905Z"
    },
    "papermill": {
     "duration": 0.038476,
     "end_time": "2023-10-13T21:48:42.577801",
     "exception": false,
     "start_time": "2023-10-13T21:48:42.539325",
     "status": "completed"
    },
    "tags": []
   },
   "outputs": [],
   "source": [
    "#df_conc.columns"
   ]
  },
  {
   "cell_type": "code",
   "execution_count": 96,
   "id": "847087de",
   "metadata": {
    "execution": {
     "iopub.execute_input": "2023-10-13T21:48:42.638261Z",
     "iopub.status.busy": "2023-10-13T21:48:42.637919Z",
     "iopub.status.idle": "2023-10-13T21:48:42.641947Z",
     "shell.execute_reply": "2023-10-13T21:48:42.640952Z"
    },
    "papermill": {
     "duration": 0.036598,
     "end_time": "2023-10-13T21:48:42.644016",
     "exception": false,
     "start_time": "2023-10-13T21:48:42.607418",
     "status": "completed"
    },
    "tags": []
   },
   "outputs": [],
   "source": [
    "#df_conc.shape"
   ]
  },
  {
   "cell_type": "code",
   "execution_count": 97,
   "id": "a01fa920",
   "metadata": {
    "execution": {
     "iopub.execute_input": "2023-10-13T21:48:42.713171Z",
     "iopub.status.busy": "2023-10-13T21:48:42.712427Z",
     "iopub.status.idle": "2023-10-13T21:48:42.716444Z",
     "shell.execute_reply": "2023-10-13T21:48:42.715758Z"
    },
    "papermill": {
     "duration": 0.036244,
     "end_time": "2023-10-13T21:48:42.718076",
     "exception": false,
     "start_time": "2023-10-13T21:48:42.681832",
     "status": "completed"
    },
    "tags": []
   },
   "outputs": [],
   "source": [
    "#df_conc.isnull().sum()"
   ]
  },
  {
   "cell_type": "code",
   "execution_count": 98,
   "id": "1aee8cad",
   "metadata": {
    "execution": {
     "iopub.execute_input": "2023-10-13T21:48:42.778473Z",
     "iopub.status.busy": "2023-10-13T21:48:42.777815Z",
     "iopub.status.idle": "2023-10-13T21:48:42.781680Z",
     "shell.execute_reply": "2023-10-13T21:48:42.780943Z"
    },
    "papermill": {
     "duration": 0.036024,
     "end_time": "2023-10-13T21:48:42.783438",
     "exception": false,
     "start_time": "2023-10-13T21:48:42.747414",
     "status": "completed"
    },
    "tags": []
   },
   "outputs": [],
   "source": [
    "#pip install --upgrade pandas"
   ]
  },
  {
   "cell_type": "code",
   "execution_count": 99,
   "id": "07c45a71",
   "metadata": {
    "execution": {
     "iopub.execute_input": "2023-10-13T21:48:42.844480Z",
     "iopub.status.busy": "2023-10-13T21:48:42.843815Z",
     "iopub.status.idle": "2023-10-13T21:48:42.847314Z",
     "shell.execute_reply": "2023-10-13T21:48:42.846637Z"
    },
    "papermill": {
     "duration": 0.036122,
     "end_time": "2023-10-13T21:48:42.849033",
     "exception": false,
     "start_time": "2023-10-13T21:48:42.812911",
     "status": "completed"
    },
    "tags": []
   },
   "outputs": [],
   "source": [
    "#df = df_conc.copy()"
   ]
  },
  {
   "cell_type": "code",
   "execution_count": 100,
   "id": "206692cf",
   "metadata": {
    "execution": {
     "iopub.execute_input": "2023-10-13T21:48:42.909791Z",
     "iopub.status.busy": "2023-10-13T21:48:42.909067Z",
     "iopub.status.idle": "2023-10-13T21:48:42.912866Z",
     "shell.execute_reply": "2023-10-13T21:48:42.912098Z"
    },
    "papermill": {
     "duration": 0.036152,
     "end_time": "2023-10-13T21:48:42.914591",
     "exception": false,
     "start_time": "2023-10-13T21:48:42.878439",
     "status": "completed"
    },
    "tags": []
   },
   "outputs": [],
   "source": [
    "#df.drop(['target','target_cleaned'],axis=1,inplace=True)\n",
    "#df.columns"
   ]
  },
  {
   "cell_type": "code",
   "execution_count": 101,
   "id": "de88232a",
   "metadata": {
    "execution": {
     "iopub.execute_input": "2023-10-13T21:48:43.032417Z",
     "iopub.status.busy": "2023-10-13T21:48:43.031769Z",
     "iopub.status.idle": "2023-10-13T21:48:43.035732Z",
     "shell.execute_reply": "2023-10-13T21:48:43.034926Z"
    },
    "papermill": {
     "duration": 0.093551,
     "end_time": "2023-10-13T21:48:43.037560",
     "exception": false,
     "start_time": "2023-10-13T21:48:42.944009",
     "status": "completed"
    },
    "tags": []
   },
   "outputs": [],
   "source": [
    "#df.isnull().sum()"
   ]
  },
  {
   "cell_type": "code",
   "execution_count": 102,
   "id": "0f795876",
   "metadata": {
    "execution": {
     "iopub.execute_input": "2023-10-13T21:48:43.099746Z",
     "iopub.status.busy": "2023-10-13T21:48:43.099048Z",
     "iopub.status.idle": "2023-10-13T21:48:43.102430Z",
     "shell.execute_reply": "2023-10-13T21:48:43.101780Z"
    },
    "papermill": {
     "duration": 0.037085,
     "end_time": "2023-10-13T21:48:43.104130",
     "exception": false,
     "start_time": "2023-10-13T21:48:43.067045",
     "status": "completed"
    },
    "tags": []
   },
   "outputs": [],
   "source": [
    "#targt_cols = ['menu'+str(i) for i in range(1,10)]\n",
    "#targt_cols"
   ]
  },
  {
   "cell_type": "code",
   "execution_count": 103,
   "id": "df796a8a",
   "metadata": {
    "execution": {
     "iopub.execute_input": "2023-10-13T21:48:43.165502Z",
     "iopub.status.busy": "2023-10-13T21:48:43.164832Z",
     "iopub.status.idle": "2023-10-13T21:48:43.168243Z",
     "shell.execute_reply": "2023-10-13T21:48:43.167582Z"
    },
    "papermill": {
     "duration": 0.035692,
     "end_time": "2023-10-13T21:48:43.169956",
     "exception": false,
     "start_time": "2023-10-13T21:48:43.134264",
     "status": "completed"
    },
    "tags": []
   },
   "outputs": [],
   "source": [
    "#y = [df[col] for col in targt_cols]\n",
    "#y"
   ]
  },
  {
   "cell_type": "code",
   "execution_count": 104,
   "id": "eb6a7eba",
   "metadata": {
    "execution": {
     "iopub.execute_input": "2023-10-13T21:48:43.231872Z",
     "iopub.status.busy": "2023-10-13T21:48:43.231208Z",
     "iopub.status.idle": "2023-10-13T21:48:43.235080Z",
     "shell.execute_reply": "2023-10-13T21:48:43.234247Z"
    },
    "papermill": {
     "duration": 0.037708,
     "end_time": "2023-10-13T21:48:43.237077",
     "exception": false,
     "start_time": "2023-10-13T21:48:43.199369",
     "status": "completed"
    },
    "tags": []
   },
   "outputs": [],
   "source": [
    "#df_dum = df.copy()\n",
    "#df_dum"
   ]
  },
  {
   "cell_type": "code",
   "execution_count": 105,
   "id": "8aee501a",
   "metadata": {
    "execution": {
     "iopub.execute_input": "2023-10-13T21:48:43.299710Z",
     "iopub.status.busy": "2023-10-13T21:48:43.299027Z",
     "iopub.status.idle": "2023-10-13T21:48:43.302702Z",
     "shell.execute_reply": "2023-10-13T21:48:43.301911Z"
    },
    "papermill": {
     "duration": 0.03742,
     "end_time": "2023-10-13T21:48:43.304608",
     "exception": false,
     "start_time": "2023-10-13T21:48:43.267188",
     "status": "completed"
    },
    "tags": []
   },
   "outputs": [],
   "source": [
    "#y = df[targt_cols]\n",
    "#y"
   ]
  },
  {
   "cell_type": "code",
   "execution_count": 106,
   "id": "3fc77b51",
   "metadata": {
    "execution": {
     "iopub.execute_input": "2023-10-13T21:48:43.366859Z",
     "iopub.status.busy": "2023-10-13T21:48:43.366187Z",
     "iopub.status.idle": "2023-10-13T21:48:43.370071Z",
     "shell.execute_reply": "2023-10-13T21:48:43.369290Z"
    },
    "papermill": {
     "duration": 0.037065,
     "end_time": "2023-10-13T21:48:43.371917",
     "exception": false,
     "start_time": "2023-10-13T21:48:43.334852",
     "status": "completed"
    },
    "tags": []
   },
   "outputs": [],
   "source": [
    "# Rename columns\n",
    "#new_column_names = {0: 'Ekim', 1: 'Kasım', 2: 'Aralık'}\n",
    "#df_dum.rename(columns=new_column_names, inplace=True)\n",
    "#df_dum.columns"
   ]
  },
  {
   "cell_type": "code",
   "execution_count": 107,
   "id": "3c92f2f3",
   "metadata": {
    "execution": {
     "iopub.execute_input": "2023-10-13T21:48:43.432532Z",
     "iopub.status.busy": "2023-10-13T21:48:43.431906Z",
     "iopub.status.idle": "2023-10-13T21:48:43.435554Z",
     "shell.execute_reply": "2023-10-13T21:48:43.434893Z"
    },
    "papermill": {
     "duration": 0.035934,
     "end_time": "2023-10-13T21:48:43.437286",
     "exception": false,
     "start_time": "2023-10-13T21:48:43.401352",
     "status": "completed"
    },
    "tags": []
   },
   "outputs": [],
   "source": [
    "\n",
    "#df_dum.drop(targt_cols,axis=1,inplace=True)\n",
    "#train, test = train_test_split(X, y, 0.2)\n",
    "#df_dum\n"
   ]
  },
  {
   "cell_type": "code",
   "execution_count": 108,
   "id": "3ea216a2",
   "metadata": {
    "execution": {
     "iopub.execute_input": "2023-10-13T21:48:43.498209Z",
     "iopub.status.busy": "2023-10-13T21:48:43.497228Z",
     "iopub.status.idle": "2023-10-13T21:48:43.501835Z",
     "shell.execute_reply": "2023-10-13T21:48:43.500979Z"
    },
    "papermill": {
     "duration": 0.037061,
     "end_time": "2023-10-13T21:48:43.503675",
     "exception": false,
     "start_time": "2023-10-13T21:48:43.466614",
     "status": "completed"
    },
    "tags": []
   },
   "outputs": [],
   "source": [
    "#df_dum.columns"
   ]
  },
  {
   "cell_type": "code",
   "execution_count": 109,
   "id": "8f83a2c6",
   "metadata": {
    "execution": {
     "iopub.execute_input": "2023-10-13T21:48:43.564515Z",
     "iopub.status.busy": "2023-10-13T21:48:43.564139Z",
     "iopub.status.idle": "2023-10-13T21:48:43.568217Z",
     "shell.execute_reply": "2023-10-13T21:48:43.567193Z"
    },
    "papermill": {
     "duration": 0.036971,
     "end_time": "2023-10-13T21:48:43.570175",
     "exception": false,
     "start_time": "2023-10-13T21:48:43.533204",
     "status": "completed"
    },
    "tags": []
   },
   "outputs": [],
   "source": [
    "#X = df_dum.copy()\n",
    "#X"
   ]
  },
  {
   "cell_type": "code",
   "execution_count": 110,
   "id": "f4a0383c",
   "metadata": {
    "execution": {
     "iopub.execute_input": "2023-10-13T21:48:43.634022Z",
     "iopub.status.busy": "2023-10-13T21:48:43.633382Z",
     "iopub.status.idle": "2023-10-13T21:48:43.637072Z",
     "shell.execute_reply": "2023-10-13T21:48:43.636227Z"
    },
    "papermill": {
     "duration": 0.036309,
     "end_time": "2023-10-13T21:48:43.638864",
     "exception": false,
     "start_time": "2023-10-13T21:48:43.602555",
     "status": "completed"
    },
    "tags": []
   },
   "outputs": [],
   "source": [
    "#y1 = list(y['menu1'])\n",
    "#y1[:10]"
   ]
  },
  {
   "cell_type": "code",
   "execution_count": 111,
   "id": "bf5c7c1e",
   "metadata": {
    "execution": {
     "iopub.execute_input": "2023-10-13T21:48:43.699923Z",
     "iopub.status.busy": "2023-10-13T21:48:43.699244Z",
     "iopub.status.idle": "2023-10-13T21:48:43.703332Z",
     "shell.execute_reply": "2023-10-13T21:48:43.702534Z"
    },
    "papermill": {
     "duration": 0.036887,
     "end_time": "2023-10-13T21:48:43.705239",
     "exception": false,
     "start_time": "2023-10-13T21:48:43.668352",
     "status": "completed"
    },
    "tags": []
   },
   "outputs": [],
   "source": [
    "#X1 = X.head(20000)\n",
    "#y1 = y1[:20000]"
   ]
  },
  {
   "cell_type": "code",
   "execution_count": 112,
   "id": "7a7a58d6",
   "metadata": {
    "execution": {
     "iopub.execute_input": "2023-10-13T21:48:43.766590Z",
     "iopub.status.busy": "2023-10-13T21:48:43.765890Z",
     "iopub.status.idle": "2023-10-13T21:48:43.769631Z",
     "shell.execute_reply": "2023-10-13T21:48:43.768948Z"
    },
    "papermill": {
     "duration": 0.036321,
     "end_time": "2023-10-13T21:48:43.771385",
     "exception": false,
     "start_time": "2023-10-13T21:48:43.735064",
     "status": "completed"
    },
    "tags": []
   },
   "outputs": [],
   "source": [
    "#X_train, X_test, y_train, y_test = train_test_split(X1, y1, test_size=0.2, random_state=42)\n",
    "\n",
    "# Create an XGBRegressor model\n",
    "#xg_reg = xgb.XGBRegressor(objective='reg:squarederror', seed=42)\n",
    "#xg_reg.fit(X_train, y_train)\n",
    "\n",
    "#y_pred = xg_reg.predict(X_test)"
   ]
  },
  {
   "cell_type": "code",
   "execution_count": 113,
   "id": "b2d3ce88",
   "metadata": {
    "execution": {
     "iopub.execute_input": "2023-10-13T21:48:43.832462Z",
     "iopub.status.busy": "2023-10-13T21:48:43.831790Z",
     "iopub.status.idle": "2023-10-13T21:48:43.835193Z",
     "shell.execute_reply": "2023-10-13T21:48:43.834544Z"
    },
    "papermill": {
     "duration": 0.035963,
     "end_time": "2023-10-13T21:48:43.836879",
     "exception": false,
     "start_time": "2023-10-13T21:48:43.800916",
     "status": "completed"
    },
    "tags": []
   },
   "outputs": [],
   "source": [
    "# Evaluate the model\n",
    "#rmse = mean_squared_error(y_test, y_pred, squared=False)\n",
    "#rmse"
   ]
  },
  {
   "cell_type": "code",
   "execution_count": 114,
   "id": "5606cc2e",
   "metadata": {
    "execution": {
     "iopub.execute_input": "2023-10-13T21:48:43.897743Z",
     "iopub.status.busy": "2023-10-13T21:48:43.897084Z",
     "iopub.status.idle": "2023-10-13T21:48:43.900801Z",
     "shell.execute_reply": "2023-10-13T21:48:43.900072Z"
    },
    "papermill": {
     "duration": 0.036348,
     "end_time": "2023-10-13T21:48:43.902808",
     "exception": false,
     "start_time": "2023-10-13T21:48:43.866460",
     "status": "completed"
    },
    "tags": []
   },
   "outputs": [],
   "source": [
    "#y2 = list(y['menu2'])\n",
    "#y2 = y2[:20000]\n",
    "\n",
    "#X_train, X_test, y_train, y_test = train_test_split(X1, y2, test_size=0.2, random_state=42)\n",
    "\n",
    "# Create an XGBRegressor model\n",
    "#xg_reg = xgb.XGBRegressor(objective='reg:squarederror', seed=42)\n",
    "#xg_reg.fit(X_train, y_train)\n",
    "\n",
    "#y_pred2 = xg_reg.predict(X_test)"
   ]
  },
  {
   "cell_type": "code",
   "execution_count": 115,
   "id": "4111379e",
   "metadata": {
    "execution": {
     "iopub.execute_input": "2023-10-13T21:48:43.971115Z",
     "iopub.status.busy": "2023-10-13T21:48:43.970711Z",
     "iopub.status.idle": "2023-10-13T21:48:43.974626Z",
     "shell.execute_reply": "2023-10-13T21:48:43.973697Z"
    },
    "papermill": {
     "duration": 0.044354,
     "end_time": "2023-10-13T21:48:43.976488",
     "exception": false,
     "start_time": "2023-10-13T21:48:43.932134",
     "status": "completed"
    },
    "tags": []
   },
   "outputs": [],
   "source": [
    "# Evaluate the model\n",
    "#rmse2 = mean_squared_error(y_test, y_pred2, squared=False)\n",
    "#rmse2"
   ]
  },
  {
   "cell_type": "code",
   "execution_count": 116,
   "id": "13b2f7c3",
   "metadata": {
    "execution": {
     "iopub.execute_input": "2023-10-13T21:48:44.046822Z",
     "iopub.status.busy": "2023-10-13T21:48:44.045523Z",
     "iopub.status.idle": "2023-10-13T21:48:44.050629Z",
     "shell.execute_reply": "2023-10-13T21:48:44.049676Z"
    },
    "papermill": {
     "duration": 0.042525,
     "end_time": "2023-10-13T21:48:44.053059",
     "exception": false,
     "start_time": "2023-10-13T21:48:44.010534",
     "status": "completed"
    },
    "tags": []
   },
   "outputs": [],
   "source": [
    "#y_all = y"
   ]
  },
  {
   "cell_type": "code",
   "execution_count": 117,
   "id": "ffff9350",
   "metadata": {
    "execution": {
     "iopub.execute_input": "2023-10-13T21:48:44.118944Z",
     "iopub.status.busy": "2023-10-13T21:48:44.118056Z",
     "iopub.status.idle": "2023-10-13T21:48:44.124560Z",
     "shell.execute_reply": "2023-10-13T21:48:44.123646Z"
    },
    "papermill": {
     "duration": 0.042366,
     "end_time": "2023-10-13T21:48:44.127283",
     "exception": false,
     "start_time": "2023-10-13T21:48:44.084917",
     "status": "completed"
    },
    "tags": []
   },
   "outputs": [],
   "source": [
    "#Lets try all target together in XGBRegressor\n",
    "#X_train, X_test, y_train, y_test = train_test_split(X, y_all, test_size=0.2, random_state=42)\n",
    "\n",
    "# Create an XGBRegressor model\n",
    "#xg_reg = xgb.XGBRegressor(objective='reg:squarederror', seed=42)\n",
    "#xg_reg.fit(X_train, y_train)\n",
    "\n",
    "#y_preds = xg_reg.predict(X_test)"
   ]
  },
  {
   "cell_type": "code",
   "execution_count": 118,
   "id": "9ed90fcb",
   "metadata": {
    "execution": {
     "iopub.execute_input": "2023-10-13T21:48:44.195834Z",
     "iopub.status.busy": "2023-10-13T21:48:44.195454Z",
     "iopub.status.idle": "2023-10-13T21:48:44.199459Z",
     "shell.execute_reply": "2023-10-13T21:48:44.198419Z"
    },
    "papermill": {
     "duration": 0.037664,
     "end_time": "2023-10-13T21:48:44.201476",
     "exception": false,
     "start_time": "2023-10-13T21:48:44.163812",
     "status": "completed"
    },
    "tags": []
   },
   "outputs": [],
   "source": [
    "# Evaluate the model\n",
    "#rmse = mean_squared_error(y_test, y_preds, squared=False)\n",
    "#rmse"
   ]
  },
  {
   "cell_type": "code",
   "execution_count": 119,
   "id": "5815f007",
   "metadata": {
    "execution": {
     "iopub.execute_input": "2023-10-13T21:48:44.266999Z",
     "iopub.status.busy": "2023-10-13T21:48:44.266289Z",
     "iopub.status.idle": "2023-10-13T21:48:44.276344Z",
     "shell.execute_reply": "2023-10-13T21:48:44.271887Z"
    },
    "papermill": {
     "duration": 0.048087,
     "end_time": "2023-10-13T21:48:44.280908",
     "exception": false,
     "start_time": "2023-10-13T21:48:44.232821",
     "status": "completed"
    },
    "tags": []
   },
   "outputs": [],
   "source": [
    "#y_preds.shape"
   ]
  },
  {
   "cell_type": "code",
   "execution_count": 120,
   "id": "369b22a3",
   "metadata": {
    "execution": {
     "iopub.execute_input": "2023-10-13T21:48:44.371672Z",
     "iopub.status.busy": "2023-10-13T21:48:44.370655Z",
     "iopub.status.idle": "2023-10-13T21:48:44.375624Z",
     "shell.execute_reply": "2023-10-13T21:48:44.374918Z"
    },
    "papermill": {
     "duration": 0.042188,
     "end_time": "2023-10-13T21:48:44.377983",
     "exception": false,
     "start_time": "2023-10-13T21:48:44.335795",
     "status": "completed"
    },
    "tags": []
   },
   "outputs": [],
   "source": [
    "#type(y_preds)"
   ]
  },
  {
   "cell_type": "code",
   "execution_count": 121,
   "id": "aeb7d885",
   "metadata": {
    "execution": {
     "iopub.execute_input": "2023-10-13T21:48:44.444151Z",
     "iopub.status.busy": "2023-10-13T21:48:44.443424Z",
     "iopub.status.idle": "2023-10-13T21:48:44.449299Z",
     "shell.execute_reply": "2023-10-13T21:48:44.448488Z"
    },
    "papermill": {
     "duration": 0.03984,
     "end_time": "2023-10-13T21:48:44.451445",
     "exception": false,
     "start_time": "2023-10-13T21:48:44.411605",
     "status": "completed"
    },
    "tags": []
   },
   "outputs": [],
   "source": [
    "def change_highest_three_to_one(numbers):\n",
    "    # Sort the list in descending order\n",
    "    sorted_numbers = sorted(numbers, reverse=True)\n",
    "    \n",
    "    # Identify the three highest values\n",
    "    highest_values = sorted_numbers[:3]\n",
    "    \n",
    "    # Replace the three highest values with '1'\n",
    "    for i in range(len(numbers)):\n",
    "        if numbers[i] in highest_values:\n",
    "            numbers[i] = int(1)\n",
    "        else:\n",
    "            numbers[i] = int(0)\n",
    "    \n",
    "    return numbers"
   ]
  },
  {
   "cell_type": "markdown",
   "id": "8488b8cb",
   "metadata": {
    "papermill": {
     "duration": 0.029999,
     "end_time": "2023-10-13T21:48:44.511657",
     "exception": false,
     "start_time": "2023-10-13T21:48:44.481658",
     "status": "completed"
    },
    "tags": []
   },
   "source": [
    "for row in y_preds:\n",
    "    for el in row:\n",
    "        "
   ]
  },
  {
   "cell_type": "code",
   "execution_count": 122,
   "id": "481c8c4d",
   "metadata": {
    "execution": {
     "iopub.execute_input": "2023-10-13T21:48:44.573501Z",
     "iopub.status.busy": "2023-10-13T21:48:44.572828Z",
     "iopub.status.idle": "2023-10-13T21:48:44.577137Z",
     "shell.execute_reply": "2023-10-13T21:48:44.576399Z"
    },
    "papermill": {
     "duration": 0.037716,
     "end_time": "2023-10-13T21:48:44.579105",
     "exception": false,
     "start_time": "2023-10-13T21:48:44.541389",
     "status": "completed"
    },
    "tags": []
   },
   "outputs": [],
   "source": [
    "### for i, row in enumerate(y_preds):\n",
    "    #y_preds[i] = change_highest_three_to_one(row)\n",
    "#y_preds = y_preds.astype(int)\n",
    "#y_preds[:10]"
   ]
  },
  {
   "cell_type": "code",
   "execution_count": 123,
   "id": "850f156c",
   "metadata": {
    "execution": {
     "iopub.execute_input": "2023-10-13T21:48:44.643099Z",
     "iopub.status.busy": "2023-10-13T21:48:44.642373Z",
     "iopub.status.idle": "2023-10-13T21:48:44.646657Z",
     "shell.execute_reply": "2023-10-13T21:48:44.645963Z"
    },
    "papermill": {
     "duration": 0.037206,
     "end_time": "2023-10-13T21:48:44.648609",
     "exception": false,
     "start_time": "2023-10-13T21:48:44.611403",
     "status": "completed"
    },
    "tags": []
   },
   "outputs": [],
   "source": [
    "#y_pred_sub = []\n",
    "#for row in y_preds:\n",
    "    #string_ints = [str(int) for int in row]\n",
    "    #y_pred_sub.append(''.join(string_ints))\n",
    "#y_pred_sub[:10]"
   ]
  },
  {
   "cell_type": "code",
   "execution_count": 124,
   "id": "f827b9c0",
   "metadata": {
    "execution": {
     "iopub.execute_input": "2023-10-13T21:48:44.710301Z",
     "iopub.status.busy": "2023-10-13T21:48:44.709555Z",
     "iopub.status.idle": "2023-10-13T21:48:44.714093Z",
     "shell.execute_reply": "2023-10-13T21:48:44.713371Z"
    },
    "papermill": {
     "duration": 0.037596,
     "end_time": "2023-10-13T21:48:44.716085",
     "exception": false,
     "start_time": "2023-10-13T21:48:44.678489",
     "status": "completed"
    },
    "tags": []
   },
   "outputs": [],
   "source": [
    "# Parquet File okuma\n",
    "#pf_test = ParquetFile(\"/kaggle/input/turkiye-is-bankasi-ml-challenge-5/test_final.parquet\")\n",
    "\n",
    "# Bir pandas dataFrame'ine dönüştürme\n",
    "#df_test = pf_test.to_pandas()\n",
    "#df_test\n",
    "#Csv olarak kaydetme\n",
    "#dataFrame.to_csv(\"train_final.csv\", index = False)"
   ]
  },
  {
   "cell_type": "code",
   "execution_count": 125,
   "id": "5565e398",
   "metadata": {
    "execution": {
     "iopub.execute_input": "2023-10-13T21:48:44.778630Z",
     "iopub.status.busy": "2023-10-13T21:48:44.777905Z",
     "iopub.status.idle": "2023-10-13T21:48:44.782224Z",
     "shell.execute_reply": "2023-10-13T21:48:44.781537Z"
    },
    "papermill": {
     "duration": 0.037716,
     "end_time": "2023-10-13T21:48:44.784192",
     "exception": false,
     "start_time": "2023-10-13T21:48:44.746476",
     "status": "completed"
    },
    "tags": []
   },
   "outputs": [],
   "source": [
    "#sub_df = pd.DataFrame({'id':,'target':y_pred_sub})"
   ]
  },
  {
   "cell_type": "code",
   "execution_count": 126,
   "id": "2eea3079",
   "metadata": {
    "execution": {
     "iopub.execute_input": "2023-10-13T21:48:44.846529Z",
     "iopub.status.busy": "2023-10-13T21:48:44.845816Z",
     "iopub.status.idle": "2023-10-13T21:48:44.850413Z",
     "shell.execute_reply": "2023-10-13T21:48:44.849657Z"
    },
    "papermill": {
     "duration": 0.037912,
     "end_time": "2023-10-13T21:48:44.852491",
     "exception": false,
     "start_time": "2023-10-13T21:48:44.814579",
     "status": "completed"
    },
    "tags": []
   },
   "outputs": [],
   "source": [
    "#carrier_kalanlar = ['TURKCELL', 'VODAFONE TR', 'TURK TELEKOM']\n",
    "#devicebrand_kalanlar = ['Apple', 'samsung', 'Redmi', 'HUAWEI', 'OPPO']\n",
    "import sys"
   ]
  },
  {
   "cell_type": "code",
   "execution_count": 127,
   "id": "0e8ccdda",
   "metadata": {
    "execution": {
     "iopub.execute_input": "2023-10-13T21:48:44.914375Z",
     "iopub.status.busy": "2023-10-13T21:48:44.913612Z",
     "iopub.status.idle": "2023-10-13T21:48:44.918009Z",
     "shell.execute_reply": "2023-10-13T21:48:44.917278Z"
    },
    "papermill": {
     "duration": 0.03771,
     "end_time": "2023-10-13T21:48:44.919938",
     "exception": false,
     "start_time": "2023-10-13T21:48:44.882228",
     "status": "completed"
    },
    "tags": []
   },
   "outputs": [],
   "source": [
    "#-------------------------------------------------------------------------------------------------"
   ]
  },
  {
   "cell_type": "code",
   "execution_count": 128,
   "id": "09ae3993",
   "metadata": {
    "execution": {
     "iopub.execute_input": "2023-10-13T21:48:44.980653Z",
     "iopub.status.busy": "2023-10-13T21:48:44.980336Z",
     "iopub.status.idle": "2023-10-13T21:48:44.985500Z",
     "shell.execute_reply": "2023-10-13T21:48:44.984609Z"
    },
    "papermill": {
     "duration": 0.037632,
     "end_time": "2023-10-13T21:48:44.987396",
     "exception": false,
     "start_time": "2023-10-13T21:48:44.949764",
     "status": "completed"
    },
    "tags": []
   },
   "outputs": [],
   "source": [
    "def clean_target(df):\n",
    "    df['target_cleaned'] = df['target'].apply(lambda i: ','.join([value.strip() for value in i[0].split(',')]))\n",
    "    return df"
   ]
  },
  {
   "cell_type": "code",
   "execution_count": 129,
   "id": "c73b7f32",
   "metadata": {
    "execution": {
     "iopub.execute_input": "2023-10-13T21:48:45.052928Z",
     "iopub.status.busy": "2023-10-13T21:48:45.052189Z",
     "iopub.status.idle": "2023-10-13T21:48:45.065131Z",
     "shell.execute_reply": "2023-10-13T21:48:45.064130Z"
    },
    "papermill": {
     "duration": 0.048842,
     "end_time": "2023-10-13T21:48:45.067657",
     "exception": false,
     "start_time": "2023-10-13T21:48:45.018815",
     "status": "completed"
    },
    "tags": []
   },
   "outputs": [],
   "source": [
    "dataFrame['total_seconds'] = dataFrame['n_seconds_1']+dataFrame['n_seconds_2']+dataFrame['n_seconds_3']"
   ]
  },
  {
   "cell_type": "code",
   "execution_count": 130,
   "id": "0959bc64",
   "metadata": {
    "execution": {
     "iopub.execute_input": "2023-10-13T21:48:45.129446Z",
     "iopub.status.busy": "2023-10-13T21:48:45.129010Z",
     "iopub.status.idle": "2023-10-13T21:48:45.136499Z",
     "shell.execute_reply": "2023-10-13T21:48:45.135488Z"
    },
    "papermill": {
     "duration": 0.040529,
     "end_time": "2023-10-13T21:48:45.138404",
     "exception": false,
     "start_time": "2023-10-13T21:48:45.097875",
     "status": "completed"
    },
    "tags": []
   },
   "outputs": [
    {
     "data": {
      "text/plain": [
       "Index(['id', 'month', 'n_seconds_1', 'n_seconds_2', 'n_seconds_3', 'carrier',\n",
       "       'devicebrand', 'feature_0', 'feature_1', 'feature_2', 'feature_3',\n",
       "       'feature_4', 'feature_5', 'feature_6', 'feature_7', 'feature_8',\n",
       "       'feature_9', 'feature_10', 'feature_11', 'feature_12', 'feature_13',\n",
       "       'feature_14', 'feature_15', 'feature_16', 'feature_17', 'feature_18',\n",
       "       'feature_19', 'feature_20', 'feature_21', 'feature_22', 'feature_23',\n",
       "       'feature_24', 'feature_25', 'feature_26', 'feature_27', 'feature_28',\n",
       "       'feature_29', 'feature_30', 'feature_31', 'feature_32', 'feature_33',\n",
       "       'feature_34', 'feature_35', 'feature_36', 'feature_37', 'feature_38',\n",
       "       'feature_39', 'feature_40', 'feature_41', 'feature_42', 'feature_43',\n",
       "       'feature_44', 'feature_45', 'feature_46', 'feature_47', 'feature_48',\n",
       "       'feature_49', 'target', 'total_seconds'],\n",
       "      dtype='object')"
      ]
     },
     "execution_count": 130,
     "metadata": {},
     "output_type": "execute_result"
    }
   ],
   "source": [
    "dataFrame.columns"
   ]
  },
  {
   "cell_type": "code",
   "execution_count": 131,
   "id": "1eb7f0a0",
   "metadata": {
    "execution": {
     "iopub.execute_input": "2023-10-13T21:48:45.199376Z",
     "iopub.status.busy": "2023-10-13T21:48:45.199023Z",
     "iopub.status.idle": "2023-10-13T21:48:45.208931Z",
     "shell.execute_reply": "2023-10-13T21:48:45.207879Z"
    },
    "papermill": {
     "duration": 0.042754,
     "end_time": "2023-10-13T21:48:45.210790",
     "exception": false,
     "start_time": "2023-10-13T21:48:45.168036",
     "status": "completed"
    },
    "tags": []
   },
   "outputs": [],
   "source": [
    "def preprocess(df1, testt=False):\n",
    "    #All  preprocess will be done here!\n",
    "    if 'month' in df1.columns:\n",
    "        df1.drop(columns='month', axis=1, inplace=True)\n",
    "        \n",
    "    df1['carrier'] = df1['carrier'].apply(carrier_other)\n",
    "    df1['devicebrand'] = df1['devicebrand'].apply(devicebrand_other)\n",
    "    \n",
    "    cat_cols = [col for col in df1.columns if str(df1[col].dtypes) in [\"category\", \"object\", \"bool\"]]\n",
    "    cat_cols.remove('id')\n",
    "    if not testt:\n",
    "        cat_cols.remove('target')\n",
    "        \n",
    "    num_but_cat = [col for col in df1.columns if df1[col].nunique() < 10 and df1[col].dtypes in [\"int\", \"float\", \"int64\", \"float64\"]]\n",
    "    num_cols = [col for col in df1.columns if df1[col].dtypes in [\"int\", \"float\", \"int64\", \"float64\"]]\n",
    "    num_cols = [col for col in num_cols if col not in cat_cols]\n",
    "    \n",
    "    if 'month' in num_cols:\n",
    "        num_cols.remove('month')\n",
    "\n",
    "    if not testt:\n",
    "        for col in num_cols:\n",
    "            replace_with_threshoulds(df1, col)\n",
    "        df1 = lof_remove(df1, num_cols)\n",
    "        df1.reset_index(inplace=True)\n",
    "        \n",
    "    dmyy = minmax_scaler(df1, num_cols)[num_cols]\n",
    "    df1[num_cols] = dmyy[num_cols]\n",
    "    \n",
    "    df_feature_encoded = pd.get_dummies(df1, columns=['carrier', 'devicebrand'], dtype=int, drop_first=True)\n",
    "\n",
    "    df1 = df1.merge(df_feature_encoded, how='outer')\n",
    "    \n",
    "    if df1.isnull().sum().any():\n",
    "        sys.exit('nulll sdsd')\n",
    "\n",
    "    df1.drop(columns=['devicebrand','carrier'], inplace=True, axis=1)\n",
    "    \n",
    "    df_prep = df1.copy()\n",
    "    \n",
    "    return df_prep\n"
   ]
  },
  {
   "cell_type": "code",
   "execution_count": 132,
   "id": "6c27094b",
   "metadata": {
    "execution": {
     "iopub.execute_input": "2023-10-13T21:48:45.273332Z",
     "iopub.status.busy": "2023-10-13T21:48:45.272996Z",
     "iopub.status.idle": "2023-10-13T21:49:15.688376Z",
     "shell.execute_reply": "2023-10-13T21:49:15.687237Z"
    },
    "papermill": {
     "duration": 30.488496,
     "end_time": "2023-10-13T21:49:15.729854",
     "exception": false,
     "start_time": "2023-10-13T21:48:45.241358",
     "status": "completed"
    },
    "tags": []
   },
   "outputs": [
    {
     "data": {
      "text/html": [
       "<div>\n",
       "<style scoped>\n",
       "    .dataframe tbody tr th:only-of-type {\n",
       "        vertical-align: middle;\n",
       "    }\n",
       "\n",
       "    .dataframe tbody tr th {\n",
       "        vertical-align: top;\n",
       "    }\n",
       "\n",
       "    .dataframe thead th {\n",
       "        text-align: right;\n",
       "    }\n",
       "</style>\n",
       "<table border=\"1\" class=\"dataframe\">\n",
       "  <thead>\n",
       "    <tr style=\"text-align: right;\">\n",
       "      <th></th>\n",
       "      <th>index</th>\n",
       "      <th>id</th>\n",
       "      <th>n_seconds_1</th>\n",
       "      <th>n_seconds_2</th>\n",
       "      <th>n_seconds_3</th>\n",
       "      <th>feature_0</th>\n",
       "      <th>feature_1</th>\n",
       "      <th>feature_2</th>\n",
       "      <th>feature_3</th>\n",
       "      <th>feature_4</th>\n",
       "      <th>...</th>\n",
       "      <th>target</th>\n",
       "      <th>total_seconds</th>\n",
       "      <th>carrier_TURKCELL</th>\n",
       "      <th>carrier_VODAFONE TR</th>\n",
       "      <th>carrier_other</th>\n",
       "      <th>devicebrand_HUAWEI</th>\n",
       "      <th>devicebrand_OPPO</th>\n",
       "      <th>devicebrand_Redmi</th>\n",
       "      <th>devicebrand_other</th>\n",
       "      <th>devicebrand_samsung</th>\n",
       "    </tr>\n",
       "  </thead>\n",
       "  <tbody>\n",
       "    <tr>\n",
       "      <th>0</th>\n",
       "      <td>1</td>\n",
       "      <td>867285b116c063d5a8482f5be</td>\n",
       "      <td>0.872592</td>\n",
       "      <td>0.266423</td>\n",
       "      <td>0.483686</td>\n",
       "      <td>0.374041</td>\n",
       "      <td>0.483134</td>\n",
       "      <td>0.515754</td>\n",
       "      <td>0.549852</td>\n",
       "      <td>0.662184</td>\n",
       "      <td>...</td>\n",
       "      <td>menu7, menu8, menu4</td>\n",
       "      <td>0.961338</td>\n",
       "      <td>1</td>\n",
       "      <td>0</td>\n",
       "      <td>0</td>\n",
       "      <td>0</td>\n",
       "      <td>0</td>\n",
       "      <td>0</td>\n",
       "      <td>0</td>\n",
       "      <td>1</td>\n",
       "    </tr>\n",
       "    <tr>\n",
       "      <th>1</th>\n",
       "      <td>3</td>\n",
       "      <td>f2d2b25073ccc298eced86897</td>\n",
       "      <td>0.592131</td>\n",
       "      <td>0.058843</td>\n",
       "      <td>0.026717</td>\n",
       "      <td>0.346957</td>\n",
       "      <td>0.585090</td>\n",
       "      <td>0.474843</td>\n",
       "      <td>0.626642</td>\n",
       "      <td>0.572472</td>\n",
       "      <td>...</td>\n",
       "      <td>menu6, menu2, menu1</td>\n",
       "      <td>0.570873</td>\n",
       "      <td>1</td>\n",
       "      <td>0</td>\n",
       "      <td>0</td>\n",
       "      <td>0</td>\n",
       "      <td>0</td>\n",
       "      <td>0</td>\n",
       "      <td>0</td>\n",
       "      <td>1</td>\n",
       "    </tr>\n",
       "    <tr>\n",
       "      <th>2</th>\n",
       "      <td>6</td>\n",
       "      <td>5a0e7b559d8ca4fca42a99f1f</td>\n",
       "      <td>0.501081</td>\n",
       "      <td>0.242487</td>\n",
       "      <td>0.123690</td>\n",
       "      <td>0.243050</td>\n",
       "      <td>0.452700</td>\n",
       "      <td>0.624325</td>\n",
       "      <td>0.351739</td>\n",
       "      <td>0.558932</td>\n",
       "      <td>...</td>\n",
       "      <td>menu2, menu1, menu8</td>\n",
       "      <td>0.556689</td>\n",
       "      <td>1</td>\n",
       "      <td>0</td>\n",
       "      <td>0</td>\n",
       "      <td>1</td>\n",
       "      <td>0</td>\n",
       "      <td>0</td>\n",
       "      <td>0</td>\n",
       "      <td>0</td>\n",
       "    </tr>\n",
       "    <tr>\n",
       "      <th>3</th>\n",
       "      <td>8</td>\n",
       "      <td>9856bbca3c56d2799034b4dda</td>\n",
       "      <td>0.483094</td>\n",
       "      <td>0.196193</td>\n",
       "      <td>0.182477</td>\n",
       "      <td>0.548301</td>\n",
       "      <td>0.331272</td>\n",
       "      <td>0.678016</td>\n",
       "      <td>0.413021</td>\n",
       "      <td>0.570912</td>\n",
       "      <td>...</td>\n",
       "      <td>menu6, menu2, menu9</td>\n",
       "      <td>0.534399</td>\n",
       "      <td>1</td>\n",
       "      <td>0</td>\n",
       "      <td>0</td>\n",
       "      <td>0</td>\n",
       "      <td>0</td>\n",
       "      <td>0</td>\n",
       "      <td>0</td>\n",
       "      <td>1</td>\n",
       "    </tr>\n",
       "    <tr>\n",
       "      <th>4</th>\n",
       "      <td>9</td>\n",
       "      <td>ef747790facdcad197472a68d</td>\n",
       "      <td>0.474273</td>\n",
       "      <td>0.139515</td>\n",
       "      <td>0.227536</td>\n",
       "      <td>0.555304</td>\n",
       "      <td>0.229275</td>\n",
       "      <td>0.634332</td>\n",
       "      <td>0.340834</td>\n",
       "      <td>0.648093</td>\n",
       "      <td>...</td>\n",
       "      <td>menu2, menu4, menu5</td>\n",
       "      <td>0.515438</td>\n",
       "      <td>1</td>\n",
       "      <td>0</td>\n",
       "      <td>0</td>\n",
       "      <td>0</td>\n",
       "      <td>0</td>\n",
       "      <td>0</td>\n",
       "      <td>0</td>\n",
       "      <td>0</td>\n",
       "    </tr>\n",
       "    <tr>\n",
       "      <th>...</th>\n",
       "      <td>...</td>\n",
       "      <td>...</td>\n",
       "      <td>...</td>\n",
       "      <td>...</td>\n",
       "      <td>...</td>\n",
       "      <td>...</td>\n",
       "      <td>...</td>\n",
       "      <td>...</td>\n",
       "      <td>...</td>\n",
       "      <td>...</td>\n",
       "      <td>...</td>\n",
       "      <td>...</td>\n",
       "      <td>...</td>\n",
       "      <td>...</td>\n",
       "      <td>...</td>\n",
       "      <td>...</td>\n",
       "      <td>...</td>\n",
       "      <td>...</td>\n",
       "      <td>...</td>\n",
       "      <td>...</td>\n",
       "      <td>...</td>\n",
       "    </tr>\n",
       "    <tr>\n",
       "      <th>89639</th>\n",
       "      <td>94038</td>\n",
       "      <td>55fb6267be3b7f1731013c775</td>\n",
       "      <td>0.000424</td>\n",
       "      <td>0.003048</td>\n",
       "      <td>0.002313</td>\n",
       "      <td>0.332591</td>\n",
       "      <td>0.401345</td>\n",
       "      <td>0.607445</td>\n",
       "      <td>0.414446</td>\n",
       "      <td>0.692073</td>\n",
       "      <td>...</td>\n",
       "      <td>menu3, menu2, menu8</td>\n",
       "      <td>0.001014</td>\n",
       "      <td>1</td>\n",
       "      <td>0</td>\n",
       "      <td>0</td>\n",
       "      <td>0</td>\n",
       "      <td>0</td>\n",
       "      <td>0</td>\n",
       "      <td>0</td>\n",
       "      <td>0</td>\n",
       "    </tr>\n",
       "    <tr>\n",
       "      <th>89640</th>\n",
       "      <td>94039</td>\n",
       "      <td>bd4cea2e2d7db86515dcc05cd</td>\n",
       "      <td>0.000413</td>\n",
       "      <td>0.000751</td>\n",
       "      <td>0.001439</td>\n",
       "      <td>0.401710</td>\n",
       "      <td>0.467925</td>\n",
       "      <td>0.711892</td>\n",
       "      <td>0.414519</td>\n",
       "      <td>0.487643</td>\n",
       "      <td>...</td>\n",
       "      <td>menu3, menu2, menu4</td>\n",
       "      <td>0.000174</td>\n",
       "      <td>0</td>\n",
       "      <td>1</td>\n",
       "      <td>0</td>\n",
       "      <td>0</td>\n",
       "      <td>1</td>\n",
       "      <td>0</td>\n",
       "      <td>0</td>\n",
       "      <td>0</td>\n",
       "    </tr>\n",
       "    <tr>\n",
       "      <th>89641</th>\n",
       "      <td>94040</td>\n",
       "      <td>37082d75087fdad9b8d90675b</td>\n",
       "      <td>0.000299</td>\n",
       "      <td>0.002600</td>\n",
       "      <td>0.003987</td>\n",
       "      <td>0.488104</td>\n",
       "      <td>0.524507</td>\n",
       "      <td>0.418099</td>\n",
       "      <td>0.446275</td>\n",
       "      <td>0.683665</td>\n",
       "      <td>...</td>\n",
       "      <td>menu6, menu2, menu9</td>\n",
       "      <td>0.001005</td>\n",
       "      <td>1</td>\n",
       "      <td>0</td>\n",
       "      <td>0</td>\n",
       "      <td>0</td>\n",
       "      <td>0</td>\n",
       "      <td>0</td>\n",
       "      <td>0</td>\n",
       "      <td>0</td>\n",
       "    </tr>\n",
       "    <tr>\n",
       "      <th>89642</th>\n",
       "      <td>94043</td>\n",
       "      <td>a00027a3e75850e749b8cd3c1</td>\n",
       "      <td>0.000129</td>\n",
       "      <td>0.001487</td>\n",
       "      <td>0.002576</td>\n",
       "      <td>0.459819</td>\n",
       "      <td>0.246857</td>\n",
       "      <td>0.587207</td>\n",
       "      <td>0.439538</td>\n",
       "      <td>0.600103</td>\n",
       "      <td>...</td>\n",
       "      <td>menu9, menu3, menu4</td>\n",
       "      <td>0.000301</td>\n",
       "      <td>1</td>\n",
       "      <td>0</td>\n",
       "      <td>0</td>\n",
       "      <td>1</td>\n",
       "      <td>0</td>\n",
       "      <td>0</td>\n",
       "      <td>0</td>\n",
       "      <td>0</td>\n",
       "    </tr>\n",
       "    <tr>\n",
       "      <th>89643</th>\n",
       "      <td>94045</td>\n",
       "      <td>6aa4ff0f6cc5ef4c2980b2862</td>\n",
       "      <td>0.000056</td>\n",
       "      <td>0.001929</td>\n",
       "      <td>0.000669</td>\n",
       "      <td>0.523386</td>\n",
       "      <td>0.448652</td>\n",
       "      <td>0.599148</td>\n",
       "      <td>0.526916</td>\n",
       "      <td>0.512102</td>\n",
       "      <td>...</td>\n",
       "      <td>menu9, menu2, menu5</td>\n",
       "      <td>0.000090</td>\n",
       "      <td>1</td>\n",
       "      <td>0</td>\n",
       "      <td>0</td>\n",
       "      <td>0</td>\n",
       "      <td>0</td>\n",
       "      <td>0</td>\n",
       "      <td>0</td>\n",
       "      <td>1</td>\n",
       "    </tr>\n",
       "  </tbody>\n",
       "</table>\n",
       "<p>89644 rows × 65 columns</p>\n",
       "</div>"
      ],
      "text/plain": [
       "       index                         id  n_seconds_1  n_seconds_2  \\\n",
       "0          1  867285b116c063d5a8482f5be     0.872592     0.266423   \n",
       "1          3  f2d2b25073ccc298eced86897     0.592131     0.058843   \n",
       "2          6  5a0e7b559d8ca4fca42a99f1f     0.501081     0.242487   \n",
       "3          8  9856bbca3c56d2799034b4dda     0.483094     0.196193   \n",
       "4          9  ef747790facdcad197472a68d     0.474273     0.139515   \n",
       "...      ...                        ...          ...          ...   \n",
       "89639  94038  55fb6267be3b7f1731013c775     0.000424     0.003048   \n",
       "89640  94039  bd4cea2e2d7db86515dcc05cd     0.000413     0.000751   \n",
       "89641  94040  37082d75087fdad9b8d90675b     0.000299     0.002600   \n",
       "89642  94043  a00027a3e75850e749b8cd3c1     0.000129     0.001487   \n",
       "89643  94045  6aa4ff0f6cc5ef4c2980b2862     0.000056     0.001929   \n",
       "\n",
       "       n_seconds_3  feature_0  feature_1  feature_2  feature_3  feature_4  \\\n",
       "0         0.483686   0.374041   0.483134   0.515754   0.549852   0.662184   \n",
       "1         0.026717   0.346957   0.585090   0.474843   0.626642   0.572472   \n",
       "2         0.123690   0.243050   0.452700   0.624325   0.351739   0.558932   \n",
       "3         0.182477   0.548301   0.331272   0.678016   0.413021   0.570912   \n",
       "4         0.227536   0.555304   0.229275   0.634332   0.340834   0.648093   \n",
       "...            ...        ...        ...        ...        ...        ...   \n",
       "89639     0.002313   0.332591   0.401345   0.607445   0.414446   0.692073   \n",
       "89640     0.001439   0.401710   0.467925   0.711892   0.414519   0.487643   \n",
       "89641     0.003987   0.488104   0.524507   0.418099   0.446275   0.683665   \n",
       "89642     0.002576   0.459819   0.246857   0.587207   0.439538   0.600103   \n",
       "89643     0.000669   0.523386   0.448652   0.599148   0.526916   0.512102   \n",
       "\n",
       "       ...               target  total_seconds  carrier_TURKCELL  \\\n",
       "0      ...  menu7, menu8, menu4       0.961338                 1   \n",
       "1      ...  menu6, menu2, menu1       0.570873                 1   \n",
       "2      ...  menu2, menu1, menu8       0.556689                 1   \n",
       "3      ...  menu6, menu2, menu9       0.534399                 1   \n",
       "4      ...  menu2, menu4, menu5       0.515438                 1   \n",
       "...    ...                  ...            ...               ...   \n",
       "89639  ...  menu3, menu2, menu8       0.001014                 1   \n",
       "89640  ...  menu3, menu2, menu4       0.000174                 0   \n",
       "89641  ...  menu6, menu2, menu9       0.001005                 1   \n",
       "89642  ...  menu9, menu3, menu4       0.000301                 1   \n",
       "89643  ...  menu9, menu2, menu5       0.000090                 1   \n",
       "\n",
       "       carrier_VODAFONE TR  carrier_other  devicebrand_HUAWEI  \\\n",
       "0                        0              0                   0   \n",
       "1                        0              0                   0   \n",
       "2                        0              0                   1   \n",
       "3                        0              0                   0   \n",
       "4                        0              0                   0   \n",
       "...                    ...            ...                 ...   \n",
       "89639                    0              0                   0   \n",
       "89640                    1              0                   0   \n",
       "89641                    0              0                   0   \n",
       "89642                    0              0                   1   \n",
       "89643                    0              0                   0   \n",
       "\n",
       "       devicebrand_OPPO  devicebrand_Redmi  devicebrand_other  \\\n",
       "0                     0                  0                  0   \n",
       "1                     0                  0                  0   \n",
       "2                     0                  0                  0   \n",
       "3                     0                  0                  0   \n",
       "4                     0                  0                  0   \n",
       "...                 ...                ...                ...   \n",
       "89639                 0                  0                  0   \n",
       "89640                 1                  0                  0   \n",
       "89641                 0                  0                  0   \n",
       "89642                 0                  0                  0   \n",
       "89643                 0                  0                  0   \n",
       "\n",
       "       devicebrand_samsung  \n",
       "0                        1  \n",
       "1                        1  \n",
       "2                        0  \n",
       "3                        1  \n",
       "4                        0  \n",
       "...                    ...  \n",
       "89639                    0  \n",
       "89640                    0  \n",
       "89641                    0  \n",
       "89642                    0  \n",
       "89643                    1  \n",
       "\n",
       "[89644 rows x 65 columns]"
      ]
     },
     "execution_count": 132,
     "metadata": {},
     "output_type": "execute_result"
    }
   ],
   "source": [
    "df_ = dataFrame.copy()\n",
    "df_prep = preprocess(df_)\n",
    "df_prep"
   ]
  },
  {
   "cell_type": "code",
   "execution_count": 133,
   "id": "c425a5d4",
   "metadata": {
    "execution": {
     "iopub.execute_input": "2023-10-13T21:49:15.807357Z",
     "iopub.status.busy": "2023-10-13T21:49:15.807011Z",
     "iopub.status.idle": "2023-10-13T21:49:15.901338Z",
     "shell.execute_reply": "2023-10-13T21:49:15.900291Z"
    },
    "papermill": {
     "duration": 0.128588,
     "end_time": "2023-10-13T21:49:15.903994",
     "exception": false,
     "start_time": "2023-10-13T21:49:15.775406",
     "status": "completed"
    },
    "tags": []
   },
   "outputs": [
    {
     "data": {
      "text/plain": [
       "0        menu7,menu8,menu4\n",
       "1        menu6,menu2,menu1\n",
       "2        menu2,menu1,menu8\n",
       "3        menu6,menu2,menu9\n",
       "4        menu2,menu4,menu5\n",
       "               ...        \n",
       "89639    menu3,menu2,menu8\n",
       "89640    menu3,menu2,menu4\n",
       "89641    menu6,menu2,menu9\n",
       "89642    menu9,menu3,menu4\n",
       "89643    menu9,menu2,menu5\n",
       "Name: target_cleaned, Length: 89644, dtype: object"
      ]
     },
     "execution_count": 133,
     "metadata": {},
     "output_type": "execute_result"
    }
   ],
   "source": [
    "df_prep['target_cleaned'] = df_prep['target'].apply(lambda i: ','.join([value.strip() for value in i.split(',')]))\n",
    "df_prep['target_cleaned']"
   ]
  },
  {
   "cell_type": "code",
   "execution_count": 134,
   "id": "d3c364db",
   "metadata": {
    "execution": {
     "iopub.execute_input": "2023-10-13T21:49:15.978975Z",
     "iopub.status.busy": "2023-10-13T21:49:15.978596Z",
     "iopub.status.idle": "2023-10-13T21:49:15.985474Z",
     "shell.execute_reply": "2023-10-13T21:49:15.984311Z"
    },
    "papermill": {
     "duration": 0.046161,
     "end_time": "2023-10-13T21:49:15.987406",
     "exception": false,
     "start_time": "2023-10-13T21:49:15.941245",
     "status": "completed"
    },
    "tags": []
   },
   "outputs": [],
   "source": [
    "def preproces_2(df2):\n",
    "\n",
    "    df_target_encoded = df2['target_cleaned'].str.split(',', expand=True) \\\n",
    "        .stack().str.get_dummies().groupby(level=0).sum()#.add_prefix('menu')\n",
    "    df2.drop(columns=['index','id','target_cleaned'], inplace=True)\n",
    "\n",
    "    #df2 = df2.merge(df_target_encoded, how='outer'))\n",
    "    #df2 = pd.concat([df2, df_target_encoded])\n",
    "\n",
    "    targt_cols = ['menu'+str(i) for i in range(1,10)]\n",
    "\n",
    "    df2[targt_cols] = df_target_encoded\n",
    "    y = df2[targt_cols]\n",
    "    target = 'target'\n",
    "\n",
    "    targt_cols.append(target)\n",
    "    #sys.exit(f'df2 = {targt_cols}')\n",
    "\n",
    "    df2 = df2.drop(columns=targt_cols, axis=1)\n",
    "\n",
    "    X = df2.copy()\n",
    "\n",
    "    return X, y"
   ]
  },
  {
   "cell_type": "code",
   "execution_count": 135,
   "id": "837ff134",
   "metadata": {
    "execution": {
     "iopub.execute_input": "2023-10-13T21:49:16.055239Z",
     "iopub.status.busy": "2023-10-13T21:49:16.054862Z",
     "iopub.status.idle": "2023-10-13T21:49:17.878201Z",
     "shell.execute_reply": "2023-10-13T21:49:17.877173Z"
    },
    "papermill": {
     "duration": 1.862059,
     "end_time": "2023-10-13T21:49:17.880342",
     "exception": false,
     "start_time": "2023-10-13T21:49:16.018283",
     "status": "completed"
    },
    "tags": []
   },
   "outputs": [
    {
     "data": {
      "text/html": [
       "<div>\n",
       "<style scoped>\n",
       "    .dataframe tbody tr th:only-of-type {\n",
       "        vertical-align: middle;\n",
       "    }\n",
       "\n",
       "    .dataframe tbody tr th {\n",
       "        vertical-align: top;\n",
       "    }\n",
       "\n",
       "    .dataframe thead th {\n",
       "        text-align: right;\n",
       "    }\n",
       "</style>\n",
       "<table border=\"1\" class=\"dataframe\">\n",
       "  <thead>\n",
       "    <tr style=\"text-align: right;\">\n",
       "      <th></th>\n",
       "      <th>n_seconds_1</th>\n",
       "      <th>n_seconds_2</th>\n",
       "      <th>n_seconds_3</th>\n",
       "      <th>feature_0</th>\n",
       "      <th>feature_1</th>\n",
       "      <th>feature_2</th>\n",
       "      <th>feature_3</th>\n",
       "      <th>feature_4</th>\n",
       "      <th>feature_5</th>\n",
       "      <th>feature_6</th>\n",
       "      <th>...</th>\n",
       "      <th>feature_49</th>\n",
       "      <th>total_seconds</th>\n",
       "      <th>carrier_TURKCELL</th>\n",
       "      <th>carrier_VODAFONE TR</th>\n",
       "      <th>carrier_other</th>\n",
       "      <th>devicebrand_HUAWEI</th>\n",
       "      <th>devicebrand_OPPO</th>\n",
       "      <th>devicebrand_Redmi</th>\n",
       "      <th>devicebrand_other</th>\n",
       "      <th>devicebrand_samsung</th>\n",
       "    </tr>\n",
       "  </thead>\n",
       "  <tbody>\n",
       "    <tr>\n",
       "      <th>0</th>\n",
       "      <td>0.872592</td>\n",
       "      <td>0.266423</td>\n",
       "      <td>0.483686</td>\n",
       "      <td>0.374041</td>\n",
       "      <td>0.483134</td>\n",
       "      <td>0.515754</td>\n",
       "      <td>0.549852</td>\n",
       "      <td>0.662184</td>\n",
       "      <td>0.649988</td>\n",
       "      <td>0.488290</td>\n",
       "      <td>...</td>\n",
       "      <td>0.324675</td>\n",
       "      <td>0.961338</td>\n",
       "      <td>1</td>\n",
       "      <td>0</td>\n",
       "      <td>0</td>\n",
       "      <td>0</td>\n",
       "      <td>0</td>\n",
       "      <td>0</td>\n",
       "      <td>0</td>\n",
       "      <td>1</td>\n",
       "    </tr>\n",
       "    <tr>\n",
       "      <th>1</th>\n",
       "      <td>0.592131</td>\n",
       "      <td>0.058843</td>\n",
       "      <td>0.026717</td>\n",
       "      <td>0.346957</td>\n",
       "      <td>0.585090</td>\n",
       "      <td>0.474843</td>\n",
       "      <td>0.626642</td>\n",
       "      <td>0.572472</td>\n",
       "      <td>0.726644</td>\n",
       "      <td>0.697606</td>\n",
       "      <td>...</td>\n",
       "      <td>0.272727</td>\n",
       "      <td>0.570873</td>\n",
       "      <td>1</td>\n",
       "      <td>0</td>\n",
       "      <td>0</td>\n",
       "      <td>0</td>\n",
       "      <td>0</td>\n",
       "      <td>0</td>\n",
       "      <td>0</td>\n",
       "      <td>1</td>\n",
       "    </tr>\n",
       "    <tr>\n",
       "      <th>2</th>\n",
       "      <td>0.501081</td>\n",
       "      <td>0.242487</td>\n",
       "      <td>0.123690</td>\n",
       "      <td>0.243050</td>\n",
       "      <td>0.452700</td>\n",
       "      <td>0.624325</td>\n",
       "      <td>0.351739</td>\n",
       "      <td>0.558932</td>\n",
       "      <td>0.527309</td>\n",
       "      <td>0.558072</td>\n",
       "      <td>...</td>\n",
       "      <td>0.376623</td>\n",
       "      <td>0.556689</td>\n",
       "      <td>1</td>\n",
       "      <td>0</td>\n",
       "      <td>0</td>\n",
       "      <td>1</td>\n",
       "      <td>0</td>\n",
       "      <td>0</td>\n",
       "      <td>0</td>\n",
       "      <td>0</td>\n",
       "    </tr>\n",
       "    <tr>\n",
       "      <th>3</th>\n",
       "      <td>0.483094</td>\n",
       "      <td>0.196193</td>\n",
       "      <td>0.182477</td>\n",
       "      <td>0.548301</td>\n",
       "      <td>0.331272</td>\n",
       "      <td>0.678016</td>\n",
       "      <td>0.413021</td>\n",
       "      <td>0.570912</td>\n",
       "      <td>0.613851</td>\n",
       "      <td>0.514952</td>\n",
       "      <td>...</td>\n",
       "      <td>0.324675</td>\n",
       "      <td>0.534399</td>\n",
       "      <td>1</td>\n",
       "      <td>0</td>\n",
       "      <td>0</td>\n",
       "      <td>0</td>\n",
       "      <td>0</td>\n",
       "      <td>0</td>\n",
       "      <td>0</td>\n",
       "      <td>1</td>\n",
       "    </tr>\n",
       "    <tr>\n",
       "      <th>4</th>\n",
       "      <td>0.474273</td>\n",
       "      <td>0.139515</td>\n",
       "      <td>0.227536</td>\n",
       "      <td>0.555304</td>\n",
       "      <td>0.229275</td>\n",
       "      <td>0.634332</td>\n",
       "      <td>0.340834</td>\n",
       "      <td>0.648093</td>\n",
       "      <td>0.559893</td>\n",
       "      <td>0.583810</td>\n",
       "      <td>...</td>\n",
       "      <td>0.311688</td>\n",
       "      <td>0.515438</td>\n",
       "      <td>1</td>\n",
       "      <td>0</td>\n",
       "      <td>0</td>\n",
       "      <td>0</td>\n",
       "      <td>0</td>\n",
       "      <td>0</td>\n",
       "      <td>0</td>\n",
       "      <td>0</td>\n",
       "    </tr>\n",
       "    <tr>\n",
       "      <th>...</th>\n",
       "      <td>...</td>\n",
       "      <td>...</td>\n",
       "      <td>...</td>\n",
       "      <td>...</td>\n",
       "      <td>...</td>\n",
       "      <td>...</td>\n",
       "      <td>...</td>\n",
       "      <td>...</td>\n",
       "      <td>...</td>\n",
       "      <td>...</td>\n",
       "      <td>...</td>\n",
       "      <td>...</td>\n",
       "      <td>...</td>\n",
       "      <td>...</td>\n",
       "      <td>...</td>\n",
       "      <td>...</td>\n",
       "      <td>...</td>\n",
       "      <td>...</td>\n",
       "      <td>...</td>\n",
       "      <td>...</td>\n",
       "      <td>...</td>\n",
       "    </tr>\n",
       "    <tr>\n",
       "      <th>89639</th>\n",
       "      <td>0.000424</td>\n",
       "      <td>0.003048</td>\n",
       "      <td>0.002313</td>\n",
       "      <td>0.332591</td>\n",
       "      <td>0.401345</td>\n",
       "      <td>0.607445</td>\n",
       "      <td>0.414446</td>\n",
       "      <td>0.692073</td>\n",
       "      <td>0.659283</td>\n",
       "      <td>0.585067</td>\n",
       "      <td>...</td>\n",
       "      <td>0.259740</td>\n",
       "      <td>0.001014</td>\n",
       "      <td>1</td>\n",
       "      <td>0</td>\n",
       "      <td>0</td>\n",
       "      <td>0</td>\n",
       "      <td>0</td>\n",
       "      <td>0</td>\n",
       "      <td>0</td>\n",
       "      <td>0</td>\n",
       "    </tr>\n",
       "    <tr>\n",
       "      <th>89640</th>\n",
       "      <td>0.000413</td>\n",
       "      <td>0.000751</td>\n",
       "      <td>0.001439</td>\n",
       "      <td>0.401710</td>\n",
       "      <td>0.467925</td>\n",
       "      <td>0.711892</td>\n",
       "      <td>0.414519</td>\n",
       "      <td>0.487643</td>\n",
       "      <td>0.387703</td>\n",
       "      <td>0.498711</td>\n",
       "      <td>...</td>\n",
       "      <td>0.402597</td>\n",
       "      <td>0.000174</td>\n",
       "      <td>0</td>\n",
       "      <td>1</td>\n",
       "      <td>0</td>\n",
       "      <td>0</td>\n",
       "      <td>1</td>\n",
       "      <td>0</td>\n",
       "      <td>0</td>\n",
       "      <td>0</td>\n",
       "    </tr>\n",
       "    <tr>\n",
       "      <th>89641</th>\n",
       "      <td>0.000299</td>\n",
       "      <td>0.002600</td>\n",
       "      <td>0.003987</td>\n",
       "      <td>0.488104</td>\n",
       "      <td>0.524507</td>\n",
       "      <td>0.418099</td>\n",
       "      <td>0.446275</td>\n",
       "      <td>0.683665</td>\n",
       "      <td>0.374203</td>\n",
       "      <td>0.618948</td>\n",
       "      <td>...</td>\n",
       "      <td>0.142857</td>\n",
       "      <td>0.001005</td>\n",
       "      <td>1</td>\n",
       "      <td>0</td>\n",
       "      <td>0</td>\n",
       "      <td>0</td>\n",
       "      <td>0</td>\n",
       "      <td>0</td>\n",
       "      <td>0</td>\n",
       "      <td>0</td>\n",
       "    </tr>\n",
       "    <tr>\n",
       "      <th>89642</th>\n",
       "      <td>0.000129</td>\n",
       "      <td>0.001487</td>\n",
       "      <td>0.002576</td>\n",
       "      <td>0.459819</td>\n",
       "      <td>0.246857</td>\n",
       "      <td>0.587207</td>\n",
       "      <td>0.439538</td>\n",
       "      <td>0.600103</td>\n",
       "      <td>0.246035</td>\n",
       "      <td>0.384515</td>\n",
       "      <td>...</td>\n",
       "      <td>0.467532</td>\n",
       "      <td>0.000301</td>\n",
       "      <td>1</td>\n",
       "      <td>0</td>\n",
       "      <td>0</td>\n",
       "      <td>1</td>\n",
       "      <td>0</td>\n",
       "      <td>0</td>\n",
       "      <td>0</td>\n",
       "      <td>0</td>\n",
       "    </tr>\n",
       "    <tr>\n",
       "      <th>89643</th>\n",
       "      <td>0.000056</td>\n",
       "      <td>0.001929</td>\n",
       "      <td>0.000669</td>\n",
       "      <td>0.523386</td>\n",
       "      <td>0.448652</td>\n",
       "      <td>0.599148</td>\n",
       "      <td>0.526916</td>\n",
       "      <td>0.512102</td>\n",
       "      <td>0.458062</td>\n",
       "      <td>0.600470</td>\n",
       "      <td>...</td>\n",
       "      <td>0.298701</td>\n",
       "      <td>0.000090</td>\n",
       "      <td>1</td>\n",
       "      <td>0</td>\n",
       "      <td>0</td>\n",
       "      <td>0</td>\n",
       "      <td>0</td>\n",
       "      <td>0</td>\n",
       "      <td>0</td>\n",
       "      <td>1</td>\n",
       "    </tr>\n",
       "  </tbody>\n",
       "</table>\n",
       "<p>89644 rows × 62 columns</p>\n",
       "</div>"
      ],
      "text/plain": [
       "       n_seconds_1  n_seconds_2  n_seconds_3  feature_0  feature_1  feature_2  \\\n",
       "0         0.872592     0.266423     0.483686   0.374041   0.483134   0.515754   \n",
       "1         0.592131     0.058843     0.026717   0.346957   0.585090   0.474843   \n",
       "2         0.501081     0.242487     0.123690   0.243050   0.452700   0.624325   \n",
       "3         0.483094     0.196193     0.182477   0.548301   0.331272   0.678016   \n",
       "4         0.474273     0.139515     0.227536   0.555304   0.229275   0.634332   \n",
       "...            ...          ...          ...        ...        ...        ...   \n",
       "89639     0.000424     0.003048     0.002313   0.332591   0.401345   0.607445   \n",
       "89640     0.000413     0.000751     0.001439   0.401710   0.467925   0.711892   \n",
       "89641     0.000299     0.002600     0.003987   0.488104   0.524507   0.418099   \n",
       "89642     0.000129     0.001487     0.002576   0.459819   0.246857   0.587207   \n",
       "89643     0.000056     0.001929     0.000669   0.523386   0.448652   0.599148   \n",
       "\n",
       "       feature_3  feature_4  feature_5  feature_6  ...  feature_49  \\\n",
       "0       0.549852   0.662184   0.649988   0.488290  ...    0.324675   \n",
       "1       0.626642   0.572472   0.726644   0.697606  ...    0.272727   \n",
       "2       0.351739   0.558932   0.527309   0.558072  ...    0.376623   \n",
       "3       0.413021   0.570912   0.613851   0.514952  ...    0.324675   \n",
       "4       0.340834   0.648093   0.559893   0.583810  ...    0.311688   \n",
       "...          ...        ...        ...        ...  ...         ...   \n",
       "89639   0.414446   0.692073   0.659283   0.585067  ...    0.259740   \n",
       "89640   0.414519   0.487643   0.387703   0.498711  ...    0.402597   \n",
       "89641   0.446275   0.683665   0.374203   0.618948  ...    0.142857   \n",
       "89642   0.439538   0.600103   0.246035   0.384515  ...    0.467532   \n",
       "89643   0.526916   0.512102   0.458062   0.600470  ...    0.298701   \n",
       "\n",
       "       total_seconds  carrier_TURKCELL  carrier_VODAFONE TR  carrier_other  \\\n",
       "0           0.961338                 1                    0              0   \n",
       "1           0.570873                 1                    0              0   \n",
       "2           0.556689                 1                    0              0   \n",
       "3           0.534399                 1                    0              0   \n",
       "4           0.515438                 1                    0              0   \n",
       "...              ...               ...                  ...            ...   \n",
       "89639       0.001014                 1                    0              0   \n",
       "89640       0.000174                 0                    1              0   \n",
       "89641       0.001005                 1                    0              0   \n",
       "89642       0.000301                 1                    0              0   \n",
       "89643       0.000090                 1                    0              0   \n",
       "\n",
       "       devicebrand_HUAWEI  devicebrand_OPPO  devicebrand_Redmi  \\\n",
       "0                       0                 0                  0   \n",
       "1                       0                 0                  0   \n",
       "2                       1                 0                  0   \n",
       "3                       0                 0                  0   \n",
       "4                       0                 0                  0   \n",
       "...                   ...               ...                ...   \n",
       "89639                   0                 0                  0   \n",
       "89640                   0                 1                  0   \n",
       "89641                   0                 0                  0   \n",
       "89642                   1                 0                  0   \n",
       "89643                   0                 0                  0   \n",
       "\n",
       "       devicebrand_other  devicebrand_samsung  \n",
       "0                      0                    1  \n",
       "1                      0                    1  \n",
       "2                      0                    0  \n",
       "3                      0                    1  \n",
       "4                      0                    0  \n",
       "...                  ...                  ...  \n",
       "89639                  0                    0  \n",
       "89640                  0                    0  \n",
       "89641                  0                    0  \n",
       "89642                  0                    0  \n",
       "89643                  0                    1  \n",
       "\n",
       "[89644 rows x 62 columns]"
      ]
     },
     "execution_count": 135,
     "metadata": {},
     "output_type": "execute_result"
    }
   ],
   "source": [
    "df_ = df_prep.copy()\n",
    "X, y = preproces_2(df_)\n",
    "X"
   ]
  },
  {
   "cell_type": "code",
   "execution_count": 136,
   "id": "0983eba9",
   "metadata": {
    "execution": {
     "iopub.execute_input": "2023-10-13T21:49:17.943702Z",
     "iopub.status.busy": "2023-10-13T21:49:17.942775Z",
     "iopub.status.idle": "2023-10-13T21:49:17.949161Z",
     "shell.execute_reply": "2023-10-13T21:49:17.948283Z"
    },
    "papermill": {
     "duration": 0.039945,
     "end_time": "2023-10-13T21:49:17.951057",
     "exception": false,
     "start_time": "2023-10-13T21:49:17.911112",
     "status": "completed"
    },
    "tags": []
   },
   "outputs": [
    {
     "data": {
      "text/plain": [
       "(89644, 62)"
      ]
     },
     "execution_count": 136,
     "metadata": {},
     "output_type": "execute_result"
    }
   ],
   "source": [
    "X.shape"
   ]
  },
  {
   "cell_type": "code",
   "execution_count": 137,
   "id": "690b0806",
   "metadata": {
    "execution": {
     "iopub.execute_input": "2023-10-13T21:49:18.015187Z",
     "iopub.status.busy": "2023-10-13T21:49:18.014236Z",
     "iopub.status.idle": "2023-10-13T21:49:18.219196Z",
     "shell.execute_reply": "2023-10-13T21:49:18.217936Z"
    },
    "papermill": {
     "duration": 0.239693,
     "end_time": "2023-10-13T21:49:18.221813",
     "exception": false,
     "start_time": "2023-10-13T21:49:17.982120",
     "status": "completed"
    },
    "tags": []
   },
   "outputs": [
    {
     "data": {
      "text/html": [
       "<div>\n",
       "<style scoped>\n",
       "    .dataframe tbody tr th:only-of-type {\n",
       "        vertical-align: middle;\n",
       "    }\n",
       "\n",
       "    .dataframe tbody tr th {\n",
       "        vertical-align: top;\n",
       "    }\n",
       "\n",
       "    .dataframe thead th {\n",
       "        text-align: right;\n",
       "    }\n",
       "</style>\n",
       "<table border=\"1\" class=\"dataframe\">\n",
       "  <thead>\n",
       "    <tr style=\"text-align: right;\">\n",
       "      <th></th>\n",
       "      <th>id</th>\n",
       "      <th>n_seconds_1</th>\n",
       "      <th>n_seconds_2</th>\n",
       "      <th>n_seconds_3</th>\n",
       "      <th>feature_0</th>\n",
       "      <th>feature_1</th>\n",
       "      <th>feature_2</th>\n",
       "      <th>feature_3</th>\n",
       "      <th>feature_4</th>\n",
       "      <th>feature_5</th>\n",
       "      <th>...</th>\n",
       "      <th>feature_49</th>\n",
       "      <th>total_seconds</th>\n",
       "      <th>carrier_TURKCELL</th>\n",
       "      <th>carrier_VODAFONE TR</th>\n",
       "      <th>carrier_other</th>\n",
       "      <th>devicebrand_HUAWEI</th>\n",
       "      <th>devicebrand_OPPO</th>\n",
       "      <th>devicebrand_Redmi</th>\n",
       "      <th>devicebrand_other</th>\n",
       "      <th>devicebrand_samsung</th>\n",
       "    </tr>\n",
       "  </thead>\n",
       "  <tbody>\n",
       "    <tr>\n",
       "      <th>0</th>\n",
       "      <td>2e6105f5911256f4f6c4813ed</td>\n",
       "      <td>1.000000</td>\n",
       "      <td>0.076436</td>\n",
       "      <td>0.223285</td>\n",
       "      <td>0.459441</td>\n",
       "      <td>0.615175</td>\n",
       "      <td>0.362626</td>\n",
       "      <td>0.697625</td>\n",
       "      <td>0.471620</td>\n",
       "      <td>0.405299</td>\n",
       "      <td>...</td>\n",
       "      <td>0.4750</td>\n",
       "      <td>0.997452</td>\n",
       "      <td>0</td>\n",
       "      <td>1</td>\n",
       "      <td>0</td>\n",
       "      <td>0</td>\n",
       "      <td>0</td>\n",
       "      <td>0</td>\n",
       "      <td>0</td>\n",
       "      <td>1</td>\n",
       "    </tr>\n",
       "    <tr>\n",
       "      <th>1</th>\n",
       "      <td>c56ad71dae0a5dbd3e7d36adc</td>\n",
       "      <td>0.647697</td>\n",
       "      <td>0.259036</td>\n",
       "      <td>0.246672</td>\n",
       "      <td>0.663732</td>\n",
       "      <td>0.425221</td>\n",
       "      <td>0.543882</td>\n",
       "      <td>0.235711</td>\n",
       "      <td>0.658165</td>\n",
       "      <td>0.362060</td>\n",
       "      <td>...</td>\n",
       "      <td>0.1875</td>\n",
       "      <td>0.736476</td>\n",
       "      <td>1</td>\n",
       "      <td>0</td>\n",
       "      <td>0</td>\n",
       "      <td>0</td>\n",
       "      <td>0</td>\n",
       "      <td>0</td>\n",
       "      <td>0</td>\n",
       "      <td>0</td>\n",
       "    </tr>\n",
       "    <tr>\n",
       "      <th>2</th>\n",
       "      <td>4d02ea175f6581f0c6385311f</td>\n",
       "      <td>0.627199</td>\n",
       "      <td>1.000000</td>\n",
       "      <td>0.307101</td>\n",
       "      <td>0.268674</td>\n",
       "      <td>0.543953</td>\n",
       "      <td>0.636157</td>\n",
       "      <td>0.654033</td>\n",
       "      <td>0.605160</td>\n",
       "      <td>0.541751</td>\n",
       "      <td>...</td>\n",
       "      <td>0.3750</td>\n",
       "      <td>1.000000</td>\n",
       "      <td>1</td>\n",
       "      <td>0</td>\n",
       "      <td>0</td>\n",
       "      <td>0</td>\n",
       "      <td>0</td>\n",
       "      <td>0</td>\n",
       "      <td>0</td>\n",
       "      <td>1</td>\n",
       "    </tr>\n",
       "    <tr>\n",
       "      <th>3</th>\n",
       "      <td>3412d27a86c286ba078fa935c</td>\n",
       "      <td>0.596381</td>\n",
       "      <td>0.052209</td>\n",
       "      <td>0.127185</td>\n",
       "      <td>0.361947</td>\n",
       "      <td>0.530443</td>\n",
       "      <td>0.553410</td>\n",
       "      <td>0.306615</td>\n",
       "      <td>0.840669</td>\n",
       "      <td>0.344309</td>\n",
       "      <td>...</td>\n",
       "      <td>0.3375</td>\n",
       "      <td>0.596404</td>\n",
       "      <td>0</td>\n",
       "      <td>0</td>\n",
       "      <td>0</td>\n",
       "      <td>0</td>\n",
       "      <td>0</td>\n",
       "      <td>0</td>\n",
       "      <td>0</td>\n",
       "      <td>0</td>\n",
       "    </tr>\n",
       "    <tr>\n",
       "      <th>4</th>\n",
       "      <td>0203b561f6f7e10eafa46eefa</td>\n",
       "      <td>0.563418</td>\n",
       "      <td>0.031754</td>\n",
       "      <td>0.066180</td>\n",
       "      <td>0.456026</td>\n",
       "      <td>0.478034</td>\n",
       "      <td>0.575421</td>\n",
       "      <td>0.369895</td>\n",
       "      <td>0.716976</td>\n",
       "      <td>0.436488</td>\n",
       "      <td>...</td>\n",
       "      <td>0.4000</td>\n",
       "      <td>0.550153</td>\n",
       "      <td>1</td>\n",
       "      <td>0</td>\n",
       "      <td>0</td>\n",
       "      <td>0</td>\n",
       "      <td>0</td>\n",
       "      <td>0</td>\n",
       "      <td>1</td>\n",
       "      <td>0</td>\n",
       "    </tr>\n",
       "    <tr>\n",
       "      <th>...</th>\n",
       "      <td>...</td>\n",
       "      <td>...</td>\n",
       "      <td>...</td>\n",
       "      <td>...</td>\n",
       "      <td>...</td>\n",
       "      <td>...</td>\n",
       "      <td>...</td>\n",
       "      <td>...</td>\n",
       "      <td>...</td>\n",
       "      <td>...</td>\n",
       "      <td>...</td>\n",
       "      <td>...</td>\n",
       "      <td>...</td>\n",
       "      <td>...</td>\n",
       "      <td>...</td>\n",
       "      <td>...</td>\n",
       "      <td>...</td>\n",
       "      <td>...</td>\n",
       "      <td>...</td>\n",
       "      <td>...</td>\n",
       "      <td>...</td>\n",
       "    </tr>\n",
       "    <tr>\n",
       "      <th>11950</th>\n",
       "      <td>7687113f46112edf4f56666ee</td>\n",
       "      <td>0.000281</td>\n",
       "      <td>0.000200</td>\n",
       "      <td>0.000712</td>\n",
       "      <td>0.267162</td>\n",
       "      <td>0.318126</td>\n",
       "      <td>0.470908</td>\n",
       "      <td>0.397264</td>\n",
       "      <td>0.674242</td>\n",
       "      <td>0.540439</td>\n",
       "      <td>...</td>\n",
       "      <td>0.3125</td>\n",
       "      <td>0.000000</td>\n",
       "      <td>1</td>\n",
       "      <td>0</td>\n",
       "      <td>0</td>\n",
       "      <td>1</td>\n",
       "      <td>0</td>\n",
       "      <td>0</td>\n",
       "      <td>0</td>\n",
       "      <td>0</td>\n",
       "    </tr>\n",
       "    <tr>\n",
       "      <th>11951</th>\n",
       "      <td>5ff8eb7a06fd48b60dbc04f34</td>\n",
       "      <td>0.000244</td>\n",
       "      <td>0.001631</td>\n",
       "      <td>0.001145</td>\n",
       "      <td>0.424659</td>\n",
       "      <td>0.421907</td>\n",
       "      <td>0.485006</td>\n",
       "      <td>0.388417</td>\n",
       "      <td>0.593217</td>\n",
       "      <td>0.420730</td>\n",
       "      <td>...</td>\n",
       "      <td>0.3000</td>\n",
       "      <td>0.000551</td>\n",
       "      <td>1</td>\n",
       "      <td>0</td>\n",
       "      <td>0</td>\n",
       "      <td>0</td>\n",
       "      <td>0</td>\n",
       "      <td>0</td>\n",
       "      <td>0</td>\n",
       "      <td>0</td>\n",
       "    </tr>\n",
       "    <tr>\n",
       "      <th>11952</th>\n",
       "      <td>ac23a7b9ad3e5d61e738c854b</td>\n",
       "      <td>0.000234</td>\n",
       "      <td>0.002033</td>\n",
       "      <td>0.004332</td>\n",
       "      <td>0.479348</td>\n",
       "      <td>0.607077</td>\n",
       "      <td>0.306863</td>\n",
       "      <td>0.417217</td>\n",
       "      <td>0.704289</td>\n",
       "      <td>0.569383</td>\n",
       "      <td>...</td>\n",
       "      <td>0.1750</td>\n",
       "      <td>0.001088</td>\n",
       "      <td>0</td>\n",
       "      <td>0</td>\n",
       "      <td>0</td>\n",
       "      <td>0</td>\n",
       "      <td>0</td>\n",
       "      <td>1</td>\n",
       "      <td>0</td>\n",
       "      <td>0</td>\n",
       "    </tr>\n",
       "    <tr>\n",
       "      <th>11953</th>\n",
       "      <td>7da05018634ea2eee4b122756</td>\n",
       "      <td>0.000035</td>\n",
       "      <td>0.001204</td>\n",
       "      <td>0.000809</td>\n",
       "      <td>0.418612</td>\n",
       "      <td>0.482357</td>\n",
       "      <td>0.373952</td>\n",
       "      <td>0.559290</td>\n",
       "      <td>0.658384</td>\n",
       "      <td>0.308304</td>\n",
       "      <td>...</td>\n",
       "      <td>0.4750</td>\n",
       "      <td>0.000154</td>\n",
       "      <td>0</td>\n",
       "      <td>0</td>\n",
       "      <td>0</td>\n",
       "      <td>0</td>\n",
       "      <td>0</td>\n",
       "      <td>0</td>\n",
       "      <td>0</td>\n",
       "      <td>1</td>\n",
       "    </tr>\n",
       "    <tr>\n",
       "      <th>11954</th>\n",
       "      <td>57dbc6a230a851e6e2ee5c429</td>\n",
       "      <td>0.000000</td>\n",
       "      <td>0.001746</td>\n",
       "      <td>0.000218</td>\n",
       "      <td>0.596076</td>\n",
       "      <td>0.319585</td>\n",
       "      <td>0.381809</td>\n",
       "      <td>0.477268</td>\n",
       "      <td>0.353617</td>\n",
       "      <td>0.492960</td>\n",
       "      <td>...</td>\n",
       "      <td>0.5750</td>\n",
       "      <td>0.000248</td>\n",
       "      <td>1</td>\n",
       "      <td>0</td>\n",
       "      <td>0</td>\n",
       "      <td>0</td>\n",
       "      <td>0</td>\n",
       "      <td>0</td>\n",
       "      <td>0</td>\n",
       "      <td>0</td>\n",
       "    </tr>\n",
       "  </tbody>\n",
       "</table>\n",
       "<p>11955 rows × 63 columns</p>\n",
       "</div>"
      ],
      "text/plain": [
       "                              id  n_seconds_1  n_seconds_2  n_seconds_3  \\\n",
       "0      2e6105f5911256f4f6c4813ed     1.000000     0.076436     0.223285   \n",
       "1      c56ad71dae0a5dbd3e7d36adc     0.647697     0.259036     0.246672   \n",
       "2      4d02ea175f6581f0c6385311f     0.627199     1.000000     0.307101   \n",
       "3      3412d27a86c286ba078fa935c     0.596381     0.052209     0.127185   \n",
       "4      0203b561f6f7e10eafa46eefa     0.563418     0.031754     0.066180   \n",
       "...                          ...          ...          ...          ...   \n",
       "11950  7687113f46112edf4f56666ee     0.000281     0.000200     0.000712   \n",
       "11951  5ff8eb7a06fd48b60dbc04f34     0.000244     0.001631     0.001145   \n",
       "11952  ac23a7b9ad3e5d61e738c854b     0.000234     0.002033     0.004332   \n",
       "11953  7da05018634ea2eee4b122756     0.000035     0.001204     0.000809   \n",
       "11954  57dbc6a230a851e6e2ee5c429     0.000000     0.001746     0.000218   \n",
       "\n",
       "       feature_0  feature_1  feature_2  feature_3  feature_4  feature_5  ...  \\\n",
       "0       0.459441   0.615175   0.362626   0.697625   0.471620   0.405299  ...   \n",
       "1       0.663732   0.425221   0.543882   0.235711   0.658165   0.362060  ...   \n",
       "2       0.268674   0.543953   0.636157   0.654033   0.605160   0.541751  ...   \n",
       "3       0.361947   0.530443   0.553410   0.306615   0.840669   0.344309  ...   \n",
       "4       0.456026   0.478034   0.575421   0.369895   0.716976   0.436488  ...   \n",
       "...          ...        ...        ...        ...        ...        ...  ...   \n",
       "11950   0.267162   0.318126   0.470908   0.397264   0.674242   0.540439  ...   \n",
       "11951   0.424659   0.421907   0.485006   0.388417   0.593217   0.420730  ...   \n",
       "11952   0.479348   0.607077   0.306863   0.417217   0.704289   0.569383  ...   \n",
       "11953   0.418612   0.482357   0.373952   0.559290   0.658384   0.308304  ...   \n",
       "11954   0.596076   0.319585   0.381809   0.477268   0.353617   0.492960  ...   \n",
       "\n",
       "       feature_49  total_seconds  carrier_TURKCELL  carrier_VODAFONE TR  \\\n",
       "0          0.4750       0.997452                 0                    1   \n",
       "1          0.1875       0.736476                 1                    0   \n",
       "2          0.3750       1.000000                 1                    0   \n",
       "3          0.3375       0.596404                 0                    0   \n",
       "4          0.4000       0.550153                 1                    0   \n",
       "...           ...            ...               ...                  ...   \n",
       "11950      0.3125       0.000000                 1                    0   \n",
       "11951      0.3000       0.000551                 1                    0   \n",
       "11952      0.1750       0.001088                 0                    0   \n",
       "11953      0.4750       0.000154                 0                    0   \n",
       "11954      0.5750       0.000248                 1                    0   \n",
       "\n",
       "       carrier_other  devicebrand_HUAWEI  devicebrand_OPPO  devicebrand_Redmi  \\\n",
       "0                  0                   0                 0                  0   \n",
       "1                  0                   0                 0                  0   \n",
       "2                  0                   0                 0                  0   \n",
       "3                  0                   0                 0                  0   \n",
       "4                  0                   0                 0                  0   \n",
       "...              ...                 ...               ...                ...   \n",
       "11950              0                   1                 0                  0   \n",
       "11951              0                   0                 0                  0   \n",
       "11952              0                   0                 0                  1   \n",
       "11953              0                   0                 0                  0   \n",
       "11954              0                   0                 0                  0   \n",
       "\n",
       "       devicebrand_other  devicebrand_samsung  \n",
       "0                      0                    1  \n",
       "1                      0                    0  \n",
       "2                      0                    1  \n",
       "3                      0                    0  \n",
       "4                      1                    0  \n",
       "...                  ...                  ...  \n",
       "11950                  0                    0  \n",
       "11951                  0                    0  \n",
       "11952                  0                    0  \n",
       "11953                  0                    1  \n",
       "11954                  0                    0  \n",
       "\n",
       "[11955 rows x 63 columns]"
      ]
     },
     "execution_count": 137,
     "metadata": {},
     "output_type": "execute_result"
    }
   ],
   "source": [
    "df_test_ = df_test.copy()\n",
    "df_test_['total_seconds'] = df_test_['n_seconds_1']+df_test_['n_seconds_2']+df_test_['n_seconds_3']\n",
    "df_test_prep = preprocess(df_test_, testt=True)\n",
    "df_test_prep"
   ]
  },
  {
   "cell_type": "code",
   "execution_count": 138,
   "id": "567692ff",
   "metadata": {
    "execution": {
     "iopub.execute_input": "2023-10-13T21:49:18.287667Z",
     "iopub.status.busy": "2023-10-13T21:49:18.287085Z",
     "iopub.status.idle": "2023-10-13T21:49:18.291603Z",
     "shell.execute_reply": "2023-10-13T21:49:18.290794Z"
    },
    "papermill": {
     "duration": 0.040287,
     "end_time": "2023-10-13T21:49:18.293773",
     "exception": false,
     "start_time": "2023-10-13T21:49:18.253486",
     "status": "completed"
    },
    "tags": []
   },
   "outputs": [],
   "source": [
    "#df_test_prep.drop(columns=['index'], inplace=True)\n",
    "\n",
    "X_test_final = df_test_prep\n"
   ]
  },
  {
   "cell_type": "code",
   "execution_count": 139,
   "id": "a18c4148",
   "metadata": {
    "execution": {
     "iopub.execute_input": "2023-10-13T21:49:18.359015Z",
     "iopub.status.busy": "2023-10-13T21:49:18.358384Z",
     "iopub.status.idle": "2023-10-13T22:00:28.007385Z",
     "shell.execute_reply": "2023-10-13T22:00:28.006352Z"
    },
    "papermill": {
     "duration": 669.684643,
     "end_time": "2023-10-13T22:00:28.010093",
     "exception": false,
     "start_time": "2023-10-13T21:49:18.325450",
     "status": "completed"
    },
    "tags": []
   },
   "outputs": [],
   "source": [
    "#Model Creation #######################################################################\n",
    "\n",
    "#Lets try all target together in XGBRegressor\n",
    "X_train, X_test, y_train, y_test = train_test_split(X, y, test_size=0.2, random_state=42)\n",
    "\n",
    "# Create an XGBRegressor model\n",
    "xg_reg = xgb.XGBRegressor(objective='reg:squarederror', max_depth=10)\n",
    "xg_reg.fit(X_train, y_train)\n",
    "\n",
    "y_preds = xg_reg.predict(X_test)\n"
   ]
  },
  {
   "cell_type": "code",
   "execution_count": 140,
   "id": "9834550d",
   "metadata": {
    "execution": {
     "iopub.execute_input": "2023-10-13T22:00:28.076272Z",
     "iopub.status.busy": "2023-10-13T22:00:28.075895Z",
     "iopub.status.idle": "2023-10-13T22:00:28.862014Z",
     "shell.execute_reply": "2023-10-13T22:00:28.860966Z"
    },
    "papermill": {
     "duration": 0.821147,
     "end_time": "2023-10-13T22:00:28.864021",
     "exception": false,
     "start_time": "2023-10-13T22:00:28.042874",
     "status": "completed"
    },
    "tags": []
   },
   "outputs": [
    {
     "data": {
      "text/html": [
       "<div>\n",
       "<style scoped>\n",
       "    .dataframe tbody tr th:only-of-type {\n",
       "        vertical-align: middle;\n",
       "    }\n",
       "\n",
       "    .dataframe tbody tr th {\n",
       "        vertical-align: top;\n",
       "    }\n",
       "\n",
       "    .dataframe thead th {\n",
       "        text-align: right;\n",
       "    }\n",
       "</style>\n",
       "<table border=\"1\" class=\"dataframe\">\n",
       "  <thead>\n",
       "    <tr style=\"text-align: right;\">\n",
       "      <th></th>\n",
       "      <th>n_seconds_1</th>\n",
       "      <th>n_seconds_2</th>\n",
       "      <th>n_seconds_3</th>\n",
       "      <th>feature_0</th>\n",
       "      <th>feature_1</th>\n",
       "      <th>feature_2</th>\n",
       "      <th>feature_3</th>\n",
       "      <th>feature_4</th>\n",
       "      <th>feature_5</th>\n",
       "      <th>feature_6</th>\n",
       "      <th>...</th>\n",
       "      <th>feature_49</th>\n",
       "      <th>total_seconds</th>\n",
       "      <th>carrier_TURKCELL</th>\n",
       "      <th>carrier_VODAFONE TR</th>\n",
       "      <th>carrier_other</th>\n",
       "      <th>devicebrand_HUAWEI</th>\n",
       "      <th>devicebrand_OPPO</th>\n",
       "      <th>devicebrand_Redmi</th>\n",
       "      <th>devicebrand_other</th>\n",
       "      <th>devicebrand_samsung</th>\n",
       "    </tr>\n",
       "  </thead>\n",
       "  <tbody>\n",
       "    <tr>\n",
       "      <th>n_seconds_1</th>\n",
       "      <td>1.000000</td>\n",
       "      <td>0.584690</td>\n",
       "      <td>0.361744</td>\n",
       "      <td>-0.042917</td>\n",
       "      <td>0.060173</td>\n",
       "      <td>-0.028956</td>\n",
       "      <td>0.080744</td>\n",
       "      <td>-0.030080</td>\n",
       "      <td>0.013589</td>\n",
       "      <td>-0.065162</td>\n",
       "      <td>...</td>\n",
       "      <td>0.058511</td>\n",
       "      <td>0.946261</td>\n",
       "      <td>-0.016432</td>\n",
       "      <td>-0.010280</td>\n",
       "      <td>0.017619</td>\n",
       "      <td>-0.005161</td>\n",
       "      <td>0.020551</td>\n",
       "      <td>0.018706</td>\n",
       "      <td>0.027268</td>\n",
       "      <td>0.052879</td>\n",
       "    </tr>\n",
       "    <tr>\n",
       "      <th>n_seconds_2</th>\n",
       "      <td>0.584690</td>\n",
       "      <td>1.000000</td>\n",
       "      <td>0.619014</td>\n",
       "      <td>-0.044952</td>\n",
       "      <td>0.061873</td>\n",
       "      <td>-0.014662</td>\n",
       "      <td>0.070398</td>\n",
       "      <td>-0.026701</td>\n",
       "      <td>0.018572</td>\n",
       "      <td>-0.059690</td>\n",
       "      <td>...</td>\n",
       "      <td>0.071683</td>\n",
       "      <td>0.800453</td>\n",
       "      <td>-0.015029</td>\n",
       "      <td>-0.008694</td>\n",
       "      <td>0.014260</td>\n",
       "      <td>-0.002238</td>\n",
       "      <td>0.014323</td>\n",
       "      <td>0.012381</td>\n",
       "      <td>0.025981</td>\n",
       "      <td>0.055163</td>\n",
       "    </tr>\n",
       "    <tr>\n",
       "      <th>n_seconds_3</th>\n",
       "      <td>0.361744</td>\n",
       "      <td>0.619014</td>\n",
       "      <td>1.000000</td>\n",
       "      <td>-0.018985</td>\n",
       "      <td>0.046448</td>\n",
       "      <td>0.005781</td>\n",
       "      <td>0.051353</td>\n",
       "      <td>-0.018272</td>\n",
       "      <td>0.027349</td>\n",
       "      <td>-0.031041</td>\n",
       "      <td>...</td>\n",
       "      <td>0.072405</td>\n",
       "      <td>0.580500</td>\n",
       "      <td>-0.010422</td>\n",
       "      <td>-0.008719</td>\n",
       "      <td>0.011219</td>\n",
       "      <td>-0.008682</td>\n",
       "      <td>0.008952</td>\n",
       "      <td>0.005185</td>\n",
       "      <td>0.022069</td>\n",
       "      <td>0.043428</td>\n",
       "    </tr>\n",
       "    <tr>\n",
       "      <th>feature_0</th>\n",
       "      <td>-0.042917</td>\n",
       "      <td>-0.044952</td>\n",
       "      <td>-0.018985</td>\n",
       "      <td>1.000000</td>\n",
       "      <td>-0.031720</td>\n",
       "      <td>-0.178093</td>\n",
       "      <td>0.058182</td>\n",
       "      <td>-0.014223</td>\n",
       "      <td>0.019990</td>\n",
       "      <td>0.157140</td>\n",
       "      <td>...</td>\n",
       "      <td>-0.028994</td>\n",
       "      <td>-0.046849</td>\n",
       "      <td>0.027952</td>\n",
       "      <td>-0.012020</td>\n",
       "      <td>0.006347</td>\n",
       "      <td>-0.000164</td>\n",
       "      <td>0.000609</td>\n",
       "      <td>0.009676</td>\n",
       "      <td>-0.005507</td>\n",
       "      <td>-0.017837</td>\n",
       "    </tr>\n",
       "    <tr>\n",
       "      <th>feature_1</th>\n",
       "      <td>0.060173</td>\n",
       "      <td>0.061873</td>\n",
       "      <td>0.046448</td>\n",
       "      <td>-0.031720</td>\n",
       "      <td>1.000000</td>\n",
       "      <td>-0.051216</td>\n",
       "      <td>0.217838</td>\n",
       "      <td>-0.016459</td>\n",
       "      <td>0.076437</td>\n",
       "      <td>-0.122386</td>\n",
       "      <td>...</td>\n",
       "      <td>0.037657</td>\n",
       "      <td>0.068089</td>\n",
       "      <td>0.017774</td>\n",
       "      <td>-0.008372</td>\n",
       "      <td>-0.030732</td>\n",
       "      <td>0.006163</td>\n",
       "      <td>-0.005484</td>\n",
       "      <td>0.003650</td>\n",
       "      <td>0.006252</td>\n",
       "      <td>-0.005161</td>\n",
       "    </tr>\n",
       "    <tr>\n",
       "      <th>...</th>\n",
       "      <td>...</td>\n",
       "      <td>...</td>\n",
       "      <td>...</td>\n",
       "      <td>...</td>\n",
       "      <td>...</td>\n",
       "      <td>...</td>\n",
       "      <td>...</td>\n",
       "      <td>...</td>\n",
       "      <td>...</td>\n",
       "      <td>...</td>\n",
       "      <td>...</td>\n",
       "      <td>...</td>\n",
       "      <td>...</td>\n",
       "      <td>...</td>\n",
       "      <td>...</td>\n",
       "      <td>...</td>\n",
       "      <td>...</td>\n",
       "      <td>...</td>\n",
       "      <td>...</td>\n",
       "      <td>...</td>\n",
       "      <td>...</td>\n",
       "    </tr>\n",
       "    <tr>\n",
       "      <th>devicebrand_HUAWEI</th>\n",
       "      <td>-0.005161</td>\n",
       "      <td>-0.002238</td>\n",
       "      <td>-0.008682</td>\n",
       "      <td>-0.000164</td>\n",
       "      <td>0.006163</td>\n",
       "      <td>0.010028</td>\n",
       "      <td>-0.000587</td>\n",
       "      <td>0.045185</td>\n",
       "      <td>-0.000768</td>\n",
       "      <td>-0.027392</td>\n",
       "      <td>...</td>\n",
       "      <td>0.021862</td>\n",
       "      <td>-0.005599</td>\n",
       "      <td>-0.037470</td>\n",
       "      <td>0.016495</td>\n",
       "      <td>0.011125</td>\n",
       "      <td>1.000000</td>\n",
       "      <td>-0.052332</td>\n",
       "      <td>-0.082985</td>\n",
       "      <td>-0.101954</td>\n",
       "      <td>-0.197823</td>\n",
       "    </tr>\n",
       "    <tr>\n",
       "      <th>devicebrand_OPPO</th>\n",
       "      <td>0.020551</td>\n",
       "      <td>0.014323</td>\n",
       "      <td>0.008952</td>\n",
       "      <td>0.000609</td>\n",
       "      <td>-0.005484</td>\n",
       "      <td>0.000931</td>\n",
       "      <td>-0.000927</td>\n",
       "      <td>0.033402</td>\n",
       "      <td>-0.000897</td>\n",
       "      <td>-0.013786</td>\n",
       "      <td>...</td>\n",
       "      <td>-0.008102</td>\n",
       "      <td>0.020325</td>\n",
       "      <td>-0.021927</td>\n",
       "      <td>0.012957</td>\n",
       "      <td>-0.002134</td>\n",
       "      <td>-0.052332</td>\n",
       "      <td>1.000000</td>\n",
       "      <td>-0.057086</td>\n",
       "      <td>-0.070135</td>\n",
       "      <td>-0.136083</td>\n",
       "    </tr>\n",
       "    <tr>\n",
       "      <th>devicebrand_Redmi</th>\n",
       "      <td>0.018706</td>\n",
       "      <td>0.012381</td>\n",
       "      <td>0.005185</td>\n",
       "      <td>0.009676</td>\n",
       "      <td>0.003650</td>\n",
       "      <td>-0.033897</td>\n",
       "      <td>0.010561</td>\n",
       "      <td>0.026252</td>\n",
       "      <td>0.007918</td>\n",
       "      <td>-0.012597</td>\n",
       "      <td>...</td>\n",
       "      <td>-0.066391</td>\n",
       "      <td>0.017901</td>\n",
       "      <td>-0.055328</td>\n",
       "      <td>0.024384</td>\n",
       "      <td>0.023839</td>\n",
       "      <td>-0.082985</td>\n",
       "      <td>-0.057086</td>\n",
       "      <td>1.000000</td>\n",
       "      <td>-0.111215</td>\n",
       "      <td>-0.215792</td>\n",
       "    </tr>\n",
       "    <tr>\n",
       "      <th>devicebrand_other</th>\n",
       "      <td>0.027268</td>\n",
       "      <td>0.025981</td>\n",
       "      <td>0.022069</td>\n",
       "      <td>-0.005507</td>\n",
       "      <td>0.006252</td>\n",
       "      <td>0.003717</td>\n",
       "      <td>-0.002089</td>\n",
       "      <td>0.046800</td>\n",
       "      <td>-0.006086</td>\n",
       "      <td>-0.033082</td>\n",
       "      <td>...</td>\n",
       "      <td>0.005373</td>\n",
       "      <td>0.030399</td>\n",
       "      <td>-0.088608</td>\n",
       "      <td>0.009120</td>\n",
       "      <td>0.100724</td>\n",
       "      <td>-0.101954</td>\n",
       "      <td>-0.070135</td>\n",
       "      <td>-0.111215</td>\n",
       "      <td>1.000000</td>\n",
       "      <td>-0.265119</td>\n",
       "    </tr>\n",
       "    <tr>\n",
       "      <th>devicebrand_samsung</th>\n",
       "      <td>0.052879</td>\n",
       "      <td>0.055163</td>\n",
       "      <td>0.043428</td>\n",
       "      <td>-0.017837</td>\n",
       "      <td>-0.005161</td>\n",
       "      <td>0.056255</td>\n",
       "      <td>-0.027180</td>\n",
       "      <td>0.031207</td>\n",
       "      <td>-0.016190</td>\n",
       "      <td>-0.032259</td>\n",
       "      <td>...</td>\n",
       "      <td>0.140238</td>\n",
       "      <td>0.060425</td>\n",
       "      <td>-0.044766</td>\n",
       "      <td>-0.002798</td>\n",
       "      <td>0.034865</td>\n",
       "      <td>-0.197823</td>\n",
       "      <td>-0.136083</td>\n",
       "      <td>-0.215792</td>\n",
       "      <td>-0.265119</td>\n",
       "      <td>1.000000</td>\n",
       "    </tr>\n",
       "  </tbody>\n",
       "</table>\n",
       "<p>62 rows × 62 columns</p>\n",
       "</div>"
      ],
      "text/plain": [
       "                     n_seconds_1  n_seconds_2  n_seconds_3  feature_0  \\\n",
       "n_seconds_1             1.000000     0.584690     0.361744  -0.042917   \n",
       "n_seconds_2             0.584690     1.000000     0.619014  -0.044952   \n",
       "n_seconds_3             0.361744     0.619014     1.000000  -0.018985   \n",
       "feature_0              -0.042917    -0.044952    -0.018985   1.000000   \n",
       "feature_1               0.060173     0.061873     0.046448  -0.031720   \n",
       "...                          ...          ...          ...        ...   \n",
       "devicebrand_HUAWEI     -0.005161    -0.002238    -0.008682  -0.000164   \n",
       "devicebrand_OPPO        0.020551     0.014323     0.008952   0.000609   \n",
       "devicebrand_Redmi       0.018706     0.012381     0.005185   0.009676   \n",
       "devicebrand_other       0.027268     0.025981     0.022069  -0.005507   \n",
       "devicebrand_samsung     0.052879     0.055163     0.043428  -0.017837   \n",
       "\n",
       "                     feature_1  feature_2  feature_3  feature_4  feature_5  \\\n",
       "n_seconds_1           0.060173  -0.028956   0.080744  -0.030080   0.013589   \n",
       "n_seconds_2           0.061873  -0.014662   0.070398  -0.026701   0.018572   \n",
       "n_seconds_3           0.046448   0.005781   0.051353  -0.018272   0.027349   \n",
       "feature_0            -0.031720  -0.178093   0.058182  -0.014223   0.019990   \n",
       "feature_1             1.000000  -0.051216   0.217838  -0.016459   0.076437   \n",
       "...                        ...        ...        ...        ...        ...   \n",
       "devicebrand_HUAWEI    0.006163   0.010028  -0.000587   0.045185  -0.000768   \n",
       "devicebrand_OPPO     -0.005484   0.000931  -0.000927   0.033402  -0.000897   \n",
       "devicebrand_Redmi     0.003650  -0.033897   0.010561   0.026252   0.007918   \n",
       "devicebrand_other     0.006252   0.003717  -0.002089   0.046800  -0.006086   \n",
       "devicebrand_samsung  -0.005161   0.056255  -0.027180   0.031207  -0.016190   \n",
       "\n",
       "                     feature_6  ...  feature_49  total_seconds  \\\n",
       "n_seconds_1          -0.065162  ...    0.058511       0.946261   \n",
       "n_seconds_2          -0.059690  ...    0.071683       0.800453   \n",
       "n_seconds_3          -0.031041  ...    0.072405       0.580500   \n",
       "feature_0             0.157140  ...   -0.028994      -0.046849   \n",
       "feature_1            -0.122386  ...    0.037657       0.068089   \n",
       "...                        ...  ...         ...            ...   \n",
       "devicebrand_HUAWEI   -0.027392  ...    0.021862      -0.005599   \n",
       "devicebrand_OPPO     -0.013786  ...   -0.008102       0.020325   \n",
       "devicebrand_Redmi    -0.012597  ...   -0.066391       0.017901   \n",
       "devicebrand_other    -0.033082  ...    0.005373       0.030399   \n",
       "devicebrand_samsung  -0.032259  ...    0.140238       0.060425   \n",
       "\n",
       "                     carrier_TURKCELL  carrier_VODAFONE TR  carrier_other  \\\n",
       "n_seconds_1                 -0.016432            -0.010280       0.017619   \n",
       "n_seconds_2                 -0.015029            -0.008694       0.014260   \n",
       "n_seconds_3                 -0.010422            -0.008719       0.011219   \n",
       "feature_0                    0.027952            -0.012020       0.006347   \n",
       "feature_1                    0.017774            -0.008372      -0.030732   \n",
       "...                               ...                  ...            ...   \n",
       "devicebrand_HUAWEI          -0.037470             0.016495       0.011125   \n",
       "devicebrand_OPPO            -0.021927             0.012957      -0.002134   \n",
       "devicebrand_Redmi           -0.055328             0.024384       0.023839   \n",
       "devicebrand_other           -0.088608             0.009120       0.100724   \n",
       "devicebrand_samsung         -0.044766            -0.002798       0.034865   \n",
       "\n",
       "                     devicebrand_HUAWEI  devicebrand_OPPO  devicebrand_Redmi  \\\n",
       "n_seconds_1                   -0.005161          0.020551           0.018706   \n",
       "n_seconds_2                   -0.002238          0.014323           0.012381   \n",
       "n_seconds_3                   -0.008682          0.008952           0.005185   \n",
       "feature_0                     -0.000164          0.000609           0.009676   \n",
       "feature_1                      0.006163         -0.005484           0.003650   \n",
       "...                                 ...               ...                ...   \n",
       "devicebrand_HUAWEI             1.000000         -0.052332          -0.082985   \n",
       "devicebrand_OPPO              -0.052332          1.000000          -0.057086   \n",
       "devicebrand_Redmi             -0.082985         -0.057086           1.000000   \n",
       "devicebrand_other             -0.101954         -0.070135          -0.111215   \n",
       "devicebrand_samsung           -0.197823         -0.136083          -0.215792   \n",
       "\n",
       "                     devicebrand_other  devicebrand_samsung  \n",
       "n_seconds_1                   0.027268             0.052879  \n",
       "n_seconds_2                   0.025981             0.055163  \n",
       "n_seconds_3                   0.022069             0.043428  \n",
       "feature_0                    -0.005507            -0.017837  \n",
       "feature_1                     0.006252            -0.005161  \n",
       "...                                ...                  ...  \n",
       "devicebrand_HUAWEI           -0.101954            -0.197823  \n",
       "devicebrand_OPPO             -0.070135            -0.136083  \n",
       "devicebrand_Redmi            -0.111215            -0.215792  \n",
       "devicebrand_other             1.000000            -0.265119  \n",
       "devicebrand_samsung          -0.265119             1.000000  \n",
       "\n",
       "[62 rows x 62 columns]"
      ]
     },
     "execution_count": 140,
     "metadata": {},
     "output_type": "execute_result"
    }
   ],
   "source": [
    "X_train.corr()"
   ]
  },
  {
   "cell_type": "code",
   "execution_count": 141,
   "id": "aad17efe",
   "metadata": {
    "execution": {
     "iopub.execute_input": "2023-10-13T22:00:28.929630Z",
     "iopub.status.busy": "2023-10-13T22:00:28.928608Z",
     "iopub.status.idle": "2023-10-13T22:00:30.493748Z",
     "shell.execute_reply": "2023-10-13T22:00:30.492913Z"
    },
    "papermill": {
     "duration": 1.600191,
     "end_time": "2023-10-13T22:00:30.496014",
     "exception": false,
     "start_time": "2023-10-13T22:00:28.895823",
     "status": "completed"
    },
    "tags": []
   },
   "outputs": [
    {
     "data": {
      "text/plain": [
       "<Axes: >"
      ]
     },
     "execution_count": 141,
     "metadata": {},
     "output_type": "execute_result"
    },
    {
     "data": {
      "image/png": "[encoded data removed]",
      "text/plain": [
       "<Figure size 1100x1100 with 2 Axes>"
      ]
     },
     "metadata": {},
     "output_type": "display_data"
    }
   ],
   "source": [
    "corrmat = X_train.corr()\n",
    "fig, ax = plt.subplots()\n",
    "fig.set_size_inches(11,11)\n",
    "sns.heatmap(corrmat)"
   ]
  },
  {
   "cell_type": "code",
   "execution_count": 142,
   "id": "72d567aa",
   "metadata": {
    "execution": {
     "iopub.execute_input": "2023-10-13T22:00:30.566962Z",
     "iopub.status.busy": "2023-10-13T22:00:30.566580Z",
     "iopub.status.idle": "2023-10-13T22:00:30.572827Z",
     "shell.execute_reply": "2023-10-13T22:00:30.571730Z"
    },
    "papermill": {
     "duration": 0.044883,
     "end_time": "2023-10-13T22:00:30.575022",
     "exception": false,
     "start_time": "2023-10-13T22:00:30.530139",
     "status": "completed"
    },
    "tags": []
   },
   "outputs": [],
   "source": [
    "def correlation(X_test_final, threshold):\n",
    "    col_corr = set()  # Set of all the names of correlated columns\n",
    "    corr_matrix = X_test_final.corr()\n",
    "    for i in range(len(corr_matrix.columns)):\n",
    "        for j in range(i):\n",
    "            if abs(corr_matrix.iloc[i, j]) > threshold: # we are interested in absolute coeff value\n",
    "                colname = corr_matrix.columns[i]  # getting the name of column\n",
    "                col_corr.add(colname)\n",
    "    return col_corr"
   ]
  },
  {
   "cell_type": "code",
   "execution_count": 143,
   "id": "0730b438",
   "metadata": {
    "execution": {
     "iopub.execute_input": "2023-10-13T22:00:30.646499Z",
     "iopub.status.busy": "2023-10-13T22:00:30.645889Z",
     "iopub.status.idle": "2023-10-13T22:00:31.453875Z",
     "shell.execute_reply": "2023-10-13T22:00:31.452782Z"
    },
    "papermill": {
     "duration": 0.846018,
     "end_time": "2023-10-13T22:00:31.456072",
     "exception": false,
     "start_time": "2023-10-13T22:00:30.610054",
     "status": "completed"
    },
    "tags": []
   },
   "outputs": [
    {
     "data": {
      "text/plain": [
       "1"
      ]
     },
     "execution_count": 143,
     "metadata": {},
     "output_type": "execute_result"
    }
   ],
   "source": [
    "corr_features = correlation(X_train, 0.9)\n",
    "len(set(corr_features))"
   ]
  },
  {
   "cell_type": "code",
   "execution_count": 144,
   "id": "965a8745",
   "metadata": {
    "execution": {
     "iopub.execute_input": "2023-10-13T22:00:31.526102Z",
     "iopub.status.busy": "2023-10-13T22:00:31.525733Z",
     "iopub.status.idle": "2023-10-13T22:00:31.532583Z",
     "shell.execute_reply": "2023-10-13T22:00:31.531569Z"
    },
    "papermill": {
     "duration": 0.044029,
     "end_time": "2023-10-13T22:00:31.534352",
     "exception": false,
     "start_time": "2023-10-13T22:00:31.490323",
     "status": "completed"
    },
    "tags": []
   },
   "outputs": [
    {
     "data": {
      "text/plain": [
       "{'total_seconds'}"
      ]
     },
     "execution_count": 144,
     "metadata": {},
     "output_type": "execute_result"
    }
   ],
   "source": [
    "corr_features"
   ]
  },
  {
   "cell_type": "markdown",
   "id": "c366f9b4",
   "metadata": {
    "papermill": {
     "duration": 0.034939,
     "end_time": "2023-10-13T22:00:31.603822",
     "exception": false,
     "start_time": "2023-10-13T22:00:31.568883",
     "status": "completed"
    },
    "tags": []
   },
   "source": [
    "> PCA\n"
   ]
  },
  {
   "cell_type": "code",
   "execution_count": 145,
   "id": "f27c6eb4",
   "metadata": {
    "execution": {
     "iopub.execute_input": "2023-10-13T22:00:31.675439Z",
     "iopub.status.busy": "2023-10-13T22:00:31.674552Z",
     "iopub.status.idle": "2023-10-13T22:00:31.679178Z",
     "shell.execute_reply": "2023-10-13T22:00:31.678267Z"
    },
    "papermill": {
     "duration": 0.042496,
     "end_time": "2023-10-13T22:00:31.681448",
     "exception": false,
     "start_time": "2023-10-13T22:00:31.638952",
     "status": "completed"
    },
    "tags": []
   },
   "outputs": [],
   "source": [
    "from sklearn.decomposition import PCA\n"
   ]
  },
  {
   "cell_type": "code",
   "execution_count": 146,
   "id": "ee3b1de6",
   "metadata": {
    "execution": {
     "iopub.execute_input": "2023-10-13T22:00:31.752414Z",
     "iopub.status.busy": "2023-10-13T22:00:31.752063Z",
     "iopub.status.idle": "2023-10-13T22:00:32.354704Z",
     "shell.execute_reply": "2023-10-13T22:00:32.353497Z"
    },
    "papermill": {
     "duration": 0.641105,
     "end_time": "2023-10-13T22:00:32.357888",
     "exception": false,
     "start_time": "2023-10-13T22:00:31.716783",
     "status": "completed"
    },
    "tags": []
   },
   "outputs": [],
   "source": [
    "\n",
    "PCA_TR = PCA(n_components=3)\n",
    "X_train = PCA_TR.fit_transform(X)"
   ]
  },
  {
   "cell_type": "code",
   "execution_count": 147,
   "id": "d1a236be",
   "metadata": {
    "execution": {
     "iopub.execute_input": "2023-10-13T22:00:32.449173Z",
     "iopub.status.busy": "2023-10-13T22:00:32.448817Z",
     "iopub.status.idle": "2023-10-13T22:00:32.455882Z",
     "shell.execute_reply": "2023-10-13T22:00:32.454752Z"
    },
    "papermill": {
     "duration": 0.044692,
     "end_time": "2023-10-13T22:00:32.457964",
     "exception": false,
     "start_time": "2023-10-13T22:00:32.413272",
     "status": "completed"
    },
    "tags": []
   },
   "outputs": [
    {
     "data": {
      "text/plain": [
       "array([0.21235685, 0.15355584, 0.08352913])"
      ]
     },
     "execution_count": 147,
     "metadata": {},
     "output_type": "execute_result"
    }
   ],
   "source": [
    "PCA_TR.explained_variance_ratio_"
   ]
  },
  {
   "cell_type": "code",
   "execution_count": 148,
   "id": "b2356f04",
   "metadata": {
    "execution": {
     "iopub.execute_input": "2023-10-13T22:00:32.528225Z",
     "iopub.status.busy": "2023-10-13T22:00:32.527848Z",
     "iopub.status.idle": "2023-10-13T22:00:32.535779Z",
     "shell.execute_reply": "2023-10-13T22:00:32.534655Z"
    },
    "papermill": {
     "duration": 0.045382,
     "end_time": "2023-10-13T22:00:32.537816",
     "exception": false,
     "start_time": "2023-10-13T22:00:32.492434",
     "status": "completed"
    },
    "tags": []
   },
   "outputs": [
    {
     "data": {
      "text/plain": [
       "array([[ 1.16018251e-03,  1.34015077e-03,  8.82498218e-04,\n",
       "        -4.98484929e-03, -3.07445677e-03,  5.27449678e-04,\n",
       "        -3.78073849e-03,  7.27670202e-03, -2.57290517e-03,\n",
       "        -5.93487945e-03, -5.33858947e-03, -1.72214598e-03,\n",
       "         3.32516927e-03, -7.98504153e-03, -5.72520456e-03,\n",
       "        -3.80715816e-03, -9.07449210e-03,  2.63383801e-03,\n",
       "         8.66276808e-04, -5.20791356e-03,  1.27831301e-04,\n",
       "        -5.91188185e-03, -6.89295699e-03,  8.32447510e-05,\n",
       "        -1.73909083e-03,  1.26788316e-03,  9.41959998e-04,\n",
       "         4.83484953e-03,  4.52236369e-03,  3.11521923e-03,\n",
       "         5.52259913e-03, -1.14207995e-02, -2.06831144e-04,\n",
       "         1.70638230e-03,  3.80974074e-03,  2.68400372e-03,\n",
       "         8.65610608e-03,  7.81470634e-04,  5.64789685e-03,\n",
       "         9.19311874e-03, -7.54023944e-03, -1.34861860e-03,\n",
       "         4.68292675e-03, -2.22100173e-03,  8.74627625e-03,\n",
       "        -3.35675512e-04, -8.60625430e-03,  5.53756946e-03,\n",
       "        -3.24225562e-04,  1.30309051e-02,  2.42403753e-03,\n",
       "        -4.81021404e-03, -1.78293676e-03,  1.61561432e-03,\n",
       "        -7.75497925e-01,  6.24672182e-01,  4.54806206e-02,\n",
       "         1.19392889e-02,  5.85337051e-03,  2.17507734e-02,\n",
       "         4.22354000e-02,  4.97637005e-02],\n",
       "       [ 5.84978673e-03,  7.90488209e-03,  6.18126863e-03,\n",
       "        -4.12092653e-03, -1.27674217e-03,  1.46300028e-02,\n",
       "        -9.87481401e-03,  5.18747234e-03, -6.00188304e-03,\n",
       "        -6.38345675e-03,  2.51476893e-03, -4.42119880e-03,\n",
       "         1.11118677e-02, -1.10647917e-02, -1.73658536e-02,\n",
       "         5.95275701e-03,  7.39565970e-03, -3.60354498e-03,\n",
       "        -5.96129263e-03, -1.99915023e-03,  3.78355767e-03,\n",
       "         1.24608153e-03, -1.32817332e-02,  1.42541285e-02,\n",
       "        -1.48988115e-02,  6.64468210e-03, -1.09678026e-04,\n",
       "         3.42575786e-03,  1.86716605e-02,  1.48287182e-02,\n",
       "        -6.61157479e-03, -1.11301917e-02, -5.90128400e-04,\n",
       "        -1.33733240e-02, -5.91831881e-03, -1.48617307e-03,\n",
       "         3.34690612e-03, -4.32593827e-03, -1.81371886e-03,\n",
       "         9.11517793e-03,  1.55663897e-03, -5.51613808e-03,\n",
       "        -4.54589291e-03,  5.52726003e-03,  4.63796398e-03,\n",
       "         1.13756075e-02, -1.41777872e-02,  1.36928003e-02,\n",
       "         1.22392790e-03,  9.75957413e-03,  3.80539564e-03,\n",
       "         3.30704903e-02,  5.42813409e-02,  8.74974919e-03,\n",
       "         2.39374696e-03, -4.97326088e-02,  1.53322576e-02,\n",
       "        -1.08524902e-01, -4.51223275e-02, -1.39988099e-01,\n",
       "        -2.58217450e-01,  9.43038149e-01],\n",
       "       [ 7.83162568e-03,  8.97338587e-03,  7.21351095e-03,\n",
       "        -6.01456203e-03, -6.83682130e-03,  4.81421285e-03,\n",
       "        -1.31462827e-02,  3.28217969e-03, -5.52362215e-03,\n",
       "        -1.36235591e-02,  4.81801710e-03, -4.92266980e-03,\n",
       "         7.46480522e-03, -1.47329435e-02, -1.78414720e-02,\n",
       "         2.86880924e-03, -9.73712934e-03,  1.02056286e-04,\n",
       "        -1.39817889e-03, -1.18764251e-03,  3.52618284e-03,\n",
       "         3.19727789e-03, -1.77833979e-02,  2.13516443e-03,\n",
       "        -5.07616625e-03,  7.28497885e-03, -3.40044754e-03,\n",
       "         8.89616060e-04,  2.20732355e-02,  8.61066136e-03,\n",
       "         1.13337721e-02, -2.63497759e-02,  6.06533807e-03,\n",
       "        -9.07542499e-03, -2.95455438e-03,  8.42598885e-04,\n",
       "         2.95524666e-03,  5.69370470e-04,  1.32771617e-02,\n",
       "         2.00469398e-02, -1.01257538e-02, -4.32748061e-03,\n",
       "         4.17435617e-03, -9.76556825e-03,  1.61443272e-02,\n",
       "         1.41742533e-02, -2.11014913e-02,  1.13147586e-02,\n",
       "         1.84279748e-03,  2.32871661e-02,  1.63015732e-03,\n",
       "         9.42676103e-03,  2.78877087e-02,  1.10667477e-02,\n",
       "        -4.61918988e-01, -6.37765068e-01,  5.03160096e-01,\n",
       "        -2.88334141e-02, -1.60494783e-02, -3.35190535e-02,\n",
       "         3.40989057e-01,  3.80118858e-02]])"
      ]
     },
     "execution_count": 148,
     "metadata": {},
     "output_type": "execute_result"
    }
   ],
   "source": [
    "PCA_TR.components_"
   ]
  },
  {
   "cell_type": "code",
   "execution_count": 149,
   "id": "352df3cf",
   "metadata": {
    "execution": {
     "iopub.execute_input": "2023-10-13T22:00:32.609458Z",
     "iopub.status.busy": "2023-10-13T22:00:32.609096Z",
     "iopub.status.idle": "2023-10-13T22:00:32.631624Z",
     "shell.execute_reply": "2023-10-13T22:00:32.630510Z"
    },
    "papermill": {
     "duration": 0.060796,
     "end_time": "2023-10-13T22:00:32.634063",
     "exception": false,
     "start_time": "2023-10-13T22:00:32.573267",
     "status": "completed"
    },
    "tags": []
   },
   "outputs": [
    {
     "data": {
      "text/html": [
       "<div>\n",
       "<style scoped>\n",
       "    .dataframe tbody tr th:only-of-type {\n",
       "        vertical-align: middle;\n",
       "    }\n",
       "\n",
       "    .dataframe tbody tr th {\n",
       "        vertical-align: top;\n",
       "    }\n",
       "\n",
       "    .dataframe thead th {\n",
       "        text-align: right;\n",
       "    }\n",
       "</style>\n",
       "<table border=\"1\" class=\"dataframe\">\n",
       "  <thead>\n",
       "    <tr style=\"text-align: right;\">\n",
       "      <th></th>\n",
       "      <th>n_seconds_1</th>\n",
       "      <th>n_seconds_2</th>\n",
       "      <th>n_seconds_3</th>\n",
       "      <th>feature_0</th>\n",
       "      <th>feature_1</th>\n",
       "      <th>feature_2</th>\n",
       "      <th>feature_3</th>\n",
       "      <th>feature_4</th>\n",
       "      <th>feature_5</th>\n",
       "      <th>feature_6</th>\n",
       "      <th>...</th>\n",
       "      <th>feature_49</th>\n",
       "      <th>total_seconds</th>\n",
       "      <th>carrier_TURKCELL</th>\n",
       "      <th>carrier_VODAFONE TR</th>\n",
       "      <th>carrier_other</th>\n",
       "      <th>devicebrand_HUAWEI</th>\n",
       "      <th>devicebrand_OPPO</th>\n",
       "      <th>devicebrand_Redmi</th>\n",
       "      <th>devicebrand_other</th>\n",
       "      <th>devicebrand_samsung</th>\n",
       "    </tr>\n",
       "  </thead>\n",
       "  <tbody>\n",
       "    <tr>\n",
       "      <th>PC-1</th>\n",
       "      <td>0.001160</td>\n",
       "      <td>0.001340</td>\n",
       "      <td>0.000882</td>\n",
       "      <td>-0.004985</td>\n",
       "      <td>-0.003074</td>\n",
       "      <td>0.000527</td>\n",
       "      <td>-0.003781</td>\n",
       "      <td>0.007277</td>\n",
       "      <td>-0.002573</td>\n",
       "      <td>-0.005935</td>\n",
       "      <td>...</td>\n",
       "      <td>-0.001783</td>\n",
       "      <td>0.001616</td>\n",
       "      <td>-0.775498</td>\n",
       "      <td>0.624672</td>\n",
       "      <td>0.045481</td>\n",
       "      <td>0.011939</td>\n",
       "      <td>0.005853</td>\n",
       "      <td>0.021751</td>\n",
       "      <td>0.042235</td>\n",
       "      <td>0.049764</td>\n",
       "    </tr>\n",
       "    <tr>\n",
       "      <th>PC-2</th>\n",
       "      <td>0.005850</td>\n",
       "      <td>0.007905</td>\n",
       "      <td>0.006181</td>\n",
       "      <td>-0.004121</td>\n",
       "      <td>-0.001277</td>\n",
       "      <td>0.014630</td>\n",
       "      <td>-0.009875</td>\n",
       "      <td>0.005187</td>\n",
       "      <td>-0.006002</td>\n",
       "      <td>-0.006383</td>\n",
       "      <td>...</td>\n",
       "      <td>0.054281</td>\n",
       "      <td>0.008750</td>\n",
       "      <td>0.002394</td>\n",
       "      <td>-0.049733</td>\n",
       "      <td>0.015332</td>\n",
       "      <td>-0.108525</td>\n",
       "      <td>-0.045122</td>\n",
       "      <td>-0.139988</td>\n",
       "      <td>-0.258217</td>\n",
       "      <td>0.943038</td>\n",
       "    </tr>\n",
       "    <tr>\n",
       "      <th>PC-3</th>\n",
       "      <td>0.007832</td>\n",
       "      <td>0.008973</td>\n",
       "      <td>0.007214</td>\n",
       "      <td>-0.006015</td>\n",
       "      <td>-0.006837</td>\n",
       "      <td>0.004814</td>\n",
       "      <td>-0.013146</td>\n",
       "      <td>0.003282</td>\n",
       "      <td>-0.005524</td>\n",
       "      <td>-0.013624</td>\n",
       "      <td>...</td>\n",
       "      <td>0.027888</td>\n",
       "      <td>0.011067</td>\n",
       "      <td>-0.461919</td>\n",
       "      <td>-0.637765</td>\n",
       "      <td>0.503160</td>\n",
       "      <td>-0.028833</td>\n",
       "      <td>-0.016049</td>\n",
       "      <td>-0.033519</td>\n",
       "      <td>0.340989</td>\n",
       "      <td>0.038012</td>\n",
       "    </tr>\n",
       "  </tbody>\n",
       "</table>\n",
       "<p>3 rows × 62 columns</p>\n",
       "</div>"
      ],
      "text/plain": [
       "      n_seconds_1  n_seconds_2  n_seconds_3  feature_0  feature_1  feature_2  \\\n",
       "PC-1     0.001160     0.001340     0.000882  -0.004985  -0.003074   0.000527   \n",
       "PC-2     0.005850     0.007905     0.006181  -0.004121  -0.001277   0.014630   \n",
       "PC-3     0.007832     0.008973     0.007214  -0.006015  -0.006837   0.004814   \n",
       "\n",
       "      feature_3  feature_4  feature_5  feature_6  ...  feature_49  \\\n",
       "PC-1  -0.003781   0.007277  -0.002573  -0.005935  ...   -0.001783   \n",
       "PC-2  -0.009875   0.005187  -0.006002  -0.006383  ...    0.054281   \n",
       "PC-3  -0.013146   0.003282  -0.005524  -0.013624  ...    0.027888   \n",
       "\n",
       "      total_seconds  carrier_TURKCELL  carrier_VODAFONE TR  carrier_other  \\\n",
       "PC-1       0.001616         -0.775498             0.624672       0.045481   \n",
       "PC-2       0.008750          0.002394            -0.049733       0.015332   \n",
       "PC-3       0.011067         -0.461919            -0.637765       0.503160   \n",
       "\n",
       "      devicebrand_HUAWEI  devicebrand_OPPO  devicebrand_Redmi  \\\n",
       "PC-1            0.011939          0.005853           0.021751   \n",
       "PC-2           -0.108525         -0.045122          -0.139988   \n",
       "PC-3           -0.028833         -0.016049          -0.033519   \n",
       "\n",
       "      devicebrand_other  devicebrand_samsung  \n",
       "PC-1           0.042235             0.049764  \n",
       "PC-2          -0.258217             0.943038  \n",
       "PC-3           0.340989             0.038012  \n",
       "\n",
       "[3 rows x 62 columns]"
      ]
     },
     "execution_count": 149,
     "metadata": {},
     "output_type": "execute_result"
    }
   ],
   "source": [
    "pd.DataFrame(PCA_TR.components_,columns=X.columns,index = ['PC-1','PC-2','PC-3'])"
   ]
  },
  {
   "cell_type": "code",
   "execution_count": 150,
   "id": "8cbd23dd",
   "metadata": {
    "execution": {
     "iopub.execute_input": "2023-10-13T22:00:32.704584Z",
     "iopub.status.busy": "2023-10-13T22:00:32.704220Z",
     "iopub.status.idle": "2023-10-13T22:00:33.361076Z",
     "shell.execute_reply": "2023-10-13T22:00:33.359742Z"
    },
    "papermill": {
     "duration": 0.695895,
     "end_time": "2023-10-13T22:00:33.364297",
     "exception": false,
     "start_time": "2023-10-13T22:00:32.668402",
     "status": "completed"
    },
    "tags": []
   },
   "outputs": [],
   "source": [
    "from sklearn.decomposition import PCA\n",
    "\n",
    "X = df_.drop('target',axis=1)\n",
    "Y = df_['target']\n",
    "\n",
    "PCA_TR = PCA(n_components=3)\n",
    "z_train = PCA_TR.fit_transform(X)"
   ]
  },
  {
   "cell_type": "code",
   "execution_count": 151,
   "id": "068e20a5",
   "metadata": {
    "execution": {
     "iopub.execute_input": "2023-10-13T22:00:33.454535Z",
     "iopub.status.busy": "2023-10-13T22:00:33.454169Z",
     "iopub.status.idle": "2023-10-13T22:10:21.651116Z",
     "shell.execute_reply": "2023-10-13T22:10:21.649114Z"
    },
    "papermill": {
     "duration": 588.234558,
     "end_time": "2023-10-13T22:10:21.653047",
     "exception": true,
     "start_time": "2023-10-13T22:00:33.418489",
     "status": "failed"
    },
    "tags": []
   },
   "outputs": [
    {
     "name": "stderr",
     "output_type": "stream",
     "text": [
      "/opt/conda/lib/python3.10/site-packages/sklearn/model_selection/_split.py:700: UserWarning: The least populated class in y has only 2 members, which is less than n_splits=10.\n",
      "  warnings.warn(\n",
      "/opt/conda/lib/python3.10/site-packages/sklearn/linear_model/_logistic.py:458: ConvergenceWarning: lbfgs failed to converge (status=1):\n",
      "STOP: TOTAL NO. of ITERATIONS REACHED LIMIT.\n",
      "\n",
      "Increase the number of iterations (max_iter) or scale the data as shown in:\n",
      "    https://scikit-learn.org/stable/modules/preprocessing.html\n",
      "Please also refer to the documentation for alternative solver options:\n",
      "    https://scikit-learn.org/stable/modules/linear_model.html#logistic-regression\n",
      "  n_iter_i = _check_optimize_result(\n",
      "/opt/conda/lib/python3.10/site-packages/sklearn/linear_model/_logistic.py:458: ConvergenceWarning: lbfgs failed to converge (status=1):\n",
      "STOP: TOTAL NO. of ITERATIONS REACHED LIMIT.\n",
      "\n",
      "Increase the number of iterations (max_iter) or scale the data as shown in:\n",
      "    https://scikit-learn.org/stable/modules/preprocessing.html\n",
      "Please also refer to the documentation for alternative solver options:\n",
      "    https://scikit-learn.org/stable/modules/linear_model.html#logistic-regression\n",
      "  n_iter_i = _check_optimize_result(\n",
      "/opt/conda/lib/python3.10/site-packages/sklearn/linear_model/_logistic.py:458: ConvergenceWarning: lbfgs failed to converge (status=1):\n",
      "STOP: TOTAL NO. of ITERATIONS REACHED LIMIT.\n",
      "\n",
      "Increase the number of iterations (max_iter) or scale the data as shown in:\n",
      "    https://scikit-learn.org/stable/modules/preprocessing.html\n",
      "Please also refer to the documentation for alternative solver options:\n",
      "    https://scikit-learn.org/stable/modules/linear_model.html#logistic-regression\n",
      "  n_iter_i = _check_optimize_result(\n",
      "/opt/conda/lib/python3.10/site-packages/sklearn/linear_model/_logistic.py:458: ConvergenceWarning: lbfgs failed to converge (status=1):\n",
      "STOP: TOTAL NO. of ITERATIONS REACHED LIMIT.\n",
      "\n",
      "Increase the number of iterations (max_iter) or scale the data as shown in:\n",
      "    https://scikit-learn.org/stable/modules/preprocessing.html\n",
      "Please also refer to the documentation for alternative solver options:\n",
      "    https://scikit-learn.org/stable/modules/linear_model.html#logistic-regression\n",
      "  n_iter_i = _check_optimize_result(\n",
      "/opt/conda/lib/python3.10/site-packages/sklearn/linear_model/_logistic.py:458: ConvergenceWarning: lbfgs failed to converge (status=1):\n",
      "STOP: TOTAL NO. of ITERATIONS REACHED LIMIT.\n",
      "\n",
      "Increase the number of iterations (max_iter) or scale the data as shown in:\n",
      "    https://scikit-learn.org/stable/modules/preprocessing.html\n",
      "Please also refer to the documentation for alternative solver options:\n",
      "    https://scikit-learn.org/stable/modules/linear_model.html#logistic-regression\n",
      "  n_iter_i = _check_optimize_result(\n",
      "/opt/conda/lib/python3.10/site-packages/sklearn/linear_model/_logistic.py:458: ConvergenceWarning: lbfgs failed to converge (status=1):\n",
      "STOP: TOTAL NO. of ITERATIONS REACHED LIMIT.\n",
      "\n",
      "Increase the number of iterations (max_iter) or scale the data as shown in:\n",
      "    https://scikit-learn.org/stable/modules/preprocessing.html\n",
      "Please also refer to the documentation for alternative solver options:\n",
      "    https://scikit-learn.org/stable/modules/linear_model.html#logistic-regression\n",
      "  n_iter_i = _check_optimize_result(\n",
      "/opt/conda/lib/python3.10/site-packages/sklearn/linear_model/_logistic.py:458: ConvergenceWarning: lbfgs failed to converge (status=1):\n",
      "STOP: TOTAL NO. of ITERATIONS REACHED LIMIT.\n",
      "\n",
      "Increase the number of iterations (max_iter) or scale the data as shown in:\n",
      "    https://scikit-learn.org/stable/modules/preprocessing.html\n",
      "Please also refer to the documentation for alternative solver options:\n",
      "    https://scikit-learn.org/stable/modules/linear_model.html#logistic-regression\n",
      "  n_iter_i = _check_optimize_result(\n",
      "/opt/conda/lib/python3.10/site-packages/sklearn/linear_model/_logistic.py:458: ConvergenceWarning: lbfgs failed to converge (status=1):\n",
      "STOP: TOTAL NO. of ITERATIONS REACHED LIMIT.\n",
      "\n",
      "Increase the number of iterations (max_iter) or scale the data as shown in:\n",
      "    https://scikit-learn.org/stable/modules/preprocessing.html\n",
      "Please also refer to the documentation for alternative solver options:\n",
      "    https://scikit-learn.org/stable/modules/linear_model.html#logistic-regression\n",
      "  n_iter_i = _check_optimize_result(\n",
      "/opt/conda/lib/python3.10/site-packages/sklearn/linear_model/_logistic.py:458: ConvergenceWarning: lbfgs failed to converge (status=1):\n",
      "STOP: TOTAL NO. of ITERATIONS REACHED LIMIT.\n",
      "\n",
      "Increase the number of iterations (max_iter) or scale the data as shown in:\n",
      "    https://scikit-learn.org/stable/modules/preprocessing.html\n",
      "Please also refer to the documentation for alternative solver options:\n",
      "    https://scikit-learn.org/stable/modules/linear_model.html#logistic-regression\n",
      "  n_iter_i = _check_optimize_result(\n",
      "/opt/conda/lib/python3.10/site-packages/sklearn/linear_model/_logistic.py:458: ConvergenceWarning: lbfgs failed to converge (status=1):\n",
      "STOP: TOTAL NO. of ITERATIONS REACHED LIMIT.\n",
      "\n",
      "Increase the number of iterations (max_iter) or scale the data as shown in:\n",
      "    https://scikit-learn.org/stable/modules/preprocessing.html\n",
      "Please also refer to the documentation for alternative solver options:\n",
      "    https://scikit-learn.org/stable/modules/linear_model.html#logistic-regression\n",
      "  n_iter_i = _check_optimize_result(\n"
     ]
    },
    {
     "name": "stdout",
     "output_type": "stream",
     "text": [
      "LogisticRegression : 74.44%\n"
     ]
    },
    {
     "name": "stderr",
     "output_type": "stream",
     "text": [
      "/opt/conda/lib/python3.10/site-packages/sklearn/model_selection/_split.py:700: UserWarning: The least populated class in y has only 2 members, which is less than n_splits=10.\n",
      "  warnings.warn(\n"
     ]
    },
    {
     "name": "stdout",
     "output_type": "stream",
     "text": [
      "DecisionTreeClassifier : 85.04%\n"
     ]
    },
    {
     "name": "stderr",
     "output_type": "stream",
     "text": [
      "/opt/conda/lib/python3.10/site-packages/sklearn/model_selection/_split.py:700: UserWarning: The least populated class in y has only 2 members, which is less than n_splits=10.\n",
      "  warnings.warn(\n"
     ]
    },
    {
     "name": "stdout",
     "output_type": "stream",
     "text": [
      "RandomForestClassifier : 85.95%\n"
     ]
    },
    {
     "name": "stderr",
     "output_type": "stream",
     "text": [
      "/opt/conda/lib/python3.10/site-packages/sklearn/model_selection/_split.py:700: UserWarning: The least populated class in y has only 2 members, which is less than n_splits=10.\n",
      "  warnings.warn(\n"
     ]
    },
    {
     "name": "stdout",
     "output_type": "stream",
     "text": [
      "KNeighborsClassifier : 85.79%\n"
     ]
    },
    {
     "ename": "ValueError",
     "evalue": "Supported target types are: ('binary', 'multiclass'). Got 'multilabel-indicator' instead.",
     "output_type": "error",
     "traceback": [
      "\u001b[0;31m---------------------------------------------------------------------------\u001b[0m",
      "\u001b[0;31mValueError\u001b[0m                                Traceback (most recent call last)",
      "Cell \u001b[0;32mIn[151], line 20\u001b[0m\n\u001b[1;32m     18\u001b[0m \u001b[38;5;28mprint\u001b[39m(\u001b[38;5;124mf\u001b[39m\u001b[38;5;124m'\u001b[39m\u001b[38;5;124mRandomForestClassifier : \u001b[39m\u001b[38;5;132;01m{\u001b[39;00m\u001b[38;5;28mround\u001b[39m(cross_val_score(RFC,z_train,Y,cv\u001b[38;5;241m=\u001b[39mSKF,scoring\u001b[38;5;241m=\u001b[39m\u001b[38;5;124m\"\u001b[39m\u001b[38;5;124maccuracy\u001b[39m\u001b[38;5;124m\"\u001b[39m)\u001b[38;5;241m.\u001b[39mmean()\u001b[38;5;241m*\u001b[39m\u001b[38;5;241m100\u001b[39m,\u001b[38;5;241m2\u001b[39m)\u001b[38;5;132;01m}\u001b[39;00m\u001b[38;5;124m%\u001b[39m\u001b[38;5;124m'\u001b[39m)\n\u001b[1;32m     19\u001b[0m \u001b[38;5;28mprint\u001b[39m(\u001b[38;5;124mf\u001b[39m\u001b[38;5;124m'\u001b[39m\u001b[38;5;124mKNeighborsClassifier : \u001b[39m\u001b[38;5;132;01m{\u001b[39;00m\u001b[38;5;28mround\u001b[39m(cross_val_score(KNC,z_train,Y,cv\u001b[38;5;241m=\u001b[39mSKF,scoring\u001b[38;5;241m=\u001b[39m\u001b[38;5;124m\"\u001b[39m\u001b[38;5;124maccuracy\u001b[39m\u001b[38;5;124m\"\u001b[39m)\u001b[38;5;241m.\u001b[39mmean()\u001b[38;5;241m*\u001b[39m\u001b[38;5;241m100\u001b[39m,\u001b[38;5;241m2\u001b[39m)\u001b[38;5;132;01m}\u001b[39;00m\u001b[38;5;124m%\u001b[39m\u001b[38;5;124m'\u001b[39m)\n\u001b[0;32m---> 20\u001b[0m \u001b[38;5;28mprint\u001b[39m(\u001b[38;5;124mf\u001b[39m\u001b[38;5;124m'\u001b[39m\u001b[38;5;124mGaussianNB : \u001b[39m\u001b[38;5;132;01m{\u001b[39;00m\u001b[38;5;28mround\u001b[39m(\u001b[43mcross_val_score\u001b[49m\u001b[43m(\u001b[49m\u001b[43mNBC\u001b[49m\u001b[43m,\u001b[49m\u001b[43mz_train\u001b[49m\u001b[43m,\u001b[49m\u001b[43my\u001b[49m\u001b[43m,\u001b[49m\u001b[43mcv\u001b[49m\u001b[38;5;241;43m=\u001b[39;49m\u001b[43mSKF\u001b[49m\u001b[43m,\u001b[49m\u001b[43mscoring\u001b[49m\u001b[38;5;241;43m=\u001b[39;49m\u001b[38;5;124;43m\"\u001b[39;49m\u001b[38;5;124;43maccuracy\u001b[39;49m\u001b[38;5;124;43m\"\u001b[39;49m\u001b[43m)\u001b[49m\u001b[38;5;241m.\u001b[39mmean()\u001b[38;5;241m*\u001b[39m\u001b[38;5;241m100\u001b[39m,\u001b[38;5;241m2\u001b[39m)\u001b[38;5;132;01m}\u001b[39;00m\u001b[38;5;124m%\u001b[39m\u001b[38;5;124m'\u001b[39m)\n",
      "File \u001b[0;32m/opt/conda/lib/python3.10/site-packages/sklearn/model_selection/_validation.py:515\u001b[0m, in \u001b[0;36mcross_val_score\u001b[0;34m(estimator, X, y, groups, scoring, cv, n_jobs, verbose, fit_params, pre_dispatch, error_score)\u001b[0m\n\u001b[1;32m    512\u001b[0m \u001b[38;5;66;03m# To ensure multimetric format is not supported\u001b[39;00m\n\u001b[1;32m    513\u001b[0m scorer \u001b[38;5;241m=\u001b[39m check_scoring(estimator, scoring\u001b[38;5;241m=\u001b[39mscoring)\n\u001b[0;32m--> 515\u001b[0m cv_results \u001b[38;5;241m=\u001b[39m \u001b[43mcross_validate\u001b[49m\u001b[43m(\u001b[49m\n\u001b[1;32m    516\u001b[0m \u001b[43m    \u001b[49m\u001b[43mestimator\u001b[49m\u001b[38;5;241;43m=\u001b[39;49m\u001b[43mestimator\u001b[49m\u001b[43m,\u001b[49m\n\u001b[1;32m    517\u001b[0m \u001b[43m    \u001b[49m\u001b[43mX\u001b[49m\u001b[38;5;241;43m=\u001b[39;49m\u001b[43mX\u001b[49m\u001b[43m,\u001b[49m\n\u001b[1;32m    518\u001b[0m \u001b[43m    \u001b[49m\u001b[43my\u001b[49m\u001b[38;5;241;43m=\u001b[39;49m\u001b[43my\u001b[49m\u001b[43m,\u001b[49m\n\u001b[1;32m    519\u001b[0m \u001b[43m    \u001b[49m\u001b[43mgroups\u001b[49m\u001b[38;5;241;43m=\u001b[39;49m\u001b[43mgroups\u001b[49m\u001b[43m,\u001b[49m\n\u001b[1;32m    520\u001b[0m \u001b[43m    \u001b[49m\u001b[43mscoring\u001b[49m\u001b[38;5;241;43m=\u001b[39;49m\u001b[43m{\u001b[49m\u001b[38;5;124;43m\"\u001b[39;49m\u001b[38;5;124;43mscore\u001b[39;49m\u001b[38;5;124;43m\"\u001b[39;49m\u001b[43m:\u001b[49m\u001b[43m \u001b[49m\u001b[43mscorer\u001b[49m\u001b[43m}\u001b[49m\u001b[43m,\u001b[49m\n\u001b[1;32m    521\u001b[0m \u001b[43m    \u001b[49m\u001b[43mcv\u001b[49m\u001b[38;5;241;43m=\u001b[39;49m\u001b[43mcv\u001b[49m\u001b[43m,\u001b[49m\n\u001b[1;32m    522\u001b[0m \u001b[43m    \u001b[49m\u001b[43mn_jobs\u001b[49m\u001b[38;5;241;43m=\u001b[39;49m\u001b[43mn_jobs\u001b[49m\u001b[43m,\u001b[49m\n\u001b[1;32m    523\u001b[0m \u001b[43m    \u001b[49m\u001b[43mverbose\u001b[49m\u001b[38;5;241;43m=\u001b[39;49m\u001b[43mverbose\u001b[49m\u001b[43m,\u001b[49m\n\u001b[1;32m    524\u001b[0m \u001b[43m    \u001b[49m\u001b[43mfit_params\u001b[49m\u001b[38;5;241;43m=\u001b[39;49m\u001b[43mfit_params\u001b[49m\u001b[43m,\u001b[49m\n\u001b[1;32m    525\u001b[0m \u001b[43m    \u001b[49m\u001b[43mpre_dispatch\u001b[49m\u001b[38;5;241;43m=\u001b[39;49m\u001b[43mpre_dispatch\u001b[49m\u001b[43m,\u001b[49m\n\u001b[1;32m    526\u001b[0m \u001b[43m    \u001b[49m\u001b[43merror_score\u001b[49m\u001b[38;5;241;43m=\u001b[39;49m\u001b[43merror_score\u001b[49m\u001b[43m,\u001b[49m\n\u001b[1;32m    527\u001b[0m \u001b[43m\u001b[49m\u001b[43m)\u001b[49m\n\u001b[1;32m    528\u001b[0m \u001b[38;5;28;01mreturn\u001b[39;00m cv_results[\u001b[38;5;124m\"\u001b[39m\u001b[38;5;124mtest_score\u001b[39m\u001b[38;5;124m\"\u001b[39m]\n",
      "File \u001b[0;32m/opt/conda/lib/python3.10/site-packages/sklearn/model_selection/_validation.py:266\u001b[0m, in \u001b[0;36mcross_validate\u001b[0;34m(estimator, X, y, groups, scoring, cv, n_jobs, verbose, fit_params, pre_dispatch, return_train_score, return_estimator, error_score)\u001b[0m\n\u001b[1;32m    263\u001b[0m \u001b[38;5;66;03m# We clone the estimator to make sure that all the folds are\u001b[39;00m\n\u001b[1;32m    264\u001b[0m \u001b[38;5;66;03m# independent, and that it is pickle-able.\u001b[39;00m\n\u001b[1;32m    265\u001b[0m parallel \u001b[38;5;241m=\u001b[39m Parallel(n_jobs\u001b[38;5;241m=\u001b[39mn_jobs, verbose\u001b[38;5;241m=\u001b[39mverbose, pre_dispatch\u001b[38;5;241m=\u001b[39mpre_dispatch)\n\u001b[0;32m--> 266\u001b[0m results \u001b[38;5;241m=\u001b[39m \u001b[43mparallel\u001b[49m\u001b[43m(\u001b[49m\n\u001b[1;32m    267\u001b[0m \u001b[43m    \u001b[49m\u001b[43mdelayed\u001b[49m\u001b[43m(\u001b[49m\u001b[43m_fit_and_score\u001b[49m\u001b[43m)\u001b[49m\u001b[43m(\u001b[49m\n\u001b[1;32m    268\u001b[0m \u001b[43m        \u001b[49m\u001b[43mclone\u001b[49m\u001b[43m(\u001b[49m\u001b[43mestimator\u001b[49m\u001b[43m)\u001b[49m\u001b[43m,\u001b[49m\n\u001b[1;32m    269\u001b[0m \u001b[43m        \u001b[49m\u001b[43mX\u001b[49m\u001b[43m,\u001b[49m\n\u001b[1;32m    270\u001b[0m \u001b[43m        \u001b[49m\u001b[43my\u001b[49m\u001b[43m,\u001b[49m\n\u001b[1;32m    271\u001b[0m \u001b[43m        \u001b[49m\u001b[43mscorers\u001b[49m\u001b[43m,\u001b[49m\n\u001b[1;32m    272\u001b[0m \u001b[43m        \u001b[49m\u001b[43mtrain\u001b[49m\u001b[43m,\u001b[49m\n\u001b[1;32m    273\u001b[0m \u001b[43m        \u001b[49m\u001b[43mtest\u001b[49m\u001b[43m,\u001b[49m\n\u001b[1;32m    274\u001b[0m \u001b[43m        \u001b[49m\u001b[43mverbose\u001b[49m\u001b[43m,\u001b[49m\n\u001b[1;32m    275\u001b[0m \u001b[43m        \u001b[49m\u001b[38;5;28;43;01mNone\u001b[39;49;00m\u001b[43m,\u001b[49m\n\u001b[1;32m    276\u001b[0m \u001b[43m        \u001b[49m\u001b[43mfit_params\u001b[49m\u001b[43m,\u001b[49m\n\u001b[1;32m    277\u001b[0m \u001b[43m        \u001b[49m\u001b[43mreturn_train_score\u001b[49m\u001b[38;5;241;43m=\u001b[39;49m\u001b[43mreturn_train_score\u001b[49m\u001b[43m,\u001b[49m\n\u001b[1;32m    278\u001b[0m \u001b[43m        \u001b[49m\u001b[43mreturn_times\u001b[49m\u001b[38;5;241;43m=\u001b[39;49m\u001b[38;5;28;43;01mTrue\u001b[39;49;00m\u001b[43m,\u001b[49m\n\u001b[1;32m    279\u001b[0m \u001b[43m        \u001b[49m\u001b[43mreturn_estimator\u001b[49m\u001b[38;5;241;43m=\u001b[39;49m\u001b[43mreturn_estimator\u001b[49m\u001b[43m,\u001b[49m\n\u001b[1;32m    280\u001b[0m \u001b[43m        \u001b[49m\u001b[43merror_score\u001b[49m\u001b[38;5;241;43m=\u001b[39;49m\u001b[43merror_score\u001b[49m\u001b[43m,\u001b[49m\n\u001b[1;32m    281\u001b[0m \u001b[43m    \u001b[49m\u001b[43m)\u001b[49m\n\u001b[1;32m    282\u001b[0m \u001b[43m    \u001b[49m\u001b[38;5;28;43;01mfor\u001b[39;49;00m\u001b[43m \u001b[49m\u001b[43mtrain\u001b[49m\u001b[43m,\u001b[49m\u001b[43m \u001b[49m\u001b[43mtest\u001b[49m\u001b[43m \u001b[49m\u001b[38;5;129;43;01min\u001b[39;49;00m\u001b[43m \u001b[49m\u001b[43mcv\u001b[49m\u001b[38;5;241;43m.\u001b[39;49m\u001b[43msplit\u001b[49m\u001b[43m(\u001b[49m\u001b[43mX\u001b[49m\u001b[43m,\u001b[49m\u001b[43m \u001b[49m\u001b[43my\u001b[49m\u001b[43m,\u001b[49m\u001b[43m \u001b[49m\u001b[43mgroups\u001b[49m\u001b[43m)\u001b[49m\n\u001b[1;32m    283\u001b[0m \u001b[43m\u001b[49m\u001b[43m)\u001b[49m\n\u001b[1;32m    285\u001b[0m _warn_or_raise_about_fit_failures(results, error_score)\n\u001b[1;32m    287\u001b[0m \u001b[38;5;66;03m# For callabe scoring, the return type is only know after calling. If the\u001b[39;00m\n\u001b[1;32m    288\u001b[0m \u001b[38;5;66;03m# return type is a dictionary, the error scores can now be inserted with\u001b[39;00m\n\u001b[1;32m    289\u001b[0m \u001b[38;5;66;03m# the correct key.\u001b[39;00m\n",
      "File \u001b[0;32m/opt/conda/lib/python3.10/site-packages/sklearn/utils/parallel.py:63\u001b[0m, in \u001b[0;36mParallel.__call__\u001b[0;34m(self, iterable)\u001b[0m\n\u001b[1;32m     58\u001b[0m config \u001b[38;5;241m=\u001b[39m get_config()\n\u001b[1;32m     59\u001b[0m iterable_with_config \u001b[38;5;241m=\u001b[39m (\n\u001b[1;32m     60\u001b[0m     (_with_config(delayed_func, config), args, kwargs)\n\u001b[1;32m     61\u001b[0m     \u001b[38;5;28;01mfor\u001b[39;00m delayed_func, args, kwargs \u001b[38;5;129;01min\u001b[39;00m iterable\n\u001b[1;32m     62\u001b[0m )\n\u001b[0;32m---> 63\u001b[0m \u001b[38;5;28;01mreturn\u001b[39;00m \u001b[38;5;28;43msuper\u001b[39;49m\u001b[43m(\u001b[49m\u001b[43m)\u001b[49m\u001b[38;5;241;43m.\u001b[39;49m\u001b[38;5;21;43m__call__\u001b[39;49m\u001b[43m(\u001b[49m\u001b[43miterable_with_config\u001b[49m\u001b[43m)\u001b[49m\n",
      "File \u001b[0;32m/opt/conda/lib/python3.10/site-packages/joblib/parallel.py:1863\u001b[0m, in \u001b[0;36mParallel.__call__\u001b[0;34m(self, iterable)\u001b[0m\n\u001b[1;32m   1861\u001b[0m     output \u001b[38;5;241m=\u001b[39m \u001b[38;5;28mself\u001b[39m\u001b[38;5;241m.\u001b[39m_get_sequential_output(iterable)\n\u001b[1;32m   1862\u001b[0m     \u001b[38;5;28mnext\u001b[39m(output)\n\u001b[0;32m-> 1863\u001b[0m     \u001b[38;5;28;01mreturn\u001b[39;00m output \u001b[38;5;28;01mif\u001b[39;00m \u001b[38;5;28mself\u001b[39m\u001b[38;5;241m.\u001b[39mreturn_generator \u001b[38;5;28;01melse\u001b[39;00m \u001b[38;5;28;43mlist\u001b[39;49m\u001b[43m(\u001b[49m\u001b[43moutput\u001b[49m\u001b[43m)\u001b[49m\n\u001b[1;32m   1865\u001b[0m \u001b[38;5;66;03m# Let's create an ID that uniquely identifies the current call. If the\u001b[39;00m\n\u001b[1;32m   1866\u001b[0m \u001b[38;5;66;03m# call is interrupted early and that the same instance is immediately\u001b[39;00m\n\u001b[1;32m   1867\u001b[0m \u001b[38;5;66;03m# re-used, this id will be used to prevent workers that were\u001b[39;00m\n\u001b[1;32m   1868\u001b[0m \u001b[38;5;66;03m# concurrently finalizing a task from the previous call to run the\u001b[39;00m\n\u001b[1;32m   1869\u001b[0m \u001b[38;5;66;03m# callback.\u001b[39;00m\n\u001b[1;32m   1870\u001b[0m \u001b[38;5;28;01mwith\u001b[39;00m \u001b[38;5;28mself\u001b[39m\u001b[38;5;241m.\u001b[39m_lock:\n",
      "File \u001b[0;32m/opt/conda/lib/python3.10/site-packages/joblib/parallel.py:1789\u001b[0m, in \u001b[0;36mParallel._get_sequential_output\u001b[0;34m(self, iterable)\u001b[0m\n\u001b[1;32m   1786\u001b[0m \u001b[38;5;28;01myield\u001b[39;00m \u001b[38;5;28;01mNone\u001b[39;00m\n\u001b[1;32m   1788\u001b[0m \u001b[38;5;66;03m# Sequentially call the tasks and yield the results.\u001b[39;00m\n\u001b[0;32m-> 1789\u001b[0m \u001b[38;5;28;01mfor\u001b[39;00m func, args, kwargs \u001b[38;5;129;01min\u001b[39;00m iterable:\n\u001b[1;32m   1790\u001b[0m     \u001b[38;5;28mself\u001b[39m\u001b[38;5;241m.\u001b[39mn_dispatched_batches \u001b[38;5;241m+\u001b[39m\u001b[38;5;241m=\u001b[39m \u001b[38;5;241m1\u001b[39m\n\u001b[1;32m   1791\u001b[0m     \u001b[38;5;28mself\u001b[39m\u001b[38;5;241m.\u001b[39mn_dispatched_tasks \u001b[38;5;241m+\u001b[39m\u001b[38;5;241m=\u001b[39m \u001b[38;5;241m1\u001b[39m\n",
      "File \u001b[0;32m/opt/conda/lib/python3.10/site-packages/sklearn/utils/parallel.py:59\u001b[0m, in \u001b[0;36m<genexpr>\u001b[0;34m(.0)\u001b[0m\n\u001b[1;32m     54\u001b[0m \u001b[38;5;66;03m# Capture the thread-local scikit-learn configuration at the time\u001b[39;00m\n\u001b[1;32m     55\u001b[0m \u001b[38;5;66;03m# Parallel.__call__ is issued since the tasks can be dispatched\u001b[39;00m\n\u001b[1;32m     56\u001b[0m \u001b[38;5;66;03m# in a different thread depending on the backend and on the value of\u001b[39;00m\n\u001b[1;32m     57\u001b[0m \u001b[38;5;66;03m# pre_dispatch and n_jobs.\u001b[39;00m\n\u001b[1;32m     58\u001b[0m config \u001b[38;5;241m=\u001b[39m get_config()\n\u001b[0;32m---> 59\u001b[0m iterable_with_config \u001b[38;5;241m=\u001b[39m (\n\u001b[1;32m     60\u001b[0m     (_with_config(delayed_func, config), args, kwargs)\n\u001b[1;32m     61\u001b[0m     \u001b[38;5;28;01mfor\u001b[39;00m delayed_func, args, kwargs \u001b[38;5;129;01min\u001b[39;00m iterable\n\u001b[1;32m     62\u001b[0m )\n\u001b[1;32m     63\u001b[0m \u001b[38;5;28;01mreturn\u001b[39;00m \u001b[38;5;28msuper\u001b[39m()\u001b[38;5;241m.\u001b[39m\u001b[38;5;21m__call__\u001b[39m(iterable_with_config)\n",
      "File \u001b[0;32m/opt/conda/lib/python3.10/site-packages/sklearn/model_selection/_validation.py:266\u001b[0m, in \u001b[0;36m<genexpr>\u001b[0;34m(.0)\u001b[0m\n\u001b[1;32m    263\u001b[0m \u001b[38;5;66;03m# We clone the estimator to make sure that all the folds are\u001b[39;00m\n\u001b[1;32m    264\u001b[0m \u001b[38;5;66;03m# independent, and that it is pickle-able.\u001b[39;00m\n\u001b[1;32m    265\u001b[0m parallel \u001b[38;5;241m=\u001b[39m Parallel(n_jobs\u001b[38;5;241m=\u001b[39mn_jobs, verbose\u001b[38;5;241m=\u001b[39mverbose, pre_dispatch\u001b[38;5;241m=\u001b[39mpre_dispatch)\n\u001b[0;32m--> 266\u001b[0m results \u001b[38;5;241m=\u001b[39m parallel(\n\u001b[1;32m    267\u001b[0m     delayed(_fit_and_score)(\n\u001b[1;32m    268\u001b[0m         clone(estimator),\n\u001b[1;32m    269\u001b[0m         X,\n\u001b[1;32m    270\u001b[0m         y,\n\u001b[1;32m    271\u001b[0m         scorers,\n\u001b[1;32m    272\u001b[0m         train,\n\u001b[1;32m    273\u001b[0m         test,\n\u001b[1;32m    274\u001b[0m         verbose,\n\u001b[1;32m    275\u001b[0m         \u001b[38;5;28;01mNone\u001b[39;00m,\n\u001b[1;32m    276\u001b[0m         fit_params,\n\u001b[1;32m    277\u001b[0m         return_train_score\u001b[38;5;241m=\u001b[39mreturn_train_score,\n\u001b[1;32m    278\u001b[0m         return_times\u001b[38;5;241m=\u001b[39m\u001b[38;5;28;01mTrue\u001b[39;00m,\n\u001b[1;32m    279\u001b[0m         return_estimator\u001b[38;5;241m=\u001b[39mreturn_estimator,\n\u001b[1;32m    280\u001b[0m         error_score\u001b[38;5;241m=\u001b[39merror_score,\n\u001b[1;32m    281\u001b[0m     )\n\u001b[1;32m    282\u001b[0m     \u001b[38;5;28;01mfor\u001b[39;00m train, test \u001b[38;5;129;01min\u001b[39;00m cv\u001b[38;5;241m.\u001b[39msplit(X, y, groups)\n\u001b[1;32m    283\u001b[0m )\n\u001b[1;32m    285\u001b[0m _warn_or_raise_about_fit_failures(results, error_score)\n\u001b[1;32m    287\u001b[0m \u001b[38;5;66;03m# For callabe scoring, the return type is only know after calling. If the\u001b[39;00m\n\u001b[1;32m    288\u001b[0m \u001b[38;5;66;03m# return type is a dictionary, the error scores can now be inserted with\u001b[39;00m\n\u001b[1;32m    289\u001b[0m \u001b[38;5;66;03m# the correct key.\u001b[39;00m\n",
      "File \u001b[0;32m/opt/conda/lib/python3.10/site-packages/sklearn/model_selection/_split.py:352\u001b[0m, in \u001b[0;36m_BaseKFold.split\u001b[0;34m(self, X, y, groups)\u001b[0m\n\u001b[1;32m    344\u001b[0m \u001b[38;5;28;01mif\u001b[39;00m \u001b[38;5;28mself\u001b[39m\u001b[38;5;241m.\u001b[39mn_splits \u001b[38;5;241m>\u001b[39m n_samples:\n\u001b[1;32m    345\u001b[0m     \u001b[38;5;28;01mraise\u001b[39;00m \u001b[38;5;167;01mValueError\u001b[39;00m(\n\u001b[1;32m    346\u001b[0m         (\n\u001b[1;32m    347\u001b[0m             \u001b[38;5;124m\"\u001b[39m\u001b[38;5;124mCannot have number of splits n_splits=\u001b[39m\u001b[38;5;132;01m{0}\u001b[39;00m\u001b[38;5;124m greater\u001b[39m\u001b[38;5;124m\"\u001b[39m\n\u001b[1;32m    348\u001b[0m             \u001b[38;5;124m\"\u001b[39m\u001b[38;5;124m than the number of samples: n_samples=\u001b[39m\u001b[38;5;132;01m{1}\u001b[39;00m\u001b[38;5;124m.\u001b[39m\u001b[38;5;124m\"\u001b[39m\n\u001b[1;32m    349\u001b[0m         )\u001b[38;5;241m.\u001b[39mformat(\u001b[38;5;28mself\u001b[39m\u001b[38;5;241m.\u001b[39mn_splits, n_samples)\n\u001b[1;32m    350\u001b[0m     )\n\u001b[0;32m--> 352\u001b[0m \u001b[38;5;28;01mfor\u001b[39;00m train, test \u001b[38;5;129;01min\u001b[39;00m \u001b[38;5;28msuper\u001b[39m()\u001b[38;5;241m.\u001b[39msplit(X, y, groups):\n\u001b[1;32m    353\u001b[0m     \u001b[38;5;28;01myield\u001b[39;00m train, test\n",
      "File \u001b[0;32m/opt/conda/lib/python3.10/site-packages/sklearn/model_selection/_split.py:85\u001b[0m, in \u001b[0;36mBaseCrossValidator.split\u001b[0;34m(self, X, y, groups)\u001b[0m\n\u001b[1;32m     83\u001b[0m X, y, groups \u001b[38;5;241m=\u001b[39m indexable(X, y, groups)\n\u001b[1;32m     84\u001b[0m indices \u001b[38;5;241m=\u001b[39m np\u001b[38;5;241m.\u001b[39marange(_num_samples(X))\n\u001b[0;32m---> 85\u001b[0m \u001b[38;5;28;01mfor\u001b[39;00m test_index \u001b[38;5;129;01min\u001b[39;00m \u001b[38;5;28mself\u001b[39m\u001b[38;5;241m.\u001b[39m_iter_test_masks(X, y, groups):\n\u001b[1;32m     86\u001b[0m     train_index \u001b[38;5;241m=\u001b[39m indices[np\u001b[38;5;241m.\u001b[39mlogical_not(test_index)]\n\u001b[1;32m     87\u001b[0m     test_index \u001b[38;5;241m=\u001b[39m indices[test_index]\n",
      "File \u001b[0;32m/opt/conda/lib/python3.10/site-packages/sklearn/model_selection/_split.py:733\u001b[0m, in \u001b[0;36mStratifiedKFold._iter_test_masks\u001b[0;34m(self, X, y, groups)\u001b[0m\n\u001b[1;32m    732\u001b[0m \u001b[38;5;28;01mdef\u001b[39;00m \u001b[38;5;21m_iter_test_masks\u001b[39m(\u001b[38;5;28mself\u001b[39m, X, y\u001b[38;5;241m=\u001b[39m\u001b[38;5;28;01mNone\u001b[39;00m, groups\u001b[38;5;241m=\u001b[39m\u001b[38;5;28;01mNone\u001b[39;00m):\n\u001b[0;32m--> 733\u001b[0m     test_folds \u001b[38;5;241m=\u001b[39m \u001b[38;5;28;43mself\u001b[39;49m\u001b[38;5;241;43m.\u001b[39;49m\u001b[43m_make_test_folds\u001b[49m\u001b[43m(\u001b[49m\u001b[43mX\u001b[49m\u001b[43m,\u001b[49m\u001b[43m \u001b[49m\u001b[43my\u001b[49m\u001b[43m)\u001b[49m\n\u001b[1;32m    734\u001b[0m     \u001b[38;5;28;01mfor\u001b[39;00m i \u001b[38;5;129;01min\u001b[39;00m \u001b[38;5;28mrange\u001b[39m(\u001b[38;5;28mself\u001b[39m\u001b[38;5;241m.\u001b[39mn_splits):\n\u001b[1;32m    735\u001b[0m         \u001b[38;5;28;01myield\u001b[39;00m test_folds \u001b[38;5;241m==\u001b[39m i\n",
      "File \u001b[0;32m/opt/conda/lib/python3.10/site-packages/sklearn/model_selection/_split.py:676\u001b[0m, in \u001b[0;36mStratifiedKFold._make_test_folds\u001b[0;34m(self, X, y)\u001b[0m\n\u001b[1;32m    674\u001b[0m allowed_target_types \u001b[38;5;241m=\u001b[39m (\u001b[38;5;124m\"\u001b[39m\u001b[38;5;124mbinary\u001b[39m\u001b[38;5;124m\"\u001b[39m, \u001b[38;5;124m\"\u001b[39m\u001b[38;5;124mmulticlass\u001b[39m\u001b[38;5;124m\"\u001b[39m)\n\u001b[1;32m    675\u001b[0m \u001b[38;5;28;01mif\u001b[39;00m type_of_target_y \u001b[38;5;129;01mnot\u001b[39;00m \u001b[38;5;129;01min\u001b[39;00m allowed_target_types:\n\u001b[0;32m--> 676\u001b[0m     \u001b[38;5;28;01mraise\u001b[39;00m \u001b[38;5;167;01mValueError\u001b[39;00m(\n\u001b[1;32m    677\u001b[0m         \u001b[38;5;124m\"\u001b[39m\u001b[38;5;124mSupported target types are: \u001b[39m\u001b[38;5;132;01m{}\u001b[39;00m\u001b[38;5;124m. Got \u001b[39m\u001b[38;5;132;01m{!r}\u001b[39;00m\u001b[38;5;124m instead.\u001b[39m\u001b[38;5;124m\"\u001b[39m\u001b[38;5;241m.\u001b[39mformat(\n\u001b[1;32m    678\u001b[0m             allowed_target_types, type_of_target_y\n\u001b[1;32m    679\u001b[0m         )\n\u001b[1;32m    680\u001b[0m     )\n\u001b[1;32m    682\u001b[0m y \u001b[38;5;241m=\u001b[39m column_or_1d(y)\n\u001b[1;32m    684\u001b[0m _, y_idx, y_inv \u001b[38;5;241m=\u001b[39m np\u001b[38;5;241m.\u001b[39munique(y, return_index\u001b[38;5;241m=\u001b[39m\u001b[38;5;28;01mTrue\u001b[39;00m, return_inverse\u001b[38;5;241m=\u001b[39m\u001b[38;5;28;01mTrue\u001b[39;00m)\n",
      "\u001b[0;31mValueError\u001b[0m: Supported target types are: ('binary', 'multiclass'). Got 'multilabel-indicator' instead."
     ]
    }
   ],
   "source": [
    "from sklearn.model_selection import StratifiedKFold,cross_val_score\n",
    "from sklearn.linear_model import LogisticRegression\n",
    "from sklearn.tree import DecisionTreeClassifier\n",
    "from sklearn.ensemble import RandomForestClassifier\n",
    "from sklearn.neighbors import KNeighborsClassifier\n",
    "from sklearn.naive_bayes import GaussianNB\n",
    "\n",
    "LRM = LogisticRegression()\n",
    "DTC = DecisionTreeClassifier()\n",
    "RFC = RandomForestClassifier()\n",
    "KNC = KNeighborsClassifier()\n",
    "NBC = GaussianNB()\n",
    "\n",
    "SKF = StratifiedKFold(n_splits = 10, shuffle =True, random_state=10)\n",
    "\n",
    "print(f'LogisticRegression : {round(cross_val_score(LRM,z_train,Y,cv=SKF,scoring=\"accuracy\").mean()*100,2)}%')\n",
    "print(f'DecisionTreeClassifier : {round(cross_val_score(DTC,z_train,Y,cv=SKF,scoring=\"accuracy\").mean()*100,2)}%')\n",
    "print(f'RandomForestClassifier : {round(cross_val_score(RFC,z_train,Y,cv=SKF,scoring=\"accuracy\").mean()*100,2)}%')\n",
    "print(f'KNeighborsClassifier : {round(cross_val_score(KNC,z_train,Y,cv=SKF,scoring=\"accuracy\").mean()*100,2)}%')\n",
    "print(f'GaussianNB : {round(cross_val_score(NBC,z_train,y,cv=SKF,scoring=\"accuracy\").mean()*100,2)}%')"
   ]
  },
  {
   "cell_type": "code",
   "execution_count": null,
   "id": "f4eaea5f",
   "metadata": {
    "papermill": {
     "duration": null,
     "end_time": null,
     "exception": null,
     "start_time": null,
     "status": "pending"
    },
    "tags": []
   },
   "outputs": [],
   "source": []
  },
  {
   "cell_type": "code",
   "execution_count": null,
   "id": "d63182fc",
   "metadata": {
    "papermill": {
     "duration": null,
     "end_time": null,
     "exception": null,
     "start_time": null,
     "status": "pending"
    },
    "tags": []
   },
   "outputs": [],
   "source": []
  },
  {
   "cell_type": "code",
   "execution_count": null,
   "id": "526435a7",
   "metadata": {
    "papermill": {
     "duration": null,
     "end_time": null,
     "exception": null,
     "start_time": null,
     "status": "pending"
    },
    "tags": []
   },
   "outputs": [],
   "source": []
  },
  {
   "cell_type": "code",
   "execution_count": null,
   "id": "e21f1e58",
   "metadata": {
    "execution": {
     "iopub.execute_input": "2023-10-13T18:44:01.591072Z",
     "iopub.status.busy": "2023-10-13T18:44:01.588824Z",
     "iopub.status.idle": "2023-10-13T18:44:01.602182Z",
     "shell.execute_reply": "2023-10-13T18:44:01.601407Z",
     "shell.execute_reply.started": "2023-10-13T18:44:01.591030Z"
    },
    "papermill": {
     "duration": null,
     "end_time": null,
     "exception": null,
     "start_time": null,
     "status": "pending"
    },
    "tags": []
   },
   "outputs": [],
   "source": [
    "# Evaluate the model\n",
    "rmse2 = mean_squared_error(y_test, y_preds, squared=False)\n",
    "rmse2"
   ]
  },
  {
   "cell_type": "code",
   "execution_count": null,
   "id": "2e64d56f",
   "metadata": {
    "execution": {
     "iopub.execute_input": "2023-10-13T18:44:01.607102Z",
     "iopub.status.busy": "2023-10-13T18:44:01.606699Z",
     "iopub.status.idle": "2023-10-13T18:44:01.612819Z",
     "shell.execute_reply": "2023-10-13T18:44:01.611662Z",
     "shell.execute_reply.started": "2023-10-13T18:44:01.607073Z"
    },
    "papermill": {
     "duration": null,
     "end_time": null,
     "exception": null,
     "start_time": null,
     "status": "pending"
    },
    "tags": []
   },
   "outputs": [],
   "source": [
    "def change_highest_three_to_one(numbers):\n",
    "    # Sort the list in descending order\n",
    "    sorted_numbers = sorted(numbers, reverse=True)\n",
    "    \n",
    "    # Identify the three highest values\n",
    "    highest_values = sorted_numbers[:3]\n",
    "    \n",
    "    # Replace the three highest values with '1'\n",
    "    for i in range(len(numbers)):\n",
    "        if numbers[i] in highest_values:\n",
    "            numbers[i] = int(1)\n",
    "        else:\n",
    "            numbers[i] = int(0)\n",
    "    \n",
    "    return numbers"
   ]
  },
  {
   "cell_type": "code",
   "execution_count": null,
   "id": "bbd12f5a",
   "metadata": {
    "execution": {
     "iopub.execute_input": "2023-10-13T18:44:01.615526Z",
     "iopub.status.busy": "2023-10-13T18:44:01.615072Z",
     "iopub.status.idle": "2023-10-13T18:44:01.738991Z",
     "shell.execute_reply": "2023-10-13T18:44:01.737765Z",
     "shell.execute_reply.started": "2023-10-13T18:44:01.615488Z"
    },
    "papermill": {
     "duration": null,
     "end_time": null,
     "exception": null,
     "start_time": null,
     "status": "pending"
    },
    "tags": []
   },
   "outputs": [],
   "source": [
    "for i, row in enumerate(y_preds):\n",
    "    y_preds[i] = change_highest_three_to_one(row)\n",
    "y_preds = y_preds.astype(int)\n",
    "y_preds[:10]"
   ]
  },
  {
   "cell_type": "code",
   "execution_count": null,
   "id": "c21c7046",
   "metadata": {
    "execution": {
     "iopub.execute_input": "2023-10-13T18:44:01.741221Z",
     "iopub.status.busy": "2023-10-13T18:44:01.740373Z",
     "iopub.status.idle": "2023-10-13T18:44:01.876316Z",
     "shell.execute_reply": "2023-10-13T18:44:01.875388Z",
     "shell.execute_reply.started": "2023-10-13T18:44:01.741178Z"
    },
    "papermill": {
     "duration": null,
     "end_time": null,
     "exception": null,
     "start_time": null,
     "status": "pending"
    },
    "tags": []
   },
   "outputs": [],
   "source": [
    "y_pred_sub = []\n",
    "for row in y_preds:\n",
    "    string_ints = [str(int) for int in row]\n",
    "    y_pred_sub.append(''.join(string_ints))\n",
    "y_pred_sub[:10]"
   ]
  },
  {
   "cell_type": "code",
   "execution_count": null,
   "id": "ad729558",
   "metadata": {
    "execution": {
     "iopub.execute_input": "2023-10-13T18:44:01.877966Z",
     "iopub.status.busy": "2023-10-13T18:44:01.877683Z",
     "iopub.status.idle": "2023-10-13T18:44:01.906297Z",
     "shell.execute_reply": "2023-10-13T18:44:01.905288Z",
     "shell.execute_reply.started": "2023-10-13T18:44:01.877941Z"
    },
    "papermill": {
     "duration": null,
     "end_time": null,
     "exception": null,
     "start_time": null,
     "status": "pending"
    },
    "tags": []
   },
   "outputs": [],
   "source": [
    "X_test_final"
   ]
  },
  {
   "cell_type": "code",
   "execution_count": null,
   "id": "103af691",
   "metadata": {
    "execution": {
     "iopub.execute_input": "2023-10-13T18:44:01.908012Z",
     "iopub.status.busy": "2023-10-13T18:44:01.907642Z",
     "iopub.status.idle": "2023-10-13T18:44:02.207071Z",
     "shell.execute_reply": "2023-10-13T18:44:02.206094Z",
     "shell.execute_reply.started": "2023-10-13T18:44:01.907985Z"
    },
    "papermill": {
     "duration": null,
     "end_time": null,
     "exception": null,
     "start_time": null,
     "status": "pending"
    },
    "tags": []
   },
   "outputs": [],
   "source": [
    "indexes = X_test_final['id']\n",
    "X_test_final.drop(columns='id',inplace=True)\n",
    "y_test_preds = xg_reg.predict(X_test_final)\n",
    "y_test_preds"
   ]
  },
  {
   "cell_type": "code",
   "execution_count": null,
   "id": "a59436f8",
   "metadata": {
    "execution": {
     "iopub.execute_input": "2023-10-13T18:44:02.208846Z",
     "iopub.status.busy": "2023-10-13T18:44:02.208428Z",
     "iopub.status.idle": "2023-10-13T18:44:02.216151Z",
     "shell.execute_reply": "2023-10-13T18:44:02.215457Z",
     "shell.execute_reply.started": "2023-10-13T18:44:02.208807Z"
    },
    "papermill": {
     "duration": null,
     "end_time": null,
     "exception": null,
     "start_time": null,
     "status": "pending"
    },
    "tags": []
   },
   "outputs": [],
   "source": [
    "y_test_preds.shape"
   ]
  },
  {
   "cell_type": "code",
   "execution_count": null,
   "id": "6888b982",
   "metadata": {
    "execution": {
     "iopub.execute_input": "2023-10-13T18:44:02.217843Z",
     "iopub.status.busy": "2023-10-13T18:44:02.217521Z",
     "iopub.status.idle": "2023-10-13T18:44:02.305389Z",
     "shell.execute_reply": "2023-10-13T18:44:02.304594Z",
     "shell.execute_reply.started": "2023-10-13T18:44:02.217816Z"
    },
    "papermill": {
     "duration": null,
     "end_time": null,
     "exception": null,
     "start_time": null,
     "status": "pending"
    },
    "tags": []
   },
   "outputs": [],
   "source": [
    "for i, row in enumerate(y_test_preds):\n",
    "    y_test_preds[i] = change_highest_three_to_one(row)\n",
    "y_test_preds = y_test_preds.astype(int)\n",
    "y_test_preds[:10]"
   ]
  },
  {
   "cell_type": "code",
   "execution_count": null,
   "id": "f3ff91c9",
   "metadata": {
    "execution": {
     "iopub.execute_input": "2023-10-13T18:44:02.307274Z",
     "iopub.status.busy": "2023-10-13T18:44:02.306499Z",
     "iopub.status.idle": "2023-10-13T18:44:02.313586Z",
     "shell.execute_reply": "2023-10-13T18:44:02.312731Z",
     "shell.execute_reply.started": "2023-10-13T18:44:02.307243Z"
    },
    "papermill": {
     "duration": null,
     "end_time": null,
     "exception": null,
     "start_time": null,
     "status": "pending"
    },
    "tags": []
   },
   "outputs": [],
   "source": [
    "y_test_preds.shape"
   ]
  },
  {
   "cell_type": "code",
   "execution_count": null,
   "id": "6db14ffa",
   "metadata": {
    "execution": {
     "iopub.execute_input": "2023-10-13T18:44:02.315717Z",
     "iopub.status.busy": "2023-10-13T18:44:02.314809Z",
     "iopub.status.idle": "2023-10-13T18:44:02.416454Z",
     "shell.execute_reply": "2023-10-13T18:44:02.415314Z",
     "shell.execute_reply.started": "2023-10-13T18:44:02.315687Z"
    },
    "papermill": {
     "duration": null,
     "end_time": null,
     "exception": null,
     "start_time": null,
     "status": "pending"
    },
    "tags": []
   },
   "outputs": [],
   "source": [
    "y_test_pred_sub = []\n",
    "for row in y_test_preds:\n",
    "    string_ints = [str(int) for int in row]\n",
    "    y_test_pred_sub.append(''.join(string_ints))\n",
    "y_test_pred_sub[:10]\n",
    "len(y_test_pred_sub)"
   ]
  },
  {
   "cell_type": "code",
   "execution_count": null,
   "id": "9fb27d2c",
   "metadata": {
    "execution": {
     "iopub.execute_input": "2023-10-13T18:44:02.418422Z",
     "iopub.status.busy": "2023-10-13T18:44:02.417877Z",
     "iopub.status.idle": "2023-10-13T18:44:02.425548Z",
     "shell.execute_reply": "2023-10-13T18:44:02.424485Z",
     "shell.execute_reply.started": "2023-10-13T18:44:02.418379Z"
    },
    "papermill": {
     "duration": null,
     "end_time": null,
     "exception": null,
     "start_time": null,
     "status": "pending"
    },
    "tags": []
   },
   "outputs": [],
   "source": [
    "len(indexes)"
   ]
  },
  {
   "cell_type": "code",
   "execution_count": null,
   "id": "995a1b94",
   "metadata": {
    "execution": {
     "iopub.execute_input": "2023-10-13T18:44:02.427068Z",
     "iopub.status.busy": "2023-10-13T18:44:02.426779Z",
     "iopub.status.idle": "2023-10-13T18:44:02.443223Z",
     "shell.execute_reply": "2023-10-13T18:44:02.442131Z",
     "shell.execute_reply.started": "2023-10-13T18:44:02.427043Z"
    },
    "papermill": {
     "duration": null,
     "end_time": null,
     "exception": null,
     "start_time": null,
     "status": "pending"
    },
    "tags": []
   },
   "outputs": [],
   "source": [
    "df_sub = pd.DataFrame(data={'id':indexes,'target':y_test_pred_sub})\n",
    "df_sub"
   ]
  },
  {
   "cell_type": "code",
   "execution_count": null,
   "id": "f8ad48ea",
   "metadata": {
    "execution": {
     "iopub.execute_input": "2023-10-13T18:44:02.445066Z",
     "iopub.status.busy": "2023-10-13T18:44:02.444611Z",
     "iopub.status.idle": "2023-10-13T18:44:02.482934Z",
     "shell.execute_reply": "2023-10-13T18:44:02.481928Z",
     "shell.execute_reply.started": "2023-10-13T18:44:02.445037Z"
    },
    "papermill": {
     "duration": null,
     "end_time": null,
     "exception": null,
     "start_time": null,
     "status": "pending"
    },
    "tags": []
   },
   "outputs": [],
   "source": [
    "f_path = \"/kaggle/working/submission.csv\"\n",
    "if os.path.isfile(f_path):\n",
    "    os.remove(f_path)\n",
    "\n",
    "df_sub.to_csv(path_or_buf=\"/kaggle/working/submission.csv\", index=False)"
   ]
  },
  {
   "cell_type": "markdown",
   "id": "45729770",
   "metadata": {
    "papermill": {
     "duration": null,
     "end_time": null,
     "exception": null,
     "start_time": null,
     "status": "pending"
    },
    "tags": []
   },
   "source": [
    "#### OPTUNA "
   ]
  },
  {
   "cell_type": "code",
   "execution_count": null,
   "id": "2e3daeba",
   "metadata": {
    "execution": {
     "iopub.execute_input": "2023-10-11T19:04:43.807004Z",
     "iopub.status.busy": "2023-10-11T19:04:43.806646Z",
     "iopub.status.idle": "2023-10-11T19:04:55.084774Z",
     "shell.execute_reply": "2023-10-11T19:04:55.083530Z",
     "shell.execute_reply.started": "2023-10-11T19:04:43.806977Z"
    },
    "papermill": {
     "duration": null,
     "end_time": null,
     "exception": null,
     "start_time": null,
     "status": "pending"
    },
    "tags": []
   },
   "outputs": [],
   "source": [
    "!pip install optuna\n",
    "import optuna"
   ]
  },
  {
   "cell_type": "code",
   "execution_count": null,
   "id": "9a469aa7",
   "metadata": {
    "execution": {
     "iopub.execute_input": "2023-10-11T19:06:11.782933Z",
     "iopub.status.busy": "2023-10-11T19:06:11.782532Z",
     "iopub.status.idle": "2023-10-11T19:06:11.848305Z",
     "shell.execute_reply": "2023-10-11T19:06:11.846935Z",
     "shell.execute_reply.started": "2023-10-11T19:06:11.782903Z"
    },
    "papermill": {
     "duration": null,
     "end_time": null,
     "exception": null,
     "start_time": null,
     "status": "pending"
    },
    "tags": []
   },
   "outputs": [],
   "source": [
    "X_train, X_test, y_train, y_test = train_test_split(X, y, test_size=0.2, random_state=42)"
   ]
  },
  {
   "cell_type": "code",
   "execution_count": null,
   "id": "c0713485",
   "metadata": {
    "execution": {
     "iopub.execute_input": "2023-10-11T19:11:18.774260Z",
     "iopub.status.busy": "2023-10-11T19:11:18.773927Z",
     "iopub.status.idle": "2023-10-11T19:11:18.780881Z",
     "shell.execute_reply": "2023-10-11T19:11:18.779513Z",
     "shell.execute_reply.started": "2023-10-11T19:11:18.774233Z"
    },
    "papermill": {
     "duration": null,
     "end_time": null,
     "exception": null,
     "start_time": null,
     "status": "pending"
    },
    "tags": []
   },
   "outputs": [],
   "source": [
    "def objective(trial):\n",
    "    param = {\n",
    "        #'max_depth': trial.suggest_int('max_depth', 1, 10),\n",
    "        #'learning_rate': trial.suggest_float('learning_rate', 0.01, 1.0),\n",
    "        'n_estimators': trial.suggest_int('n_estimators', 500, 800)\n",
    "        #'min_child_weight': trial.suggest_int('min_child_weight', 1, 10),\n",
    "        #'gamma': trial.suggest_float('gamma', 0.01, 1.0),\n",
    "        #'subsample': trial.suggest_float('subsample', 0.01, 1.0),\n",
    "        #'colsample_bytree': trial.suggest_float('colsample_bytree', 0.01, 1.0),\n",
    "        #'reg_alpha': trial.suggest_float('reg_alpha', 0.01, 1.0),\n",
    "        #'reg_lambda': trial.suggest_float('reg_lambda', 0.01, 1.0),\n",
    "        #'random_state': trial.suggest_int('random_state', 42, 47)\n",
    "    }\n",
    "    model = xgb.XGBRegressor(**param)\n",
    "    model.fit(X_train, y_train)\n",
    "    y_pred = model.predict(X_test)\n",
    "    \n",
    "    return mean_squared_error(y_test, y_pred, squared=False)"
   ]
  },
  {
   "cell_type": "code",
   "execution_count": null,
   "id": "341aa106",
   "metadata": {
    "execution": {
     "iopub.execute_input": "2023-10-11T19:13:15.311738Z",
     "iopub.status.busy": "2023-10-11T19:13:15.311363Z",
     "iopub.status.idle": "2023-10-11T19:24:09.853122Z",
     "shell.execute_reply": "2023-10-11T19:24:09.851958Z",
     "shell.execute_reply.started": "2023-10-11T19:13:15.311709Z"
    },
    "papermill": {
     "duration": null,
     "end_time": null,
     "exception": null,
     "start_time": null,
     "status": "pending"
    },
    "tags": []
   },
   "outputs": [],
   "source": [
    "# Create the study\n",
    "study = optuna.create_study(direction='minimize', study_name='regression')\n",
    "study.optimize(objective, n_trials=4) #100"
   ]
  },
  {
   "cell_type": "code",
   "execution_count": null,
   "id": "96164ceb",
   "metadata": {
    "papermill": {
     "duration": null,
     "end_time": null,
     "exception": null,
     "start_time": null,
     "status": "pending"
    },
    "tags": []
   },
   "outputs": [],
   "source": [
    "print('Best parameters', study.best_params)"
   ]
  },
  {
   "cell_type": "code",
   "execution_count": null,
   "id": "f721ce48",
   "metadata": {
    "papermill": {
     "duration": null,
     "end_time": null,
     "exception": null,
     "start_time": null,
     "status": "pending"
    },
    "tags": []
   },
   "outputs": [],
   "source": [
    "# Print the best value\n",
    "print('Best value', study.best_value)"
   ]
  },
  {
   "cell_type": "code",
   "execution_count": null,
   "id": "e0366504",
   "metadata": {
    "papermill": {
     "duration": null,
     "end_time": null,
     "exception": null,
     "start_time": null,
     "status": "pending"
    },
    "tags": []
   },
   "outputs": [],
   "source": [
    "# Print the best trial\n",
    "print('Best trial', study.best_trial)"
   ]
  },
  {
   "cell_type": "code",
   "execution_count": null,
   "id": "a3ea5b27",
   "metadata": {
    "execution": {
     "iopub.status.busy": "2023-10-11T18:47:24.455640Z",
     "iopub.status.idle": "2023-10-11T18:47:24.456122Z",
     "shell.execute_reply": "2023-10-11T18:47:24.455892Z",
     "shell.execute_reply.started": "2023-10-11T18:47:24.455868Z"
    },
    "papermill": {
     "duration": null,
     "end_time": null,
     "exception": null,
     "start_time": null,
     "status": "pending"
    },
    "tags": []
   },
   "outputs": [],
   "source": [
    "#-------------------------------------------------------------------------------------------------"
   ]
  },
  {
   "cell_type": "code",
   "execution_count": null,
   "id": "5bde739c",
   "metadata": {
    "execution": {
     "iopub.status.busy": "2023-10-11T18:47:24.457548Z",
     "iopub.status.idle": "2023-10-11T18:47:24.458013Z",
     "shell.execute_reply": "2023-10-11T18:47:24.457798Z",
     "shell.execute_reply.started": "2023-10-11T18:47:24.457775Z"
    },
    "papermill": {
     "duration": null,
     "end_time": null,
     "exception": null,
     "start_time": null,
     "status": "pending"
    },
    "tags": []
   },
   "outputs": [],
   "source": [
    "#################################################################################################"
   ]
  }
 ],
 "metadata": {
  "kernelspec": {
   "display_name": "Python 3",
   "language": "python",
   "name": "python3"
  },
  "language_info": {
   "codemirror_mode": {
    "name": "ipython",
    "version": 3
   },
   "file_extension": ".py",
   "mimetype": "text/x-python",
   "name": "python",
   "nbconvert_exporter": "python",
   "pygments_lexer": "ipython3",
   "version": "3.10.12"
  },
  "papermill": {
   "default_parameters": {},
   "duration": 1324.846536,
   "end_time": "2023-10-13T22:10:22.713652",
   "environment_variables": {},
   "exception": true,
   "input_path": "__notebook__.ipynb",
   "output_path": "__notebook__.ipynb",
   "parameters": {},
   "start_time": "2023-10-13T21:48:17.867116",
   "version": "2.4.0"
  }
 },
 "nbformat": 4,
 "nbformat_minor": 5
}
